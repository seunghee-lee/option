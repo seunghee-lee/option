{
  "nbformat": 4,
  "nbformat_minor": 0,
  "metadata": {
    "colab": {
      "provenance": [],
      "authorship_tag": "ABX9TyMMHrijC9OOqi0KD8KSZ41D",
      "include_colab_link": true
    },
    "kernelspec": {
      "name": "python3",
      "display_name": "Python 3"
    },
    "language_info": {
      "name": "python"
    }
  },
  "cells": [
    {
      "cell_type": "markdown",
      "metadata": {
        "id": "view-in-github",
        "colab_type": "text"
      },
      "source": [
        "<a href=\"https://colab.research.google.com/github/seunghee-lee/option/blob/main/ELS_Monte_Carlo_simulation.ipynb\" target=\"_parent\"><img src=\"https://colab.research.google.com/assets/colab-badge.svg\" alt=\"Open In Colab\"/></a>"
      ]
    },
    {
      "cell_type": "markdown",
      "source": [
        "# 몬테카를로 시뮬레이션(Monte Carlo simulation)"
      ],
      "metadata": {
        "id": "tfHAOv3CW5Dz"
      }
    },
    {
      "cell_type": "markdown",
      "source": [
        "## Monte Carlo simulation 소개"
      ],
      "metadata": {
        "id": "4DgrJOdMW-A6"
      }
    },
    {
      "cell_type": "code",
      "execution_count": null,
      "metadata": {
        "id": "9aTN2MksW0Jq"
      },
      "outputs": [],
      "source": [
        "import numpy as np\n",
        "import matplotlib.pyplot as plt"
      ]
    },
    {
      "cell_type": "code",
      "source": [
        "N=1000000; count=0;\n",
        "x=np.zeros([N, 1]); y=np.zeros([N, 1])\n",
        "z=np.zeros([N, 1]); r=np.zeros([N, 1])"
      ],
      "metadata": {
        "id": "zGi28rW8ZBgQ"
      },
      "execution_count": null,
      "outputs": []
    },
    {
      "cell_type": "code",
      "source": [
        "x=2*np.random.random((N,1))-1\n",
        "y=2*np.random.random((N,1))-1\n",
        "z=np.power(x,2)+np.power(y,2)\n",
        "r=np.sqrt(z)"
      ],
      "metadata": {
        "id": "Ihtyw6IdZ8S5"
      },
      "execution_count": null,
      "outputs": []
    },
    {
      "cell_type": "code",
      "source": [
        "for i in range(N):\n",
        "    if r[i]<1:\n",
        "        count= count+1\n",
        "        plt.plot(x[i], y[i], 'bo', markersize=2)\n",
        "    else:\n",
        "        plt.plot(x[i], y[i], 'k*', markersize=2)\n",
        "t=np.linspace(0, 2*np.pi, 100)\n",
        "plt.plot(np.cos(t), np.sin(t), 'k', linewidth=2)\n",
        "plt.axis('image'); plt.show()"
      ],
      "metadata": {
        "colab": {
          "base_uri": "https://localhost:8080/",
          "height": 796
        },
        "id": "78UCb34vbL6w",
        "outputId": "37fdd729-7ecd-427b-a824-e0cede680bc9"
      },
      "execution_count": null,
      "outputs": [
        {
          "output_type": "error",
          "ename": "KeyboardInterrupt",
          "evalue": "",
          "traceback": [
            "\u001b[0;31m---------------------------------------------------------------------------\u001b[0m",
            "\u001b[0;31mKeyboardInterrupt\u001b[0m                         Traceback (most recent call last)",
            "\u001b[0;32m/tmp/ipython-input-8-2338295392.py\u001b[0m in \u001b[0;36m<cell line: 0>\u001b[0;34m()\u001b[0m\n\u001b[1;32m      4\u001b[0m         \u001b[0mplt\u001b[0m\u001b[0;34m.\u001b[0m\u001b[0mplot\u001b[0m\u001b[0;34m(\u001b[0m\u001b[0mx\u001b[0m\u001b[0;34m[\u001b[0m\u001b[0mi\u001b[0m\u001b[0;34m]\u001b[0m\u001b[0;34m,\u001b[0m \u001b[0my\u001b[0m\u001b[0;34m[\u001b[0m\u001b[0mi\u001b[0m\u001b[0;34m]\u001b[0m\u001b[0;34m,\u001b[0m \u001b[0;34m'bo'\u001b[0m\u001b[0;34m,\u001b[0m \u001b[0mmarkersize\u001b[0m\u001b[0;34m=\u001b[0m\u001b[0;36m2\u001b[0m\u001b[0;34m)\u001b[0m\u001b[0;34m\u001b[0m\u001b[0;34m\u001b[0m\u001b[0m\n\u001b[1;32m      5\u001b[0m     \u001b[0;32melse\u001b[0m\u001b[0;34m:\u001b[0m\u001b[0;34m\u001b[0m\u001b[0;34m\u001b[0m\u001b[0m\n\u001b[0;32m----> 6\u001b[0;31m         \u001b[0mplt\u001b[0m\u001b[0;34m.\u001b[0m\u001b[0mplot\u001b[0m\u001b[0;34m(\u001b[0m\u001b[0mx\u001b[0m\u001b[0;34m[\u001b[0m\u001b[0mi\u001b[0m\u001b[0;34m]\u001b[0m\u001b[0;34m,\u001b[0m \u001b[0my\u001b[0m\u001b[0;34m[\u001b[0m\u001b[0mi\u001b[0m\u001b[0;34m]\u001b[0m\u001b[0;34m,\u001b[0m \u001b[0;34m'k*'\u001b[0m\u001b[0;34m,\u001b[0m \u001b[0mmarkersize\u001b[0m\u001b[0;34m=\u001b[0m\u001b[0;36m2\u001b[0m\u001b[0;34m)\u001b[0m\u001b[0;34m\u001b[0m\u001b[0;34m\u001b[0m\u001b[0m\n\u001b[0m\u001b[1;32m      7\u001b[0m \u001b[0mt\u001b[0m\u001b[0;34m=\u001b[0m\u001b[0mnp\u001b[0m\u001b[0;34m.\u001b[0m\u001b[0mlinspace\u001b[0m\u001b[0;34m(\u001b[0m\u001b[0;36m0\u001b[0m\u001b[0;34m,\u001b[0m \u001b[0;36m2\u001b[0m\u001b[0;34m*\u001b[0m\u001b[0mnp\u001b[0m\u001b[0;34m.\u001b[0m\u001b[0mpi\u001b[0m\u001b[0;34m,\u001b[0m \u001b[0;36m100\u001b[0m\u001b[0;34m)\u001b[0m\u001b[0;34m\u001b[0m\u001b[0;34m\u001b[0m\u001b[0m\n\u001b[1;32m      8\u001b[0m \u001b[0mplt\u001b[0m\u001b[0;34m.\u001b[0m\u001b[0mplot\u001b[0m\u001b[0;34m(\u001b[0m\u001b[0mnp\u001b[0m\u001b[0;34m.\u001b[0m\u001b[0mcos\u001b[0m\u001b[0;34m(\u001b[0m\u001b[0mt\u001b[0m\u001b[0;34m)\u001b[0m\u001b[0;34m,\u001b[0m \u001b[0mnp\u001b[0m\u001b[0;34m.\u001b[0m\u001b[0msin\u001b[0m\u001b[0;34m(\u001b[0m\u001b[0mt\u001b[0m\u001b[0;34m)\u001b[0m\u001b[0;34m,\u001b[0m \u001b[0;34m'k'\u001b[0m\u001b[0;34m,\u001b[0m \u001b[0mlinewidth\u001b[0m\u001b[0;34m=\u001b[0m\u001b[0;36m2\u001b[0m\u001b[0;34m)\u001b[0m\u001b[0;34m\u001b[0m\u001b[0;34m\u001b[0m\u001b[0m\n",
            "\u001b[0;32m/usr/local/lib/python3.11/dist-packages/matplotlib/pyplot.py\u001b[0m in \u001b[0;36mplot\u001b[0;34m(scalex, scaley, data, *args, **kwargs)\u001b[0m\n\u001b[1;32m   3827\u001b[0m     \u001b[0;34m**\u001b[0m\u001b[0mkwargs\u001b[0m\u001b[0;34m,\u001b[0m\u001b[0;34m\u001b[0m\u001b[0;34m\u001b[0m\u001b[0m\n\u001b[1;32m   3828\u001b[0m ) -> list[Line2D]:\n\u001b[0;32m-> 3829\u001b[0;31m     return gca().plot(\n\u001b[0m\u001b[1;32m   3830\u001b[0m         \u001b[0;34m*\u001b[0m\u001b[0margs\u001b[0m\u001b[0;34m,\u001b[0m\u001b[0;34m\u001b[0m\u001b[0;34m\u001b[0m\u001b[0m\n\u001b[1;32m   3831\u001b[0m         \u001b[0mscalex\u001b[0m\u001b[0;34m=\u001b[0m\u001b[0mscalex\u001b[0m\u001b[0;34m,\u001b[0m\u001b[0;34m\u001b[0m\u001b[0;34m\u001b[0m\u001b[0m\n",
            "\u001b[0;32m/usr/local/lib/python3.11/dist-packages/matplotlib/axes/_axes.py\u001b[0m in \u001b[0;36mplot\u001b[0;34m(self, scalex, scaley, data, *args, **kwargs)\u001b[0m\n\u001b[1;32m   1777\u001b[0m         \u001b[0mlines\u001b[0m \u001b[0;34m=\u001b[0m \u001b[0;34m[\u001b[0m\u001b[0;34m*\u001b[0m\u001b[0mself\u001b[0m\u001b[0;34m.\u001b[0m\u001b[0m_get_lines\u001b[0m\u001b[0;34m(\u001b[0m\u001b[0mself\u001b[0m\u001b[0;34m,\u001b[0m \u001b[0;34m*\u001b[0m\u001b[0margs\u001b[0m\u001b[0;34m,\u001b[0m \u001b[0mdata\u001b[0m\u001b[0;34m=\u001b[0m\u001b[0mdata\u001b[0m\u001b[0;34m,\u001b[0m \u001b[0;34m**\u001b[0m\u001b[0mkwargs\u001b[0m\u001b[0;34m)\u001b[0m\u001b[0;34m]\u001b[0m\u001b[0;34m\u001b[0m\u001b[0;34m\u001b[0m\u001b[0m\n\u001b[1;32m   1778\u001b[0m         \u001b[0;32mfor\u001b[0m \u001b[0mline\u001b[0m \u001b[0;32min\u001b[0m \u001b[0mlines\u001b[0m\u001b[0;34m:\u001b[0m\u001b[0;34m\u001b[0m\u001b[0;34m\u001b[0m\u001b[0m\n\u001b[0;32m-> 1779\u001b[0;31m             \u001b[0mself\u001b[0m\u001b[0;34m.\u001b[0m\u001b[0madd_line\u001b[0m\u001b[0;34m(\u001b[0m\u001b[0mline\u001b[0m\u001b[0;34m)\u001b[0m\u001b[0;34m\u001b[0m\u001b[0;34m\u001b[0m\u001b[0m\n\u001b[0m\u001b[1;32m   1780\u001b[0m         \u001b[0;32mif\u001b[0m \u001b[0mscalex\u001b[0m\u001b[0;34m:\u001b[0m\u001b[0;34m\u001b[0m\u001b[0;34m\u001b[0m\u001b[0m\n\u001b[1;32m   1781\u001b[0m             \u001b[0mself\u001b[0m\u001b[0;34m.\u001b[0m\u001b[0m_request_autoscale_view\u001b[0m\u001b[0;34m(\u001b[0m\u001b[0;34m\"x\"\u001b[0m\u001b[0;34m)\u001b[0m\u001b[0;34m\u001b[0m\u001b[0;34m\u001b[0m\u001b[0m\n",
            "\u001b[0;32m/usr/local/lib/python3.11/dist-packages/matplotlib/axes/_base.py\u001b[0m in \u001b[0;36madd_line\u001b[0;34m(self, line)\u001b[0m\n\u001b[1;32m   2367\u001b[0m         \u001b[0mself\u001b[0m\u001b[0;34m.\u001b[0m\u001b[0m_set_artist_props\u001b[0m\u001b[0;34m(\u001b[0m\u001b[0mline\u001b[0m\u001b[0;34m)\u001b[0m\u001b[0;34m\u001b[0m\u001b[0;34m\u001b[0m\u001b[0m\n\u001b[1;32m   2368\u001b[0m         \u001b[0;32mif\u001b[0m \u001b[0mline\u001b[0m\u001b[0;34m.\u001b[0m\u001b[0mget_clip_path\u001b[0m\u001b[0;34m(\u001b[0m\u001b[0;34m)\u001b[0m \u001b[0;32mis\u001b[0m \u001b[0;32mNone\u001b[0m\u001b[0;34m:\u001b[0m\u001b[0;34m\u001b[0m\u001b[0;34m\u001b[0m\u001b[0m\n\u001b[0;32m-> 2369\u001b[0;31m             \u001b[0mline\u001b[0m\u001b[0;34m.\u001b[0m\u001b[0mset_clip_path\u001b[0m\u001b[0;34m(\u001b[0m\u001b[0mself\u001b[0m\u001b[0;34m.\u001b[0m\u001b[0mpatch\u001b[0m\u001b[0;34m)\u001b[0m\u001b[0;34m\u001b[0m\u001b[0;34m\u001b[0m\u001b[0m\n\u001b[0m\u001b[1;32m   2370\u001b[0m \u001b[0;34m\u001b[0m\u001b[0m\n\u001b[1;32m   2371\u001b[0m         \u001b[0mself\u001b[0m\u001b[0;34m.\u001b[0m\u001b[0m_update_line_limits\u001b[0m\u001b[0;34m(\u001b[0m\u001b[0mline\u001b[0m\u001b[0;34m)\u001b[0m\u001b[0;34m\u001b[0m\u001b[0;34m\u001b[0m\u001b[0m\n",
            "\u001b[0;32m/usr/local/lib/python3.11/dist-packages/matplotlib/artist.py\u001b[0m in \u001b[0;36mset_clip_path\u001b[0;34m(self, path, transform)\u001b[0m\n\u001b[1;32m    813\u001b[0m             \u001b[0;32mif\u001b[0m \u001b[0misinstance\u001b[0m\u001b[0;34m(\u001b[0m\u001b[0mpath\u001b[0m\u001b[0;34m,\u001b[0m \u001b[0mRectangle\u001b[0m\u001b[0;34m)\u001b[0m\u001b[0;34m:\u001b[0m\u001b[0;34m\u001b[0m\u001b[0;34m\u001b[0m\u001b[0m\n\u001b[1;32m    814\u001b[0m                 self.clipbox = TransformedBbox(Bbox.unit(),\n\u001b[0;32m--> 815\u001b[0;31m                                                path.get_transform())\n\u001b[0m\u001b[1;32m    816\u001b[0m                 \u001b[0mself\u001b[0m\u001b[0;34m.\u001b[0m\u001b[0m_clippath\u001b[0m \u001b[0;34m=\u001b[0m \u001b[0;32mNone\u001b[0m\u001b[0;34m\u001b[0m\u001b[0;34m\u001b[0m\u001b[0m\n\u001b[1;32m    817\u001b[0m                 \u001b[0msuccess\u001b[0m \u001b[0;34m=\u001b[0m \u001b[0;32mTrue\u001b[0m\u001b[0;34m\u001b[0m\u001b[0;34m\u001b[0m\u001b[0m\n",
            "\u001b[0;32m/usr/local/lib/python3.11/dist-packages/matplotlib/patches.py\u001b[0m in \u001b[0;36mget_transform\u001b[0;34m(self)\u001b[0m\n\u001b[1;32m    307\u001b[0m     \u001b[0;32mdef\u001b[0m \u001b[0mget_transform\u001b[0m\u001b[0;34m(\u001b[0m\u001b[0mself\u001b[0m\u001b[0;34m)\u001b[0m\u001b[0;34m:\u001b[0m\u001b[0;34m\u001b[0m\u001b[0;34m\u001b[0m\u001b[0m\n\u001b[1;32m    308\u001b[0m         \u001b[0;34m\"\"\"Return the `~.transforms.Transform` applied to the `Patch`.\"\"\"\u001b[0m\u001b[0;34m\u001b[0m\u001b[0;34m\u001b[0m\u001b[0m\n\u001b[0;32m--> 309\u001b[0;31m         \u001b[0;32mreturn\u001b[0m \u001b[0mself\u001b[0m\u001b[0;34m.\u001b[0m\u001b[0mget_patch_transform\u001b[0m\u001b[0;34m(\u001b[0m\u001b[0;34m)\u001b[0m \u001b[0;34m+\u001b[0m \u001b[0martist\u001b[0m\u001b[0;34m.\u001b[0m\u001b[0mArtist\u001b[0m\u001b[0;34m.\u001b[0m\u001b[0mget_transform\u001b[0m\u001b[0;34m(\u001b[0m\u001b[0mself\u001b[0m\u001b[0;34m)\u001b[0m\u001b[0;34m\u001b[0m\u001b[0;34m\u001b[0m\u001b[0m\n\u001b[0m\u001b[1;32m    310\u001b[0m \u001b[0;34m\u001b[0m\u001b[0m\n\u001b[1;32m    311\u001b[0m     \u001b[0;32mdef\u001b[0m \u001b[0mget_data_transform\u001b[0m\u001b[0;34m(\u001b[0m\u001b[0mself\u001b[0m\u001b[0;34m)\u001b[0m\u001b[0;34m:\u001b[0m\u001b[0;34m\u001b[0m\u001b[0;34m\u001b[0m\u001b[0m\n",
            "\u001b[0;32m/usr/local/lib/python3.11/dist-packages/matplotlib/patches.py\u001b[0m in \u001b[0;36mget_patch_transform\u001b[0;34m(self)\u001b[0m\n\u001b[1;32m    803\u001b[0m         \u001b[0;31m# important to call the accessor method and not directly access the\u001b[0m\u001b[0;34m\u001b[0m\u001b[0;34m\u001b[0m\u001b[0m\n\u001b[1;32m    804\u001b[0m         \u001b[0;31m# transformation member variable.\u001b[0m\u001b[0;34m\u001b[0m\u001b[0;34m\u001b[0m\u001b[0m\n\u001b[0;32m--> 805\u001b[0;31m         \u001b[0mbbox\u001b[0m \u001b[0;34m=\u001b[0m \u001b[0mself\u001b[0m\u001b[0;34m.\u001b[0m\u001b[0mget_bbox\u001b[0m\u001b[0;34m(\u001b[0m\u001b[0;34m)\u001b[0m\u001b[0;34m\u001b[0m\u001b[0;34m\u001b[0m\u001b[0m\n\u001b[0m\u001b[1;32m    806\u001b[0m         \u001b[0;32mif\u001b[0m \u001b[0mself\u001b[0m\u001b[0;34m.\u001b[0m\u001b[0mrotation_point\u001b[0m \u001b[0;34m==\u001b[0m \u001b[0;34m'center'\u001b[0m\u001b[0;34m:\u001b[0m\u001b[0;34m\u001b[0m\u001b[0;34m\u001b[0m\u001b[0m\n\u001b[1;32m    807\u001b[0m             \u001b[0mwidth\u001b[0m\u001b[0;34m,\u001b[0m \u001b[0mheight\u001b[0m \u001b[0;34m=\u001b[0m \u001b[0mbbox\u001b[0m\u001b[0;34m.\u001b[0m\u001b[0mx1\u001b[0m \u001b[0;34m-\u001b[0m \u001b[0mbbox\u001b[0m\u001b[0;34m.\u001b[0m\u001b[0mx0\u001b[0m\u001b[0;34m,\u001b[0m \u001b[0mbbox\u001b[0m\u001b[0;34m.\u001b[0m\u001b[0my1\u001b[0m \u001b[0;34m-\u001b[0m \u001b[0mbbox\u001b[0m\u001b[0;34m.\u001b[0m\u001b[0my0\u001b[0m\u001b[0;34m\u001b[0m\u001b[0;34m\u001b[0m\u001b[0m\n",
            "\u001b[0;32m/usr/local/lib/python3.11/dist-packages/matplotlib/patches.py\u001b[0m in \u001b[0;36mget_bbox\u001b[0;34m(self)\u001b[0m\n\u001b[1;32m    934\u001b[0m     \u001b[0;32mdef\u001b[0m \u001b[0mget_bbox\u001b[0m\u001b[0;34m(\u001b[0m\u001b[0mself\u001b[0m\u001b[0;34m)\u001b[0m\u001b[0;34m:\u001b[0m\u001b[0;34m\u001b[0m\u001b[0;34m\u001b[0m\u001b[0m\n\u001b[1;32m    935\u001b[0m         \u001b[0;34m\"\"\"Return the `.Bbox`.\"\"\"\u001b[0m\u001b[0;34m\u001b[0m\u001b[0;34m\u001b[0m\u001b[0m\n\u001b[0;32m--> 936\u001b[0;31m         \u001b[0;32mreturn\u001b[0m \u001b[0mtransforms\u001b[0m\u001b[0;34m.\u001b[0m\u001b[0mBbox\u001b[0m\u001b[0;34m.\u001b[0m\u001b[0mfrom_extents\u001b[0m\u001b[0;34m(\u001b[0m\u001b[0;34m*\u001b[0m\u001b[0mself\u001b[0m\u001b[0;34m.\u001b[0m\u001b[0m_convert_units\u001b[0m\u001b[0;34m(\u001b[0m\u001b[0;34m)\u001b[0m\u001b[0;34m)\u001b[0m\u001b[0;34m\u001b[0m\u001b[0;34m\u001b[0m\u001b[0m\n\u001b[0m\u001b[1;32m    937\u001b[0m \u001b[0;34m\u001b[0m\u001b[0m\n\u001b[1;32m    938\u001b[0m     \u001b[0mxy\u001b[0m \u001b[0;34m=\u001b[0m \u001b[0mproperty\u001b[0m\u001b[0;34m(\u001b[0m\u001b[0mget_xy\u001b[0m\u001b[0;34m,\u001b[0m \u001b[0mset_xy\u001b[0m\u001b[0;34m)\u001b[0m\u001b[0;34m\u001b[0m\u001b[0;34m\u001b[0m\u001b[0m\n",
            "\u001b[0;32m/usr/local/lib/python3.11/dist-packages/matplotlib/transforms.py\u001b[0m in \u001b[0;36mfrom_extents\u001b[0;34m(minpos, *args)\u001b[0m\n\u001b[1;32m    818\u001b[0m             \u001b[0mscales\u001b[0m \u001b[0mwhere\u001b[0m \u001b[0mnegative\u001b[0m \u001b[0mbounds\u001b[0m \u001b[0mresult\u001b[0m \u001b[0;32min\u001b[0m \u001b[0mfloating\u001b[0m \u001b[0mpoint\u001b[0m \u001b[0merrors\u001b[0m\u001b[0;34m.\u001b[0m\u001b[0;34m\u001b[0m\u001b[0;34m\u001b[0m\u001b[0m\n\u001b[1;32m    819\u001b[0m         \"\"\"\n\u001b[0;32m--> 820\u001b[0;31m         \u001b[0mbbox\u001b[0m \u001b[0;34m=\u001b[0m \u001b[0mBbox\u001b[0m\u001b[0;34m(\u001b[0m\u001b[0mnp\u001b[0m\u001b[0;34m.\u001b[0m\u001b[0mreshape\u001b[0m\u001b[0;34m(\u001b[0m\u001b[0margs\u001b[0m\u001b[0;34m,\u001b[0m \u001b[0;34m(\u001b[0m\u001b[0;36m2\u001b[0m\u001b[0;34m,\u001b[0m \u001b[0;36m2\u001b[0m\u001b[0;34m)\u001b[0m\u001b[0;34m)\u001b[0m\u001b[0;34m)\u001b[0m\u001b[0;34m\u001b[0m\u001b[0;34m\u001b[0m\u001b[0m\n\u001b[0m\u001b[1;32m    821\u001b[0m         \u001b[0;32mif\u001b[0m \u001b[0mminpos\u001b[0m \u001b[0;32mis\u001b[0m \u001b[0;32mnot\u001b[0m \u001b[0;32mNone\u001b[0m\u001b[0;34m:\u001b[0m\u001b[0;34m\u001b[0m\u001b[0;34m\u001b[0m\u001b[0m\n\u001b[1;32m    822\u001b[0m             \u001b[0mbbox\u001b[0m\u001b[0;34m.\u001b[0m\u001b[0m_minpos\u001b[0m\u001b[0;34m[\u001b[0m\u001b[0;34m:\u001b[0m\u001b[0;34m]\u001b[0m \u001b[0;34m=\u001b[0m \u001b[0mminpos\u001b[0m\u001b[0;34m\u001b[0m\u001b[0;34m\u001b[0m\u001b[0m\n",
            "\u001b[0;32m/usr/local/lib/python3.11/dist-packages/numpy/_core/fromnumeric.py\u001b[0m in \u001b[0;36m_reshape_dispatcher\u001b[0;34m(a, newshape, order)\u001b[0m\n\u001b[1;32m    207\u001b[0m \u001b[0;34m\u001b[0m\u001b[0m\n\u001b[1;32m    208\u001b[0m \u001b[0;34m\u001b[0m\u001b[0m\n\u001b[0;32m--> 209\u001b[0;31m \u001b[0;32mdef\u001b[0m \u001b[0m_reshape_dispatcher\u001b[0m\u001b[0;34m(\u001b[0m\u001b[0ma\u001b[0m\u001b[0;34m,\u001b[0m \u001b[0mnewshape\u001b[0m\u001b[0;34m,\u001b[0m \u001b[0morder\u001b[0m\u001b[0;34m=\u001b[0m\u001b[0;32mNone\u001b[0m\u001b[0;34m)\u001b[0m\u001b[0;34m:\u001b[0m\u001b[0;34m\u001b[0m\u001b[0;34m\u001b[0m\u001b[0m\n\u001b[0m\u001b[1;32m    210\u001b[0m     \u001b[0;32mreturn\u001b[0m \u001b[0;34m(\u001b[0m\u001b[0ma\u001b[0m\u001b[0;34m,\u001b[0m\u001b[0;34m)\u001b[0m\u001b[0;34m\u001b[0m\u001b[0;34m\u001b[0m\u001b[0m\n\u001b[1;32m    211\u001b[0m \u001b[0;34m\u001b[0m\u001b[0m\n",
            "\u001b[0;31mKeyboardInterrupt\u001b[0m: "
          ]
        },
        {
          "output_type": "stream",
          "name": "stdout",
          "text": [
            "Error in callback <function flush_figures at 0x7da734c8d8a0> (for post_execute):\n"
          ]
        },
        {
          "output_type": "error",
          "ename": "KeyboardInterrupt",
          "evalue": "",
          "traceback": [
            "\u001b[0;31m---------------------------------------------------------------------------\u001b[0m",
            "\u001b[0;31mKeyboardInterrupt\u001b[0m                         Traceback (most recent call last)",
            "\u001b[0;32m/usr/local/lib/python3.11/dist-packages/matplotlib_inline/backend_inline.py\u001b[0m in \u001b[0;36mflush_figures\u001b[0;34m()\u001b[0m\n\u001b[1;32m    124\u001b[0m             \u001b[0;31m# ignore the tracking, just draw and close all figures\u001b[0m\u001b[0;34m\u001b[0m\u001b[0;34m\u001b[0m\u001b[0m\n\u001b[1;32m    125\u001b[0m             \u001b[0;32mtry\u001b[0m\u001b[0;34m:\u001b[0m\u001b[0;34m\u001b[0m\u001b[0;34m\u001b[0m\u001b[0m\n\u001b[0;32m--> 126\u001b[0;31m                 \u001b[0;32mreturn\u001b[0m \u001b[0mshow\u001b[0m\u001b[0;34m(\u001b[0m\u001b[0;32mTrue\u001b[0m\u001b[0;34m)\u001b[0m\u001b[0;34m\u001b[0m\u001b[0;34m\u001b[0m\u001b[0m\n\u001b[0m\u001b[1;32m    127\u001b[0m             \u001b[0;32mexcept\u001b[0m \u001b[0mException\u001b[0m \u001b[0;32mas\u001b[0m \u001b[0me\u001b[0m\u001b[0;34m:\u001b[0m\u001b[0;34m\u001b[0m\u001b[0;34m\u001b[0m\u001b[0m\n\u001b[1;32m    128\u001b[0m                 \u001b[0;31m# safely show traceback if in IPython, else raise\u001b[0m\u001b[0;34m\u001b[0m\u001b[0;34m\u001b[0m\u001b[0m\n",
            "\u001b[0;32m/usr/local/lib/python3.11/dist-packages/matplotlib_inline/backend_inline.py\u001b[0m in \u001b[0;36mshow\u001b[0;34m(close, block)\u001b[0m\n\u001b[1;32m     88\u001b[0m     \u001b[0;32mtry\u001b[0m\u001b[0;34m:\u001b[0m\u001b[0;34m\u001b[0m\u001b[0;34m\u001b[0m\u001b[0m\n\u001b[1;32m     89\u001b[0m         \u001b[0;32mfor\u001b[0m \u001b[0mfigure_manager\u001b[0m \u001b[0;32min\u001b[0m \u001b[0mGcf\u001b[0m\u001b[0;34m.\u001b[0m\u001b[0mget_all_fig_managers\u001b[0m\u001b[0;34m(\u001b[0m\u001b[0;34m)\u001b[0m\u001b[0;34m:\u001b[0m\u001b[0;34m\u001b[0m\u001b[0;34m\u001b[0m\u001b[0m\n\u001b[0;32m---> 90\u001b[0;31m             display(\n\u001b[0m\u001b[1;32m     91\u001b[0m                 \u001b[0mfigure_manager\u001b[0m\u001b[0;34m.\u001b[0m\u001b[0mcanvas\u001b[0m\u001b[0;34m.\u001b[0m\u001b[0mfigure\u001b[0m\u001b[0;34m,\u001b[0m\u001b[0;34m\u001b[0m\u001b[0;34m\u001b[0m\u001b[0m\n\u001b[1;32m     92\u001b[0m                 \u001b[0mmetadata\u001b[0m\u001b[0;34m=\u001b[0m\u001b[0m_fetch_figure_metadata\u001b[0m\u001b[0;34m(\u001b[0m\u001b[0mfigure_manager\u001b[0m\u001b[0;34m.\u001b[0m\u001b[0mcanvas\u001b[0m\u001b[0;34m.\u001b[0m\u001b[0mfigure\u001b[0m\u001b[0;34m)\u001b[0m\u001b[0;34m\u001b[0m\u001b[0;34m\u001b[0m\u001b[0m\n",
            "\u001b[0;32m/usr/local/lib/python3.11/dist-packages/IPython/core/display.py\u001b[0m in \u001b[0;36mdisplay\u001b[0;34m(include, exclude, metadata, transient, display_id, *objs, **kwargs)\u001b[0m\n\u001b[1;32m    318\u001b[0m             \u001b[0mpublish_display_data\u001b[0m\u001b[0;34m(\u001b[0m\u001b[0mdata\u001b[0m\u001b[0;34m=\u001b[0m\u001b[0mobj\u001b[0m\u001b[0;34m,\u001b[0m \u001b[0mmetadata\u001b[0m\u001b[0;34m=\u001b[0m\u001b[0mmetadata\u001b[0m\u001b[0;34m,\u001b[0m \u001b[0;34m**\u001b[0m\u001b[0mkwargs\u001b[0m\u001b[0;34m)\u001b[0m\u001b[0;34m\u001b[0m\u001b[0;34m\u001b[0m\u001b[0m\n\u001b[1;32m    319\u001b[0m         \u001b[0;32melse\u001b[0m\u001b[0;34m:\u001b[0m\u001b[0;34m\u001b[0m\u001b[0;34m\u001b[0m\u001b[0m\n\u001b[0;32m--> 320\u001b[0;31m             \u001b[0mformat_dict\u001b[0m\u001b[0;34m,\u001b[0m \u001b[0mmd_dict\u001b[0m \u001b[0;34m=\u001b[0m \u001b[0mformat\u001b[0m\u001b[0;34m(\u001b[0m\u001b[0mobj\u001b[0m\u001b[0;34m,\u001b[0m \u001b[0minclude\u001b[0m\u001b[0;34m=\u001b[0m\u001b[0minclude\u001b[0m\u001b[0;34m,\u001b[0m \u001b[0mexclude\u001b[0m\u001b[0;34m=\u001b[0m\u001b[0mexclude\u001b[0m\u001b[0;34m)\u001b[0m\u001b[0;34m\u001b[0m\u001b[0;34m\u001b[0m\u001b[0m\n\u001b[0m\u001b[1;32m    321\u001b[0m             \u001b[0;32mif\u001b[0m \u001b[0;32mnot\u001b[0m \u001b[0mformat_dict\u001b[0m\u001b[0;34m:\u001b[0m\u001b[0;34m\u001b[0m\u001b[0;34m\u001b[0m\u001b[0m\n\u001b[1;32m    322\u001b[0m                 \u001b[0;31m# nothing to display (e.g. _ipython_display_ took over)\u001b[0m\u001b[0;34m\u001b[0m\u001b[0;34m\u001b[0m\u001b[0m\n",
            "\u001b[0;32m/usr/local/lib/python3.11/dist-packages/IPython/core/formatters.py\u001b[0m in \u001b[0;36mformat\u001b[0;34m(self, obj, include, exclude)\u001b[0m\n\u001b[1;32m    178\u001b[0m             \u001b[0mmd\u001b[0m \u001b[0;34m=\u001b[0m \u001b[0;32mNone\u001b[0m\u001b[0;34m\u001b[0m\u001b[0;34m\u001b[0m\u001b[0m\n\u001b[1;32m    179\u001b[0m             \u001b[0;32mtry\u001b[0m\u001b[0;34m:\u001b[0m\u001b[0;34m\u001b[0m\u001b[0;34m\u001b[0m\u001b[0m\n\u001b[0;32m--> 180\u001b[0;31m                 \u001b[0mdata\u001b[0m \u001b[0;34m=\u001b[0m \u001b[0mformatter\u001b[0m\u001b[0;34m(\u001b[0m\u001b[0mobj\u001b[0m\u001b[0;34m)\u001b[0m\u001b[0;34m\u001b[0m\u001b[0;34m\u001b[0m\u001b[0m\n\u001b[0m\u001b[1;32m    181\u001b[0m             \u001b[0;32mexcept\u001b[0m\u001b[0;34m:\u001b[0m\u001b[0;34m\u001b[0m\u001b[0;34m\u001b[0m\u001b[0m\n\u001b[1;32m    182\u001b[0m                 \u001b[0;31m# FIXME: log the exception\u001b[0m\u001b[0;34m\u001b[0m\u001b[0;34m\u001b[0m\u001b[0m\n",
            "\u001b[0;32m<decorator-gen-2>\u001b[0m in \u001b[0;36m__call__\u001b[0;34m(self, obj)\u001b[0m\n",
            "\u001b[0;32m/usr/local/lib/python3.11/dist-packages/IPython/core/formatters.py\u001b[0m in \u001b[0;36mcatch_format_error\u001b[0;34m(method, self, *args, **kwargs)\u001b[0m\n\u001b[1;32m    222\u001b[0m     \u001b[0;34m\"\"\"show traceback on failed format call\"\"\"\u001b[0m\u001b[0;34m\u001b[0m\u001b[0;34m\u001b[0m\u001b[0m\n\u001b[1;32m    223\u001b[0m     \u001b[0;32mtry\u001b[0m\u001b[0;34m:\u001b[0m\u001b[0;34m\u001b[0m\u001b[0;34m\u001b[0m\u001b[0m\n\u001b[0;32m--> 224\u001b[0;31m         \u001b[0mr\u001b[0m \u001b[0;34m=\u001b[0m \u001b[0mmethod\u001b[0m\u001b[0;34m(\u001b[0m\u001b[0mself\u001b[0m\u001b[0;34m,\u001b[0m \u001b[0;34m*\u001b[0m\u001b[0margs\u001b[0m\u001b[0;34m,\u001b[0m \u001b[0;34m**\u001b[0m\u001b[0mkwargs\u001b[0m\u001b[0;34m)\u001b[0m\u001b[0;34m\u001b[0m\u001b[0;34m\u001b[0m\u001b[0m\n\u001b[0m\u001b[1;32m    225\u001b[0m     \u001b[0;32mexcept\u001b[0m \u001b[0mNotImplementedError\u001b[0m\u001b[0;34m:\u001b[0m\u001b[0;34m\u001b[0m\u001b[0;34m\u001b[0m\u001b[0m\n\u001b[1;32m    226\u001b[0m         \u001b[0;31m# don't warn on NotImplementedErrors\u001b[0m\u001b[0;34m\u001b[0m\u001b[0;34m\u001b[0m\u001b[0m\n",
            "\u001b[0;32m/usr/local/lib/python3.11/dist-packages/IPython/core/formatters.py\u001b[0m in \u001b[0;36m__call__\u001b[0;34m(self, obj)\u001b[0m\n\u001b[1;32m    339\u001b[0m                 \u001b[0;32mpass\u001b[0m\u001b[0;34m\u001b[0m\u001b[0;34m\u001b[0m\u001b[0m\n\u001b[1;32m    340\u001b[0m             \u001b[0;32melse\u001b[0m\u001b[0;34m:\u001b[0m\u001b[0;34m\u001b[0m\u001b[0;34m\u001b[0m\u001b[0m\n\u001b[0;32m--> 341\u001b[0;31m                 \u001b[0;32mreturn\u001b[0m \u001b[0mprinter\u001b[0m\u001b[0;34m(\u001b[0m\u001b[0mobj\u001b[0m\u001b[0;34m)\u001b[0m\u001b[0;34m\u001b[0m\u001b[0;34m\u001b[0m\u001b[0m\n\u001b[0m\u001b[1;32m    342\u001b[0m             \u001b[0;31m# Finally look for special method names\u001b[0m\u001b[0;34m\u001b[0m\u001b[0;34m\u001b[0m\u001b[0m\n\u001b[1;32m    343\u001b[0m             \u001b[0mmethod\u001b[0m \u001b[0;34m=\u001b[0m \u001b[0mget_real_method\u001b[0m\u001b[0;34m(\u001b[0m\u001b[0mobj\u001b[0m\u001b[0;34m,\u001b[0m \u001b[0mself\u001b[0m\u001b[0;34m.\u001b[0m\u001b[0mprint_method\u001b[0m\u001b[0;34m)\u001b[0m\u001b[0;34m\u001b[0m\u001b[0;34m\u001b[0m\u001b[0m\n",
            "\u001b[0;32m/usr/local/lib/python3.11/dist-packages/IPython/core/pylabtools.py\u001b[0m in \u001b[0;36mprint_figure\u001b[0;34m(fig, fmt, bbox_inches, base64, **kwargs)\u001b[0m\n\u001b[1;32m    149\u001b[0m         \u001b[0mFigureCanvasBase\u001b[0m\u001b[0;34m(\u001b[0m\u001b[0mfig\u001b[0m\u001b[0;34m)\u001b[0m\u001b[0;34m\u001b[0m\u001b[0;34m\u001b[0m\u001b[0m\n\u001b[1;32m    150\u001b[0m \u001b[0;34m\u001b[0m\u001b[0m\n\u001b[0;32m--> 151\u001b[0;31m     \u001b[0mfig\u001b[0m\u001b[0;34m.\u001b[0m\u001b[0mcanvas\u001b[0m\u001b[0;34m.\u001b[0m\u001b[0mprint_figure\u001b[0m\u001b[0;34m(\u001b[0m\u001b[0mbytes_io\u001b[0m\u001b[0;34m,\u001b[0m \u001b[0;34m**\u001b[0m\u001b[0mkw\u001b[0m\u001b[0;34m)\u001b[0m\u001b[0;34m\u001b[0m\u001b[0;34m\u001b[0m\u001b[0m\n\u001b[0m\u001b[1;32m    152\u001b[0m     \u001b[0mdata\u001b[0m \u001b[0;34m=\u001b[0m \u001b[0mbytes_io\u001b[0m\u001b[0;34m.\u001b[0m\u001b[0mgetvalue\u001b[0m\u001b[0;34m(\u001b[0m\u001b[0;34m)\u001b[0m\u001b[0;34m\u001b[0m\u001b[0;34m\u001b[0m\u001b[0m\n\u001b[1;32m    153\u001b[0m     \u001b[0;32mif\u001b[0m \u001b[0mfmt\u001b[0m \u001b[0;34m==\u001b[0m \u001b[0;34m'svg'\u001b[0m\u001b[0;34m:\u001b[0m\u001b[0;34m\u001b[0m\u001b[0;34m\u001b[0m\u001b[0m\n",
            "\u001b[0;32m/usr/local/lib/python3.11/dist-packages/matplotlib/backend_bases.py\u001b[0m in \u001b[0;36mprint_figure\u001b[0;34m(self, filename, dpi, facecolor, edgecolor, orientation, format, bbox_inches, pad_inches, bbox_extra_artists, backend, **kwargs)\u001b[0m\n\u001b[1;32m   2153\u001b[0m                 \u001b[0;31m# so that we can inject the orientation\u001b[0m\u001b[0;34m\u001b[0m\u001b[0;34m\u001b[0m\u001b[0m\n\u001b[1;32m   2154\u001b[0m                 \u001b[0;32mwith\u001b[0m \u001b[0mgetattr\u001b[0m\u001b[0;34m(\u001b[0m\u001b[0mrenderer\u001b[0m\u001b[0;34m,\u001b[0m \u001b[0;34m\"_draw_disabled\"\u001b[0m\u001b[0;34m,\u001b[0m \u001b[0mnullcontext\u001b[0m\u001b[0;34m)\u001b[0m\u001b[0;34m(\u001b[0m\u001b[0;34m)\u001b[0m\u001b[0;34m:\u001b[0m\u001b[0;34m\u001b[0m\u001b[0;34m\u001b[0m\u001b[0m\n\u001b[0;32m-> 2155\u001b[0;31m                     \u001b[0mself\u001b[0m\u001b[0;34m.\u001b[0m\u001b[0mfigure\u001b[0m\u001b[0;34m.\u001b[0m\u001b[0mdraw\u001b[0m\u001b[0;34m(\u001b[0m\u001b[0mrenderer\u001b[0m\u001b[0;34m)\u001b[0m\u001b[0;34m\u001b[0m\u001b[0;34m\u001b[0m\u001b[0m\n\u001b[0m\u001b[1;32m   2156\u001b[0m             \u001b[0;32mif\u001b[0m \u001b[0mbbox_inches\u001b[0m\u001b[0;34m:\u001b[0m\u001b[0;34m\u001b[0m\u001b[0;34m\u001b[0m\u001b[0m\n\u001b[1;32m   2157\u001b[0m                 \u001b[0;32mif\u001b[0m \u001b[0mbbox_inches\u001b[0m \u001b[0;34m==\u001b[0m \u001b[0;34m\"tight\"\u001b[0m\u001b[0;34m:\u001b[0m\u001b[0;34m\u001b[0m\u001b[0;34m\u001b[0m\u001b[0m\n",
            "\u001b[0;32m/usr/local/lib/python3.11/dist-packages/matplotlib/artist.py\u001b[0m in \u001b[0;36mdraw_wrapper\u001b[0;34m(artist, renderer, *args, **kwargs)\u001b[0m\n\u001b[1;32m     92\u001b[0m     \u001b[0;34m@\u001b[0m\u001b[0mwraps\u001b[0m\u001b[0;34m(\u001b[0m\u001b[0mdraw\u001b[0m\u001b[0;34m)\u001b[0m\u001b[0;34m\u001b[0m\u001b[0;34m\u001b[0m\u001b[0m\n\u001b[1;32m     93\u001b[0m     \u001b[0;32mdef\u001b[0m \u001b[0mdraw_wrapper\u001b[0m\u001b[0;34m(\u001b[0m\u001b[0martist\u001b[0m\u001b[0;34m,\u001b[0m \u001b[0mrenderer\u001b[0m\u001b[0;34m,\u001b[0m \u001b[0;34m*\u001b[0m\u001b[0margs\u001b[0m\u001b[0;34m,\u001b[0m \u001b[0;34m**\u001b[0m\u001b[0mkwargs\u001b[0m\u001b[0;34m)\u001b[0m\u001b[0;34m:\u001b[0m\u001b[0;34m\u001b[0m\u001b[0;34m\u001b[0m\u001b[0m\n\u001b[0;32m---> 94\u001b[0;31m         \u001b[0mresult\u001b[0m \u001b[0;34m=\u001b[0m \u001b[0mdraw\u001b[0m\u001b[0;34m(\u001b[0m\u001b[0martist\u001b[0m\u001b[0;34m,\u001b[0m \u001b[0mrenderer\u001b[0m\u001b[0;34m,\u001b[0m \u001b[0;34m*\u001b[0m\u001b[0margs\u001b[0m\u001b[0;34m,\u001b[0m \u001b[0;34m**\u001b[0m\u001b[0mkwargs\u001b[0m\u001b[0;34m)\u001b[0m\u001b[0;34m\u001b[0m\u001b[0;34m\u001b[0m\u001b[0m\n\u001b[0m\u001b[1;32m     95\u001b[0m         \u001b[0;32mif\u001b[0m \u001b[0mrenderer\u001b[0m\u001b[0;34m.\u001b[0m\u001b[0m_rasterizing\u001b[0m\u001b[0;34m:\u001b[0m\u001b[0;34m\u001b[0m\u001b[0;34m\u001b[0m\u001b[0m\n\u001b[1;32m     96\u001b[0m             \u001b[0mrenderer\u001b[0m\u001b[0;34m.\u001b[0m\u001b[0mstop_rasterizing\u001b[0m\u001b[0;34m(\u001b[0m\u001b[0;34m)\u001b[0m\u001b[0;34m\u001b[0m\u001b[0;34m\u001b[0m\u001b[0m\n",
            "\u001b[0;32m/usr/local/lib/python3.11/dist-packages/matplotlib/artist.py\u001b[0m in \u001b[0;36mdraw_wrapper\u001b[0;34m(artist, renderer)\u001b[0m\n\u001b[1;32m     69\u001b[0m                 \u001b[0mrenderer\u001b[0m\u001b[0;34m.\u001b[0m\u001b[0mstart_filter\u001b[0m\u001b[0;34m(\u001b[0m\u001b[0;34m)\u001b[0m\u001b[0;34m\u001b[0m\u001b[0;34m\u001b[0m\u001b[0m\n\u001b[1;32m     70\u001b[0m \u001b[0;34m\u001b[0m\u001b[0m\n\u001b[0;32m---> 71\u001b[0;31m             \u001b[0;32mreturn\u001b[0m \u001b[0mdraw\u001b[0m\u001b[0;34m(\u001b[0m\u001b[0martist\u001b[0m\u001b[0;34m,\u001b[0m \u001b[0mrenderer\u001b[0m\u001b[0;34m)\u001b[0m\u001b[0;34m\u001b[0m\u001b[0;34m\u001b[0m\u001b[0m\n\u001b[0m\u001b[1;32m     72\u001b[0m         \u001b[0;32mfinally\u001b[0m\u001b[0;34m:\u001b[0m\u001b[0;34m\u001b[0m\u001b[0;34m\u001b[0m\u001b[0m\n\u001b[1;32m     73\u001b[0m             \u001b[0;32mif\u001b[0m \u001b[0martist\u001b[0m\u001b[0;34m.\u001b[0m\u001b[0mget_agg_filter\u001b[0m\u001b[0;34m(\u001b[0m\u001b[0;34m)\u001b[0m \u001b[0;32mis\u001b[0m \u001b[0;32mnot\u001b[0m \u001b[0;32mNone\u001b[0m\u001b[0;34m:\u001b[0m\u001b[0;34m\u001b[0m\u001b[0;34m\u001b[0m\u001b[0m\n",
            "\u001b[0;32m/usr/local/lib/python3.11/dist-packages/matplotlib/figure.py\u001b[0m in \u001b[0;36mdraw\u001b[0;34m(self, renderer)\u001b[0m\n\u001b[1;32m   3255\u001b[0m \u001b[0;34m\u001b[0m\u001b[0m\n\u001b[1;32m   3256\u001b[0m                 \u001b[0mself\u001b[0m\u001b[0;34m.\u001b[0m\u001b[0mpatch\u001b[0m\u001b[0;34m.\u001b[0m\u001b[0mdraw\u001b[0m\u001b[0;34m(\u001b[0m\u001b[0mrenderer\u001b[0m\u001b[0;34m)\u001b[0m\u001b[0;34m\u001b[0m\u001b[0;34m\u001b[0m\u001b[0m\n\u001b[0;32m-> 3257\u001b[0;31m                 mimage._draw_list_compositing_images(\n\u001b[0m\u001b[1;32m   3258\u001b[0m                     renderer, self, artists, self.suppressComposite)\n\u001b[1;32m   3259\u001b[0m \u001b[0;34m\u001b[0m\u001b[0m\n",
            "\u001b[0;32m/usr/local/lib/python3.11/dist-packages/matplotlib/image.py\u001b[0m in \u001b[0;36m_draw_list_compositing_images\u001b[0;34m(renderer, parent, artists, suppress_composite)\u001b[0m\n\u001b[1;32m    132\u001b[0m     \u001b[0;32mif\u001b[0m \u001b[0mnot_composite\u001b[0m \u001b[0;32mor\u001b[0m \u001b[0;32mnot\u001b[0m \u001b[0mhas_images\u001b[0m\u001b[0;34m:\u001b[0m\u001b[0;34m\u001b[0m\u001b[0;34m\u001b[0m\u001b[0m\n\u001b[1;32m    133\u001b[0m         \u001b[0;32mfor\u001b[0m \u001b[0ma\u001b[0m \u001b[0;32min\u001b[0m \u001b[0martists\u001b[0m\u001b[0;34m:\u001b[0m\u001b[0;34m\u001b[0m\u001b[0;34m\u001b[0m\u001b[0m\n\u001b[0;32m--> 134\u001b[0;31m             \u001b[0ma\u001b[0m\u001b[0;34m.\u001b[0m\u001b[0mdraw\u001b[0m\u001b[0;34m(\u001b[0m\u001b[0mrenderer\u001b[0m\u001b[0;34m)\u001b[0m\u001b[0;34m\u001b[0m\u001b[0;34m\u001b[0m\u001b[0m\n\u001b[0m\u001b[1;32m    135\u001b[0m     \u001b[0;32melse\u001b[0m\u001b[0;34m:\u001b[0m\u001b[0;34m\u001b[0m\u001b[0;34m\u001b[0m\u001b[0m\n\u001b[1;32m    136\u001b[0m         \u001b[0;31m# Composite any adjacent images together\u001b[0m\u001b[0;34m\u001b[0m\u001b[0;34m\u001b[0m\u001b[0m\n",
            "\u001b[0;32m/usr/local/lib/python3.11/dist-packages/matplotlib/artist.py\u001b[0m in \u001b[0;36mdraw_wrapper\u001b[0;34m(artist, renderer)\u001b[0m\n\u001b[1;32m     69\u001b[0m                 \u001b[0mrenderer\u001b[0m\u001b[0;34m.\u001b[0m\u001b[0mstart_filter\u001b[0m\u001b[0;34m(\u001b[0m\u001b[0;34m)\u001b[0m\u001b[0;34m\u001b[0m\u001b[0;34m\u001b[0m\u001b[0m\n\u001b[1;32m     70\u001b[0m \u001b[0;34m\u001b[0m\u001b[0m\n\u001b[0;32m---> 71\u001b[0;31m             \u001b[0;32mreturn\u001b[0m \u001b[0mdraw\u001b[0m\u001b[0;34m(\u001b[0m\u001b[0martist\u001b[0m\u001b[0;34m,\u001b[0m \u001b[0mrenderer\u001b[0m\u001b[0;34m)\u001b[0m\u001b[0;34m\u001b[0m\u001b[0;34m\u001b[0m\u001b[0m\n\u001b[0m\u001b[1;32m     72\u001b[0m         \u001b[0;32mfinally\u001b[0m\u001b[0;34m:\u001b[0m\u001b[0;34m\u001b[0m\u001b[0;34m\u001b[0m\u001b[0m\n\u001b[1;32m     73\u001b[0m             \u001b[0;32mif\u001b[0m \u001b[0martist\u001b[0m\u001b[0;34m.\u001b[0m\u001b[0mget_agg_filter\u001b[0m\u001b[0;34m(\u001b[0m\u001b[0;34m)\u001b[0m \u001b[0;32mis\u001b[0m \u001b[0;32mnot\u001b[0m \u001b[0;32mNone\u001b[0m\u001b[0;34m:\u001b[0m\u001b[0;34m\u001b[0m\u001b[0;34m\u001b[0m\u001b[0m\n",
            "\u001b[0;32m/usr/local/lib/python3.11/dist-packages/matplotlib/axes/_base.py\u001b[0m in \u001b[0;36mdraw\u001b[0;34m(self, renderer)\u001b[0m\n\u001b[1;32m   3179\u001b[0m             \u001b[0m_draw_rasterized\u001b[0m\u001b[0;34m(\u001b[0m\u001b[0mself\u001b[0m\u001b[0;34m.\u001b[0m\u001b[0mget_figure\u001b[0m\u001b[0;34m(\u001b[0m\u001b[0mroot\u001b[0m\u001b[0;34m=\u001b[0m\u001b[0;32mTrue\u001b[0m\u001b[0;34m)\u001b[0m\u001b[0;34m,\u001b[0m \u001b[0martists_rasterized\u001b[0m\u001b[0;34m,\u001b[0m \u001b[0mrenderer\u001b[0m\u001b[0;34m)\u001b[0m\u001b[0;34m\u001b[0m\u001b[0;34m\u001b[0m\u001b[0m\n\u001b[1;32m   3180\u001b[0m \u001b[0;34m\u001b[0m\u001b[0m\n\u001b[0;32m-> 3181\u001b[0;31m         mimage._draw_list_compositing_images(\n\u001b[0m\u001b[1;32m   3182\u001b[0m             renderer, self, artists, self.get_figure(root=True).suppressComposite)\n\u001b[1;32m   3183\u001b[0m \u001b[0;34m\u001b[0m\u001b[0m\n",
            "\u001b[0;32m/usr/local/lib/python3.11/dist-packages/matplotlib/image.py\u001b[0m in \u001b[0;36m_draw_list_compositing_images\u001b[0;34m(renderer, parent, artists, suppress_composite)\u001b[0m\n\u001b[1;32m    132\u001b[0m     \u001b[0;32mif\u001b[0m \u001b[0mnot_composite\u001b[0m \u001b[0;32mor\u001b[0m \u001b[0;32mnot\u001b[0m \u001b[0mhas_images\u001b[0m\u001b[0;34m:\u001b[0m\u001b[0;34m\u001b[0m\u001b[0;34m\u001b[0m\u001b[0m\n\u001b[1;32m    133\u001b[0m         \u001b[0;32mfor\u001b[0m \u001b[0ma\u001b[0m \u001b[0;32min\u001b[0m \u001b[0martists\u001b[0m\u001b[0;34m:\u001b[0m\u001b[0;34m\u001b[0m\u001b[0;34m\u001b[0m\u001b[0m\n\u001b[0;32m--> 134\u001b[0;31m             \u001b[0ma\u001b[0m\u001b[0;34m.\u001b[0m\u001b[0mdraw\u001b[0m\u001b[0;34m(\u001b[0m\u001b[0mrenderer\u001b[0m\u001b[0;34m)\u001b[0m\u001b[0;34m\u001b[0m\u001b[0;34m\u001b[0m\u001b[0m\n\u001b[0m\u001b[1;32m    135\u001b[0m     \u001b[0;32melse\u001b[0m\u001b[0;34m:\u001b[0m\u001b[0;34m\u001b[0m\u001b[0;34m\u001b[0m\u001b[0m\n\u001b[1;32m    136\u001b[0m         \u001b[0;31m# Composite any adjacent images together\u001b[0m\u001b[0;34m\u001b[0m\u001b[0;34m\u001b[0m\u001b[0m\n",
            "\u001b[0;32m/usr/local/lib/python3.11/dist-packages/matplotlib/artist.py\u001b[0m in \u001b[0;36mdraw_wrapper\u001b[0;34m(artist, renderer)\u001b[0m\n\u001b[1;32m     69\u001b[0m                 \u001b[0mrenderer\u001b[0m\u001b[0;34m.\u001b[0m\u001b[0mstart_filter\u001b[0m\u001b[0;34m(\u001b[0m\u001b[0;34m)\u001b[0m\u001b[0;34m\u001b[0m\u001b[0;34m\u001b[0m\u001b[0m\n\u001b[1;32m     70\u001b[0m \u001b[0;34m\u001b[0m\u001b[0m\n\u001b[0;32m---> 71\u001b[0;31m             \u001b[0;32mreturn\u001b[0m \u001b[0mdraw\u001b[0m\u001b[0;34m(\u001b[0m\u001b[0martist\u001b[0m\u001b[0;34m,\u001b[0m \u001b[0mrenderer\u001b[0m\u001b[0;34m)\u001b[0m\u001b[0;34m\u001b[0m\u001b[0;34m\u001b[0m\u001b[0m\n\u001b[0m\u001b[1;32m     72\u001b[0m         \u001b[0;32mfinally\u001b[0m\u001b[0;34m:\u001b[0m\u001b[0;34m\u001b[0m\u001b[0;34m\u001b[0m\u001b[0m\n\u001b[1;32m     73\u001b[0m             \u001b[0;32mif\u001b[0m \u001b[0martist\u001b[0m\u001b[0;34m.\u001b[0m\u001b[0mget_agg_filter\u001b[0m\u001b[0;34m(\u001b[0m\u001b[0;34m)\u001b[0m \u001b[0;32mis\u001b[0m \u001b[0;32mnot\u001b[0m \u001b[0;32mNone\u001b[0m\u001b[0;34m:\u001b[0m\u001b[0;34m\u001b[0m\u001b[0;34m\u001b[0m\u001b[0m\n",
            "\u001b[0;32m/usr/local/lib/python3.11/dist-packages/matplotlib/lines.py\u001b[0m in \u001b[0;36mdraw\u001b[0;34m(self, renderer)\u001b[0m\n\u001b[1;32m    810\u001b[0m         \u001b[0;32mif\u001b[0m \u001b[0mself\u001b[0m\u001b[0;34m.\u001b[0m\u001b[0m_marker\u001b[0m \u001b[0;32mand\u001b[0m \u001b[0mself\u001b[0m\u001b[0;34m.\u001b[0m\u001b[0m_markersize\u001b[0m \u001b[0;34m>\u001b[0m \u001b[0;36m0\u001b[0m\u001b[0;34m:\u001b[0m\u001b[0;34m\u001b[0m\u001b[0;34m\u001b[0m\u001b[0m\n\u001b[1;32m    811\u001b[0m             \u001b[0mgc\u001b[0m \u001b[0;34m=\u001b[0m \u001b[0mrenderer\u001b[0m\u001b[0;34m.\u001b[0m\u001b[0mnew_gc\u001b[0m\u001b[0;34m(\u001b[0m\u001b[0;34m)\u001b[0m\u001b[0;34m\u001b[0m\u001b[0;34m\u001b[0m\u001b[0m\n\u001b[0;32m--> 812\u001b[0;31m             \u001b[0mself\u001b[0m\u001b[0;34m.\u001b[0m\u001b[0m_set_gc_clip\u001b[0m\u001b[0;34m(\u001b[0m\u001b[0mgc\u001b[0m\u001b[0;34m)\u001b[0m\u001b[0;34m\u001b[0m\u001b[0;34m\u001b[0m\u001b[0m\n\u001b[0m\u001b[1;32m    813\u001b[0m             \u001b[0mgc\u001b[0m\u001b[0;34m.\u001b[0m\u001b[0mset_url\u001b[0m\u001b[0;34m(\u001b[0m\u001b[0mself\u001b[0m\u001b[0;34m.\u001b[0m\u001b[0mget_url\u001b[0m\u001b[0;34m(\u001b[0m\u001b[0;34m)\u001b[0m\u001b[0;34m)\u001b[0m\u001b[0;34m\u001b[0m\u001b[0;34m\u001b[0m\u001b[0m\n\u001b[1;32m    814\u001b[0m             \u001b[0mgc\u001b[0m\u001b[0;34m.\u001b[0m\u001b[0mset_linewidth\u001b[0m\u001b[0;34m(\u001b[0m\u001b[0mself\u001b[0m\u001b[0;34m.\u001b[0m\u001b[0m_markeredgewidth\u001b[0m\u001b[0;34m)\u001b[0m\u001b[0;34m\u001b[0m\u001b[0;34m\u001b[0m\u001b[0m\n",
            "\u001b[0;32m/usr/local/lib/python3.11/dist-packages/matplotlib/artist.py\u001b[0m in \u001b[0;36m_set_gc_clip\u001b[0;34m(self, gc)\u001b[0m\n\u001b[1;32m    937\u001b[0m         \u001b[0;32mif\u001b[0m \u001b[0mself\u001b[0m\u001b[0;34m.\u001b[0m\u001b[0m_clipon\u001b[0m\u001b[0;34m:\u001b[0m\u001b[0;34m\u001b[0m\u001b[0;34m\u001b[0m\u001b[0m\n\u001b[1;32m    938\u001b[0m             \u001b[0;32mif\u001b[0m \u001b[0mself\u001b[0m\u001b[0;34m.\u001b[0m\u001b[0mclipbox\u001b[0m \u001b[0;32mis\u001b[0m \u001b[0;32mnot\u001b[0m \u001b[0;32mNone\u001b[0m\u001b[0;34m:\u001b[0m\u001b[0;34m\u001b[0m\u001b[0;34m\u001b[0m\u001b[0m\n\u001b[0;32m--> 939\u001b[0;31m                 \u001b[0mgc\u001b[0m\u001b[0;34m.\u001b[0m\u001b[0mset_clip_rectangle\u001b[0m\u001b[0;34m(\u001b[0m\u001b[0mself\u001b[0m\u001b[0;34m.\u001b[0m\u001b[0mclipbox\u001b[0m\u001b[0;34m)\u001b[0m\u001b[0;34m\u001b[0m\u001b[0;34m\u001b[0m\u001b[0m\n\u001b[0m\u001b[1;32m    940\u001b[0m             \u001b[0mgc\u001b[0m\u001b[0;34m.\u001b[0m\u001b[0mset_clip_path\u001b[0m\u001b[0;34m(\u001b[0m\u001b[0mself\u001b[0m\u001b[0;34m.\u001b[0m\u001b[0m_clippath\u001b[0m\u001b[0;34m)\u001b[0m\u001b[0;34m\u001b[0m\u001b[0;34m\u001b[0m\u001b[0m\n\u001b[1;32m    941\u001b[0m         \u001b[0;32melse\u001b[0m\u001b[0;34m:\u001b[0m\u001b[0;34m\u001b[0m\u001b[0;34m\u001b[0m\u001b[0m\n",
            "\u001b[0;32m/usr/local/lib/python3.11/dist-packages/matplotlib/backend_bases.py\u001b[0m in \u001b[0;36mset_clip_rectangle\u001b[0;34m(self, rectangle)\u001b[0m\n\u001b[1;32m    842\u001b[0m         \u001b[0mself\u001b[0m\u001b[0;34m.\u001b[0m\u001b[0m_capstyle\u001b[0m \u001b[0;34m=\u001b[0m \u001b[0mCapStyle\u001b[0m\u001b[0;34m(\u001b[0m\u001b[0mcs\u001b[0m\u001b[0;34m)\u001b[0m\u001b[0;34m\u001b[0m\u001b[0;34m\u001b[0m\u001b[0m\n\u001b[1;32m    843\u001b[0m \u001b[0;34m\u001b[0m\u001b[0m\n\u001b[0;32m--> 844\u001b[0;31m     \u001b[0;32mdef\u001b[0m \u001b[0mset_clip_rectangle\u001b[0m\u001b[0;34m(\u001b[0m\u001b[0mself\u001b[0m\u001b[0;34m,\u001b[0m \u001b[0mrectangle\u001b[0m\u001b[0;34m)\u001b[0m\u001b[0;34m:\u001b[0m\u001b[0;34m\u001b[0m\u001b[0;34m\u001b[0m\u001b[0m\n\u001b[0m\u001b[1;32m    845\u001b[0m         \u001b[0;34m\"\"\"Set the clip rectangle to a `.Bbox` or None.\"\"\"\u001b[0m\u001b[0;34m\u001b[0m\u001b[0;34m\u001b[0m\u001b[0m\n\u001b[1;32m    846\u001b[0m         \u001b[0mself\u001b[0m\u001b[0;34m.\u001b[0m\u001b[0m_cliprect\u001b[0m \u001b[0;34m=\u001b[0m \u001b[0mrectangle\u001b[0m\u001b[0;34m\u001b[0m\u001b[0;34m\u001b[0m\u001b[0m\n",
            "\u001b[0;31mKeyboardInterrupt\u001b[0m: "
          ]
        }
      ]
    },
    {
      "cell_type": "code",
      "source": [
        "Pi=4*count/N\n",
        "print('Pi=%f'%Pi)"
      ],
      "metadata": {
        "colab": {
          "base_uri": "https://localhost:8080/"
        },
        "id": "RzJ_Ojt_czj4",
        "outputId": "3c69de58-6c9a-4e58-d6b8-3836c59b4edf"
      },
      "execution_count": null,
      "outputs": [
        {
          "output_type": "stream",
          "name": "stdout",
          "text": [
            "Pi=3.153200\n"
          ]
        }
      ]
    },
    {
      "cell_type": "markdown",
      "source": [
        "## 주가 경로(stock Process) 생성하기"
      ],
      "metadata": {
        "id": "O10O8VXhhwNl"
      }
    },
    {
      "cell_type": "code",
      "source": [
        "import numpy as np\n",
        "import matplotlib.pyplot as plt"
      ],
      "metadata": {
        "id": "RpiXhwT_h2sE"
      },
      "execution_count": null,
      "outputs": []
    },
    {
      "cell_type": "code",
      "source": [
        "N=180; S=np.zeros([N,1]); S[0]=100\n",
        "vol=0.2; r=0.02; T=1; dt=T/N\n",
        "t=np.linspace(0, T, N)\n",
        "z=np.random.normal(0, 1, N)\n",
        "\n",
        "for i in range(N-1):\n",
        "    S[i+1,0]=S[i,0]*np.exp((r-0.5*vol**2)*dt+vol*z[i]*np.sqrt(dt))\n",
        "plt.plot(t, S[:,0], 'ro-')\n",
        "plt.xlabel('Time')\n",
        "plt.ylabel('Stock Process')\n",
        "plt.show()"
      ],
      "metadata": {
        "colab": {
          "base_uri": "https://localhost:8080/",
          "height": 449
        },
        "id": "DvMPkwLUoi8R",
        "outputId": "6addea1a-3753-4987-d262-d268ced054c8"
      },
      "execution_count": null,
      "outputs": [
        {
          "output_type": "display_data",
          "data": {
            "text/plain": [
              "<Figure size 640x480 with 1 Axes>"
            ],
            "image/png": "[encoded data removed]"
          },
          "metadata": {}
        }
      ]
    },
    {
      "cell_type": "code",
      "source": [
        "N=365; S=np.zeros([N,1]); S[0]=100\n",
        "vol=0.2; r=0.02; T=1; dt=T/N\n",
        "t=np.linspace(0, T, N)\n",
        "plt.xlabel('Time')\n",
        "plt.ylabel('Stock Process')\n",
        "for k in range(0,50):\n",
        "    z=np.random.normal(0, 1, N)\n",
        "    for i in range(N-1):\n",
        "        S[i+1,0]=S[i,0]*np.exp((r-0.5*vol**2)*dt+vol*z[i]*np.sqrt(dt))\n",
        "    plt.plot(t[:], S[:], 'k-', linewidth=0.3)\n",
        "plt.show()"
      ],
      "metadata": {
        "colab": {
          "base_uri": "https://localhost:8080/",
          "height": 449
        },
        "id": "HiipGhajoB0-",
        "outputId": "555ece6e-39f1-4936-ce82-8179bf8db423"
      },
      "execution_count": null,
      "outputs": [
        {
          "output_type": "display_data",
          "data": {
            "text/plain": [
              "<Figure size 640x480 with 1 Axes>"
            ],
            "image/png": "[encoded data removed]"
          },
          "metadata": {}
        }
      ]
    },
    {
      "cell_type": "markdown",
      "source": [
        "## MC를 이용한 ELS 가격결정"
      ],
      "metadata": {
        "id": "FmkeTLdKCoRN"
      }
    },
    {
      "cell_type": "markdown",
      "source": [
        "### 기초자산이 1개인 ELS"
      ],
      "metadata": {
        "id": "xIgvgxhFD7Kf"
      }
    },
    {
      "cell_type": "markdown",
      "source": [
        "#### ① KOSPI200 기초자산 ELS"
      ],
      "metadata": {
        "id": "7mIMevyzj5k4"
      }
    },
    {
      "cell_type": "code",
      "source": [
        "import numpy as np\n",
        "from datetime import date\n",
        "import math\n",
        "import numpy.random as npr\n",
        "from pylab import plt, mpl"
      ],
      "metadata": {
        "id": "cEVMXzI0Cnwm"
      },
      "execution_count": null,
      "outputs": []
    },
    {
      "cell_type": "code",
      "source": [
        "n=10000    # 시뮬레이션 횟수\n",
        "r=0.0250    # 이자율, 3년 국고채 금리\n",
        "vol=0.2163 # 변동성\n",
        "n0=date.toordinal(date(2025,3,19))  # 최초 기준가격 결정일\n",
        "n1=date.toordinal(date(2025,9,16))  # 1차 조기 상환일\n",
        "n2=date.toordinal(date(2026,3,16))  # 2차 조기 상환일\n",
        "n3=date.toordinal(date(2026,9,16))  # 3차 조기 상환일\n",
        "n4=date.toordinal(date(2027,3,16))  # 4차 조기 상환일\n",
        "n5=date.toordinal(date(2027,9,10))  # 5차 조기 상환일\n",
        "n6=date.toordinal(date(2028,3,15))  # 만기 상환일\n",
        "\n",
        "check_day=np.array([n1-n0, n2-n0, n3-n0, n4-n0, n5-n0, n6-n0])\n",
        "oneyear=365; tot_date=n6-n0\n",
        "dt=1/oneyear\n",
        "S=np.zeros([tot_date+1, 1])\n",
        "S[0]=100.0  # 기초자산 초기값\n",
        "strike_price=np.array([0.95, 0.90, 0.85, 0.80, 0.75, 0.70])*S[0]  # 조기 행사가격\n",
        "repay_n=len(strike_price) # 조기상환 횟수\n",
        "kib=0.6*S[0]; dummy=0.183  # 낙인 배리어, 더미 이자율\n",
        "\n",
        "early_count = np.zeros([repay_n, 1]) # 각 조기상환기간 충족횟수\n",
        "maturity_count = 0 # 만기상환 발생횟수\n",
        "lose_count = 0 # 만기손실 발생횟수\n",
        "\n",
        "coupon_rate=np.array([0.0305, 0.061, 0.0915, 0.122, 0.1525, 0.183])  # 조기 상환시 쿠폰 이자율\n",
        "payment=np.zeros([repay_n, 1])\n",
        "facevalue=10000  # 액면금액\n",
        "tot_payoff=np.zeros([repay_n, 1])  # 전체 페이오프\n",
        "payoff=np.zeros([repay_n, 1])  # 페이오프\n",
        "discount_payoff=np.zeros([repay_n, 1])  # 페이오프의 현가"
      ],
      "metadata": {
        "id": "DvtPfMKsEXgs"
      },
      "execution_count": null,
      "outputs": []
    },
    {
      "cell_type": "code",
      "source": [
        "for j in range(repay_n):\n",
        "    payment[j]=facevalue*(1+coupon_rate[j])"
      ],
      "metadata": {
        "id": "mqoayDYdI65x"
      },
      "execution_count": null,
      "outputs": []
    },
    {
      "cell_type": "code",
      "source": [
        "for i in range(n):\n",
        "    z=np.random.normal(0, 1, size=[tot_date,1])  # 만기상환일 만큼의 난수 생성\n",
        "    for j in range(tot_date):\n",
        "        S[j+1]=S[j]*np.exp((r-0.5*vol**2)*dt+vol*np.sqrt(dt)*z[j])  # 임의의 주가 경로 생성\n",
        "    S_checkday=S[check_day]\n",
        "    payoff=np.zeros([repay_n, 1]); repay_event=0\n",
        "    for j in range(repay_n):\n",
        "        if S_checkday[j] >= strike_price[j]:  # 조기상환일에 주가를 체크, 조기 상환여부 결정\n",
        "            payoff[j]=payment[j]\n",
        "            early_count[j] += 1\n",
        "            repay_event=1\n",
        "            break\n",
        "    if repay_event == 0:  # 조기상환 되지 않고 만기까지 온 경우\n",
        "       if min(S) > kib:  # 낙인 배리어 아래로 내려간 적이 없는 경우\n",
        "           payoff[-1]=facevalue*(1+dummy)\n",
        "           maturity_count += 1\n",
        "       else:  # 낙인 배리어 아래로 내려간 적이 있는 경우\n",
        "           payoff[-1]=facevalue*(S[-1]/S[0])\n",
        "           lose_count += 1\n",
        "    tot_payoff=tot_payoff+payoff\n",
        "mean_payoff=tot_payoff/n\n",
        "for j in range(repay_n):  # 페이오프를 무위험 이자율로 할인하여 현재 가격을 구함\n",
        "    discount_payoff[j]=mean_payoff[j]*np.exp(-r*check_day[j]/oneyear)\n",
        "price=np.sum(discount_payoff)\n",
        "print(price)"
      ],
      "metadata": {
        "id": "Y-yseQZQQZqW",
        "colab": {
          "base_uri": "https://localhost:8080/"
        },
        "outputId": "a2e2b779-de72-41c3-fa10-39f105bf3926"
      },
      "execution_count": null,
      "outputs": [
        {
          "output_type": "stream",
          "name": "stdout",
          "text": [
            "9934.566414611763\n"
          ]
        }
      ]
    },
    {
      "cell_type": "code",
      "source": [
        "print('총 시뮬레이션 횟수 : %d' % (n))\n",
        "print('조기상환 발생횟수')\n",
        "for j in range(repay_n):\n",
        "    print('%d차 : %d, 발생빈도 : %.2f' % (j+1, early_count[j], early_count[j]/n*100),\"%\")\n",
        "\n",
        "print('만기상환 발생횟수 : %d, 발생빈도 : %.2f' % (maturity_count, (maturity_count)/n*100), \"%\")\n",
        "print('만기손실 발생횟수 : %d, 발생빈도 : %.2f' % (lose_count, (lose_count/n)*100), \"%\")"
      ],
      "metadata": {
        "colab": {
          "base_uri": "https://localhost:8080/"
        },
        "id": "kRCU_rsMEoZ3",
        "outputId": "1c91975c-09bf-429e-e67f-6e74a15709b1"
      },
      "execution_count": null,
      "outputs": [
        {
          "output_type": "stream",
          "name": "stdout",
          "text": [
            "총 시뮬레이션 횟수 : 10000\n",
            "조기상환 발생횟수\n",
            "1차 : 6268, 발생빈도 : 62.68 %\n",
            "2차 : 1487, 발생빈도 : 14.87 %\n",
            "3차 : 665, 발생빈도 : 6.65 %\n",
            "4차 : 404, 발생빈도 : 4.04 %\n",
            "5차 : 269, 발생빈도 : 2.69 %\n",
            "6차 : 192, 발생빈도 : 1.92 %\n",
            "만기상환 발생횟수 : 42, 발생빈도 : 0.42 %\n",
            "만기손실 발생횟수 : 673, 발생빈도 : 6.73 %\n"
          ]
        },
        {
          "output_type": "stream",
          "name": "stderr",
          "text": [
            "/tmp/ipython-input-20-2353948544.py:4: DeprecationWarning: Conversion of an array with ndim > 0 to a scalar is deprecated, and will error in future. Ensure you extract a single element from your array before performing this operation. (Deprecated NumPy 1.25.)\n",
            "  print('%d차 : %d, 발생빈도 : %.2f' % (j+1, early_count[j], early_count[j]/n*100),\"%\")\n"
          ]
        }
      ]
    },
    {
      "cell_type": "markdown",
      "source": [
        "##### Jump Diffusion Model"
      ],
      "metadata": {
        "id": "GKfZwdETVp9u"
      }
    },
    {
      "cell_type": "code",
      "source": [
        "lamb = 1.5\n",
        "mu = -0.055\n",
        "delta = 0.13"
      ],
      "metadata": {
        "id": "Ud8bN9UBVoNa"
      },
      "execution_count": null,
      "outputs": []
    },
    {
      "cell_type": "code",
      "source": [
        "rj = lamb * (math.exp(mu + 0.5 * delta ** 2) - 1)"
      ],
      "metadata": {
        "id": "X2QXtNSUWMf_"
      },
      "execution_count": null,
      "outputs": []
    },
    {
      "cell_type": "code",
      "source": [
        "dt=1/oneyear\n",
        "S=np.zeros([tot_date+1, 1])\n",
        "S[0]=100.0  # 기초자산 초기값\n",
        "\n",
        "early_count = np.zeros([repay_n, 1]) # 각 조기상환기간 충족횟수\n",
        "maturity_count = 0 # 만기상환 발생횟수\n",
        "lose_count = 0 # 만기손실 발생횟수\n",
        "\n",
        "payment=np.zeros([repay_n, 1])\n",
        "facevalue=10000  # 액면금액\n",
        "tot_payoff=np.zeros([repay_n, 1])  # 전체 페이오프\n",
        "payoff=np.zeros([repay_n, 1])  # 페이오프\n",
        "discount_payoff=np.zeros([repay_n, 1])  # 페이오프의 현가\n",
        "\n",
        "for j in range(repay_n):\n",
        "    payment[j]=facevalue*(1+coupon_rate[j])"
      ],
      "metadata": {
        "id": "3qmy2Twop67b"
      },
      "execution_count": null,
      "outputs": []
    },
    {
      "cell_type": "code",
      "source": [
        "for i in range(n):\n",
        "    z=np.random.normal(0, 1, size=[tot_date,1])  # 만기상환일 만큼의 난수 생성\n",
        "    sn1 = npr.standard_normal(tot_date)\n",
        "    poi = npr.poisson(lamb * dt, tot_date)\n",
        "    for j in range(tot_date):\n",
        "        S[j+1]=S[j]*np.exp((r-rj-0.5*vol**2)*dt+vol*np.sqrt(dt)*z[j] + (np.exp(mu + delta * sn1[j]) - 1) * poi[j])  # 임의의 주가 경로 생성\n",
        "    S_checkday=S[check_day]\n",
        "    payoff=np.zeros([repay_n, 1]); repay_event=0\n",
        "    for j in range(repay_n):\n",
        "        if S_checkday[j] >= strike_price[j]:  # 조기상환일에 주가를 체크, 조기 상환여부 결정\n",
        "            payoff[j]=payment[j]\n",
        "            early_count[j] += 1\n",
        "            repay_event=1\n",
        "            break\n",
        "    if repay_event == 0:  # 조기상환 되지 않고 만기까지 온 경우\n",
        "       if min(S) > kib:  # 낙인 배리어 아래로 내려간 적이 없는 경우\n",
        "           payoff[-1]=facevalue*(1+dummy)\n",
        "           maturity_count += 1\n",
        "       else:  # 낙인 배리어 아래로 내려간 적이 있는 경우\n",
        "           payoff[-1]=facevalue*(S[-1]/S[0])\n",
        "           lose_count += 1\n",
        "    tot_payoff=tot_payoff+payoff\n",
        "mean_payoff=tot_payoff/n\n",
        "for j in range(repay_n):  # 페이오프를 무위험 이자율로 할인하여 현재 가격을 구함\n",
        "    discount_payoff[j]=mean_payoff[j]*np.exp(-r*check_day[j]/oneyear)\n",
        "price=np.sum(discount_payoff)\n",
        "print(price)"
      ],
      "metadata": {
        "colab": {
          "base_uri": "https://localhost:8080/"
        },
        "id": "PHUYA5CeXS_y",
        "outputId": "921c9c15-5c9f-45f6-ecac-fdc9000aba64"
      },
      "execution_count": null,
      "outputs": [
        {
          "output_type": "stream",
          "name": "stdout",
          "text": [
            "9813.653961609554\n"
          ]
        }
      ]
    },
    {
      "cell_type": "code",
      "source": [
        "print('총 시뮬레이션 횟수 : %d' % (n))\n",
        "print('조기상환 발생횟수')\n",
        "for j in range(repay_n):\n",
        "    print('%d차 : %d, 발생빈도 : %.2f' % (j+1, early_count[j], early_count[j]/n*100),\"%\")\n",
        "\n",
        "print('만기상환 발생횟수 : %d, 발생빈도 : %.2f' % (maturity_count, (maturity_count)/n*100), \"%\")\n",
        "print('만기손실 발생횟수 : %d, 발생빈도 : %.2f' % (lose_count, (lose_count/n)*100), \"%\")"
      ],
      "metadata": {
        "colab": {
          "base_uri": "https://localhost:8080/"
        },
        "id": "EGxOkbpBjqa8",
        "outputId": "dcf37c51-2a69-4431-e317-f17b7a0cdd4b"
      },
      "execution_count": null,
      "outputs": [
        {
          "output_type": "stream",
          "name": "stdout",
          "text": [
            "총 시뮬레이션 횟수 : 10000\n",
            "조기상환 발생횟수\n",
            "1차 : 6218, 발생빈도 : 62.18 %\n",
            "2차 : 1360, 발생빈도 : 13.60 %\n",
            "3차 : 645, 발생빈도 : 6.45 %\n",
            "4차 : 422, 발생빈도 : 4.22 %\n",
            "5차 : 283, 발생빈도 : 2.83 %\n",
            "6차 : 220, 발생빈도 : 2.20 %\n",
            "만기상환 발생횟수 : 16, 발생빈도 : 0.16 %\n",
            "만기손실 발생횟수 : 836, 발생빈도 : 8.36 %\n"
          ]
        },
        {
          "output_type": "stream",
          "name": "stderr",
          "text": [
            "/tmp/ipython-input-33-2353948544.py:4: DeprecationWarning: Conversion of an array with ndim > 0 to a scalar is deprecated, and will error in future. Ensure you extract a single element from your array before performing this operation. (Deprecated NumPy 1.25.)\n",
            "  print('%d차 : %d, 발생빈도 : %.2f' % (j+1, early_count[j], early_count[j]/n*100),\"%\")\n"
          ]
        }
      ]
    },
    {
      "cell_type": "markdown",
      "source": [
        "#### 개별주식이 기초자산인 ELS 평가(Palantir Technologies Inc. Class A)"
      ],
      "metadata": {
        "id": "W7pXj3B8tTFf"
      }
    },
    {
      "cell_type": "code",
      "source": [
        "import numpy as np\n",
        "from datetime import date\n",
        "import math\n",
        "import numpy.random as npr\n",
        "from pylab import plt, mpl"
      ],
      "metadata": {
        "id": "udI0bv8wtctV"
      },
      "execution_count": null,
      "outputs": []
    },
    {
      "cell_type": "code",
      "source": [
        "n=10000    # 시뮬레이션 횟수\n",
        "r=0.025    # 이자율, 3년 국고채 금리\n",
        "vol=0.699  # 변동성\n",
        "n0=date.toordinal(date(2025,2,14))  # 최초 기준가격 결정일\n",
        "n1=date.toordinal(date(2025,8,12))  # 1차 조기 상환일\n",
        "n2=date.toordinal(date(2026,2,11))  # 2차 조기 상환일\n",
        "n3=date.toordinal(date(2026,8,12))  # 3차 조기 상환일\n",
        "n4=date.toordinal(date(2027,2,10))  # 4차 조기 상환일\n",
        "n5=date.toordinal(date(2027,8,11))  # 5차 조기 상환일\n",
        "n6=date.toordinal(date(2028,2,10))  # 만기 상환일\n",
        "\n",
        "check_day=np.array([n1-n0, n2-n0, n3-n0, n4-n0, n5-n0, n6-n0])\n",
        "oneyear=365; tot_date=n6-n0\n",
        "dt=1/oneyear\n",
        "S=np.zeros([tot_date+1, 1])\n",
        "S[0]=100.0  # 기초자산 초기값\n",
        "strike_price=np.array([0.80, 0.80, 0.80, 0.75, 0.70, 0.65])*S[0]  # 조기 행사가격\n",
        "repay_n=len(strike_price) # 조기상환 횟수\n",
        "kib=0.2*S[0]; dummy=0.30  # 낙인 배리어, 더미 이자율\n",
        "\n",
        "early_count = np.zeros([repay_n, 1]) # 각 조기상환기간 충족횟수\n",
        "maturity_count = 0 # 만기상환 발생횟수\n",
        "lose_count = 0 # 만기손실 발생횟수\n",
        "\n",
        "coupon_rate=np.array([0.05, 0.10, 0.15, 0.20, 0.25, 0.30])  # 조기 상환시 쿠폰 이자율\n",
        "payment=np.zeros([repay_n, 1])\n",
        "facevalue=10000  # 액면금액\n",
        "tot_payoff=np.zeros([repay_n, 1])  # 전체 페이오프\n",
        "payoff=np.zeros([repay_n, 1])  # 페이오프\n",
        "discount_payoff=np.zeros([repay_n, 1])  # 페이오프의 현가"
      ],
      "metadata": {
        "id": "lx4oqSIC0_bp"
      },
      "execution_count": null,
      "outputs": []
    },
    {
      "cell_type": "code",
      "source": [
        "for j in range(repay_n):\n",
        "    payment[j]=facevalue*(1+coupon_rate[j])"
      ],
      "metadata": {
        "id": "hvTB3nnT0_Jx"
      },
      "execution_count": null,
      "outputs": []
    },
    {
      "cell_type": "code",
      "source": [
        "for i in range(n):\n",
        "    z=np.random.normal(0, 1, size=[tot_date,1])  # 만기상환일 만큼 난수 생성\n",
        "    for j in range(tot_date):\n",
        "        S[j+1]=S[j]*np.exp((r-0.5*vol**2)*dt+vol*np.sqrt(dt)*z[j])  # 임의의 주가 경로 생성\n",
        "    S_checkday=S[check_day]\n",
        "    payoff=np.zeros([repay_n, 1]); repay_event=0\n",
        "    for j in range(repay_n):\n",
        "        if S_checkday[j] >= strike_price[j]:  # 조기상환일에 주가를 체크, 조기 상환여부 결정\n",
        "            payoff[j]=payment[j]\n",
        "            early_count[j] += 1\n",
        "            repay_event=1\n",
        "            break\n",
        "    if repay_event == 0:  # 조기상환 되지 않고 만기까지 온 경우\n",
        "       if min(S) > kib:  # 낙인 배리어 아래로 내려간 적이 없는 경우\n",
        "           payoff[-1]=facevalue*(1+dummy)\n",
        "           maturity_count += 1\n",
        "       else:  # 낙인 배리어 아래로 내려간 적이 있는 경우\n",
        "           St = (S[-3]+S[-2]+S[-1])/3\n",
        "           payoff[-1]=facevalue*(St/S[0])\n",
        "           lose_count += 1\n",
        "    tot_payoff=tot_payoff+payoff\n",
        "mean_payoff=tot_payoff/n\n",
        "for j in range(repay_n):  # 페이오프를 무위험 이자율로 할인하여 현재 가격을 구함\n",
        "    discount_payoff[j]=mean_payoff[j]*np.exp(-r*check_day[j]/oneyear)\n",
        "price=np.sum(discount_payoff)\n",
        "print(price)"
      ],
      "metadata": {
        "colab": {
          "base_uri": "https://localhost:8080/"
        },
        "id": "vzIengTO1IYR",
        "outputId": "291e719b-43e9-4e97-bc2a-214baedaeef7"
      },
      "execution_count": null,
      "outputs": [
        {
          "output_type": "stream",
          "name": "stdout",
          "text": [
            "8926.011866809178\n"
          ]
        }
      ]
    },
    {
      "cell_type": "code",
      "source": [
        "print('총 시뮬레이션 횟수 : %d' % (n))\n",
        "print('조기상환 발생횟수')\n",
        "for j in range(repay_n):\n",
        "    print('%d차 : %d, 발생빈도 : %.2f' % (j+1, early_count[j], early_count[j]/n*100),\"%\")\n",
        "\n",
        "print('만기상환 발생횟수 : %d, 발생빈도 : %.2f' % (maturity_count, (maturity_count)/n*100), \"%\")\n",
        "print('만기손실 발생횟수 : %d, 발생빈도 : %.2f' % (lose_count, (lose_count/n)*100), \"%\")"
      ],
      "metadata": {
        "colab": {
          "base_uri": "https://localhost:8080/"
        },
        "id": "oxQHAXXO2CDB",
        "outputId": "b18f0b4e-0a2f-4235-ae22-3b195952501c"
      },
      "execution_count": null,
      "outputs": [
        {
          "output_type": "stream",
          "name": "stdout",
          "text": [
            "총 시뮬레이션 횟수 : 10000\n",
            "조기상환 발생횟수\n",
            "1차 : 5849, 발생빈도 : 58.49 %\n",
            "2차 : 900, 발생빈도 : 9.00 %\n",
            "3차 : 345, 발생빈도 : 3.45 %\n",
            "4차 : 268, 발생빈도 : 2.68 %\n",
            "5차 : 193, 발생빈도 : 1.93 %\n",
            "6차 : 148, 발생빈도 : 1.48 %\n",
            "만기상환 발생횟수 : 414, 발생빈도 : 4.14 %\n",
            "만기손실 발생횟수 : 1883, 발생빈도 : 18.83 %\n"
          ]
        },
        {
          "output_type": "stream",
          "name": "stderr",
          "text": [
            "/tmp/ipython-input-38-2353948544.py:4: DeprecationWarning: Conversion of an array with ndim > 0 to a scalar is deprecated, and will error in future. Ensure you extract a single element from your array before performing this operation. (Deprecated NumPy 1.25.)\n",
            "  print('%d차 : %d, 발생빈도 : %.2f' % (j+1, early_count[j], early_count[j]/n*100),\"%\")\n"
          ]
        }
      ]
    },
    {
      "cell_type": "markdown",
      "source": [
        "##### Jump Diffusion Model"
      ],
      "metadata": {
        "id": "kNdR-x6BMI_H"
      }
    },
    {
      "cell_type": "code",
      "source": [
        "lamb = 1.2\n",
        "mu = -0.175\n",
        "delta = 0.1"
      ],
      "metadata": {
        "id": "dcfOOAZNMTEo"
      },
      "execution_count": null,
      "outputs": []
    },
    {
      "cell_type": "code",
      "source": [
        "rj = lamb * (math.exp(mu + 0.5 * delta ** 2) - 1)"
      ],
      "metadata": {
        "id": "WzCb-sKAN6s2"
      },
      "execution_count": null,
      "outputs": []
    },
    {
      "cell_type": "code",
      "source": [
        "dt=1/oneyear\n",
        "S=np.zeros([tot_date+1, 1])\n",
        "S[0]=100.0  # 기초자산 초기값\n",
        "\n",
        "early_count = np.zeros([repay_n, 1]) # 각 조기상환기간 충족횟수\n",
        "maturity_count = 0 # 만기상환 발생횟수\n",
        "lose_count = 0 # 만기손실 발생횟수\n",
        "\n",
        "payment=np.zeros([repay_n, 1])\n",
        "facevalue=10000  # 액면금액\n",
        "tot_payoff=np.zeros([repay_n, 1])  # 전체 페이오프\n",
        "payoff=np.zeros([repay_n, 1])  # 페이오프\n",
        "discount_payoff=np.zeros([repay_n, 1])  # 페이오프의 현가\n",
        "\n",
        "for j in range(repay_n):\n",
        "    payment[j]=facevalue*(1+coupon_rate[j])"
      ],
      "metadata": {
        "id": "c1zpDWdLN96f"
      },
      "execution_count": null,
      "outputs": []
    },
    {
      "cell_type": "code",
      "source": [
        "for i in range(n):\n",
        "    z=np.random.normal(0, 1, size=[tot_date,1])  # 만기상환일 만큼의 난수 생성\n",
        "    sn1 = npr.standard_normal(tot_date)\n",
        "    poi = npr.poisson(lamb * dt, tot_date)\n",
        "    for j in range(tot_date):\n",
        "        S[j+1]=S[j]*np.exp((r-rj-0.5*vol**2)*dt+vol*np.sqrt(dt)*z[j] + (np.exp(mu + delta * sn1[j]) - 1) * poi[j])  # 임의의 주가 경로 생성\n",
        "    S_checkday=S[check_day]\n",
        "    payoff=np.zeros([repay_n, 1]); repay_event=0\n",
        "    for j in range(repay_n):\n",
        "        if S_checkday[j] >= strike_price[j]:  # 조기상환일에 주가를 체크, 조기 상환여부 결정\n",
        "            payoff[j]=payment[j]\n",
        "            early_count[j] += 1\n",
        "            repay_event=1\n",
        "            break\n",
        "    if repay_event == 0:  # 조기상환 되지 않고 만기까지 온 경우\n",
        "       if min(S) > kib:  # 낙인 배리어 아래로 내려간 적이 없는 경우\n",
        "           payoff[-1]=facevalue*(1+dummy)\n",
        "           maturity_count += 1\n",
        "       else:  # 낙인 배리어 아래로 내려간 적이 있는 경우\n",
        "           payoff[-1]=facevalue*(S[-1]/S[0])\n",
        "           lose_count += 1\n",
        "    tot_payoff=tot_payoff+payoff\n",
        "mean_payoff=tot_payoff/n\n",
        "for j in range(repay_n):  # 페이오프를 무위험 이자율로 할인하여 현재 가격을 구함\n",
        "    discount_payoff[j]=mean_payoff[j]*np.exp(-r*check_day[j]/oneyear)\n",
        "price=np.sum(discount_payoff)\n",
        "print(price)"
      ],
      "metadata": {
        "colab": {
          "base_uri": "https://localhost:8080/"
        },
        "id": "CA_eTEdhOA2H",
        "outputId": "9cc79c8f-29d9-48d6-dda9-ba33e672a7ac"
      },
      "execution_count": null,
      "outputs": [
        {
          "output_type": "stream",
          "name": "stdout",
          "text": [
            "8984.616371837346\n"
          ]
        }
      ]
    },
    {
      "cell_type": "code",
      "source": [
        "print('총 시뮬레이션 횟수 : %d' % (n))\n",
        "print('조기상환 발생횟수')\n",
        "for j in range(repay_n):\n",
        "    print('%d차 : %d, 발생빈도 : %.2f' % (j+1, early_count[j], early_count[j]/n*100),\"%\")\n",
        "\n",
        "print('만기상환 발생횟수 : %d, 발생빈도 : %.2f' % (maturity_count, (maturity_count)/n*100), \"%\")\n",
        "print('만기손실 발생횟수 : %d, 발생빈도 : %.2f' % (lose_count, (lose_count/n)*100), \"%\")"
      ],
      "metadata": {
        "colab": {
          "base_uri": "https://localhost:8080/"
        },
        "id": "fN4PKoV-Os6s",
        "outputId": "e906e20c-0e2a-43cf-c615-8452bb8397b6"
      },
      "execution_count": null,
      "outputs": [
        {
          "output_type": "stream",
          "name": "stdout",
          "text": [
            "총 시뮬레이션 횟수 : 10000\n",
            "조기상환 발생횟수\n",
            "1차 : 6046, 발생빈도 : 60.46 %\n",
            "2차 : 845, 발생빈도 : 8.45 %\n",
            "3차 : 381, 발생빈도 : 3.81 %\n",
            "4차 : 258, 발생빈도 : 2.58 %\n",
            "5차 : 190, 발생빈도 : 1.90 %\n",
            "6차 : 137, 발생빈도 : 1.37 %\n",
            "만기상환 발생횟수 : 351, 발생빈도 : 3.51 %\n",
            "만기손실 발생횟수 : 1792, 발생빈도 : 17.92 %\n"
          ]
        },
        {
          "output_type": "stream",
          "name": "stderr",
          "text": [
            "/tmp/ipython-input-43-2353948544.py:4: DeprecationWarning: Conversion of an array with ndim > 0 to a scalar is deprecated, and will error in future. Ensure you extract a single element from your array before performing this operation. (Deprecated NumPy 1.25.)\n",
            "  print('%d차 : %d, 발생빈도 : %.2f' % (j+1, early_count[j], early_count[j]/n*100),\"%\")\n"
          ]
        }
      ]
    },
    {
      "cell_type": "markdown",
      "source": [
        "#### 개별주식이 기초자산인 ELS 평가 Tesla Inc.(UW)"
      ],
      "metadata": {
        "id": "CJGC9m5zV7WW"
      }
    },
    {
      "cell_type": "code",
      "source": [
        "n=10000    # 시뮬레이션 횟수\n",
        "r=0.025    # 이자율, 3년 국고채 금리\n",
        "vol=0.7546  # 변동성\n",
        "n0=date.toordinal(date(2025,3,28))  # 최초 기준가격 결정일\n",
        "n1=date.toordinal(date(2025,9,24))  # 1차 조기 상환일\n",
        "n2=date.toordinal(date(2026,3,25))  # 2차 조기 상환일\n",
        "n3=date.toordinal(date(2026,9,22))  # 3차 조기 상환일\n",
        "n4=date.toordinal(date(2027,3,24))  # 4차 조기 상환일\n",
        "n5=date.toordinal(date(2027,9,24))  # 5차 조기 상환일\n",
        "n6=date.toordinal(date(2028,3,24))  # 만기 상환일\n",
        "\n",
        "check_day=np.array([n1-n0, n2-n0, n3-n0, n4-n0, n5-n0, n6-n0])\n",
        "oneyear=365; tot_date=n6-n0\n",
        "dt=1/oneyear\n",
        "S=np.zeros([tot_date+1, 1])\n",
        "S[0]=100.0  # 기초자산 초기값\n",
        "strike_price=np.array([0.80, 0.80, 0.80, 0.75, 0.70, 0.65])*S[0]  # 조기 행사가격\n",
        "repay_n=len(strike_price) # 조기상환 횟수\n",
        "kib=0.25*S[0]; dummy=0.453  # 낙인 배리어, 더미 이자율\n",
        "\n",
        "early_count = np.zeros([repay_n, 1]) # 각 조기상환기간 충족횟수\n",
        "maturity_count = 0 # 만기상환 발생횟수\n",
        "lose_count = 0 # 만기손실 발생횟수\n",
        "\n",
        "coupon_rate=np.array([0.075, 0.15, 0.225, 0.30, 0.375, 0.453])  # 조기 상환시 쿠폰 이자율\n",
        "payment=np.zeros([repay_n, 1])\n",
        "facevalue=10000  # 액면금액\n",
        "tot_payoff=np.zeros([repay_n, 1])  # 전체 페이오프\n",
        "payoff=np.zeros([repay_n, 1])  # 페이오프\n",
        "discount_payoff=np.zeros([repay_n, 1])  # 페이오프의 현가"
      ],
      "metadata": {
        "id": "3t23zaBjTK33"
      },
      "execution_count": null,
      "outputs": []
    },
    {
      "cell_type": "code",
      "source": [
        "for j in range(repay_n):\n",
        "    payment[j]=facevalue*(1+coupon_rate[j])"
      ],
      "metadata": {
        "id": "vkq70LUIXmmk"
      },
      "execution_count": null,
      "outputs": []
    },
    {
      "cell_type": "code",
      "source": [
        "for i in range(n):\n",
        "    z=np.random.normal(0, 1, size=[tot_date,1])  # 만기상환일 만큼 난수 생성\n",
        "    for j in range(tot_date):\n",
        "        S[j+1]=S[j]*np.exp((r-0.5*vol**2)*dt+vol*np.sqrt(dt)*z[j])  # 임의의 주가 경로 생성\n",
        "    S_checkday=S[check_day]\n",
        "    payoff=np.zeros([repay_n, 1]); repay_event=0\n",
        "    for j in range(repay_n):\n",
        "        if S_checkday[j] >= strike_price[j]:  # 조기상환일에 주가를 체크, 조기 상환여부 결정\n",
        "            payoff[j]=payment[j]\n",
        "            early_count[j] += 1\n",
        "            repay_event=1\n",
        "            break\n",
        "    if repay_event == 0:  # 조기상환 되지 않고 만기까지 온 경우\n",
        "       if min(S) > kib:  # 낙인 배리어 아래로 내려간 적이 없는 경우\n",
        "           payoff[-1]=facevalue*(1+dummy)\n",
        "           maturity_count += 1\n",
        "       else:  # 낙인 배리어 아래로 내려간 적이 있는 경우\n",
        "           St = (S[-3]+S[-2]+S[-1])/3\n",
        "           payoff[-1]=facevalue*(St/S[0])\n",
        "           lose_count += 1\n",
        "    tot_payoff=tot_payoff+payoff\n",
        "mean_payoff=tot_payoff/n\n",
        "for j in range(repay_n):  # 페이오프를 무위험 이자율로 할인하여 현재 가격을 구함\n",
        "    discount_payoff[j]=mean_payoff[j]*np.exp(-r*check_day[j]/oneyear)\n",
        "price=np.sum(discount_payoff)\n",
        "print(price)"
      ],
      "metadata": {
        "colab": {
          "base_uri": "https://localhost:8080/"
        },
        "id": "vX3LJ3lwXpa-",
        "outputId": "0bc2c9b8-d570-4bae-e8d0-89dd78a80613"
      },
      "execution_count": null,
      "outputs": [
        {
          "output_type": "stream",
          "name": "stdout",
          "text": [
            "8863.443826158295\n"
          ]
        }
      ]
    },
    {
      "cell_type": "code",
      "source": [
        "print('총 시뮬레이션 횟수 : %d' % (n))\n",
        "print('조기상환 발생횟수')\n",
        "for j in range(repay_n):\n",
        "    print('%d차 : %d, 발생빈도 : %.2f' % (j+1, early_count[j], early_count[j]/n*100),\"%\")\n",
        "\n",
        "print('만기상환 발생횟수 : %d, 발생빈도 : %.2f' % (maturity_count, (maturity_count)/n*100), \"%\")\n",
        "print('만기손실 발생횟수 : %d, 발생빈도 : %.2f' % (lose_count, (lose_count/n)*100), \"%\")"
      ],
      "metadata": {
        "colab": {
          "base_uri": "https://localhost:8080/"
        },
        "id": "qRShF2tzYTMV",
        "outputId": "aed07737-f775-4756-a813-9dc0fd8714ec"
      },
      "execution_count": null,
      "outputs": [
        {
          "output_type": "stream",
          "name": "stdout",
          "text": [
            "총 시뮬레이션 횟수 : 10000\n",
            "조기상환 발생횟수\n",
            "1차 : 5743, 발생빈도 : 57.43 %\n",
            "2차 : 865, 발생빈도 : 8.65 %\n",
            "3차 : 381, 발생빈도 : 3.81 %\n",
            "4차 : 268, 발생빈도 : 2.68 %\n",
            "5차 : 195, 발생빈도 : 1.95 %\n",
            "6차 : 145, 발생빈도 : 1.45 %\n",
            "만기상환 발생횟수 : 134, 발생빈도 : 1.34 %\n",
            "만기손실 발생횟수 : 2269, 발생빈도 : 22.69 %\n"
          ]
        },
        {
          "output_type": "stream",
          "name": "stderr",
          "text": [
            "/tmp/ipython-input-48-2353948544.py:4: DeprecationWarning: Conversion of an array with ndim > 0 to a scalar is deprecated, and will error in future. Ensure you extract a single element from your array before performing this operation. (Deprecated NumPy 1.25.)\n",
            "  print('%d차 : %d, 발생빈도 : %.2f' % (j+1, early_count[j], early_count[j]/n*100),\"%\")\n"
          ]
        }
      ]
    },
    {
      "cell_type": "markdown",
      "source": [
        "##### Jump Diffusion Model"
      ],
      "metadata": {
        "id": "15_qpEX_Yj8M"
      }
    },
    {
      "cell_type": "code",
      "source": [
        "lamb = 1.2\n",
        "mu = -0.19\n",
        "delta = 0.1"
      ],
      "metadata": {
        "id": "i0DryrRgYrek"
      },
      "execution_count": null,
      "outputs": []
    },
    {
      "cell_type": "code",
      "source": [
        "rj = lamb * (math.exp(mu + 0.5 * delta ** 2) - 1)"
      ],
      "metadata": {
        "id": "teNAeQ5-YyM1"
      },
      "execution_count": null,
      "outputs": []
    },
    {
      "cell_type": "code",
      "source": [
        "dt=1/oneyear\n",
        "S=np.zeros([tot_date+1, 1])\n",
        "S[0]=100.0  # 기초자산 초기값\n",
        "\n",
        "early_count = np.zeros([repay_n, 1]) # 각 조기상환기간 충족횟수\n",
        "maturity_count = 0 # 만기상환 발생횟수\n",
        "lose_count = 0 # 만기손실 발생횟수\n",
        "\n",
        "payment=np.zeros([repay_n, 1])\n",
        "facevalue=10000  # 액면금액\n",
        "tot_payoff=np.zeros([repay_n, 1])  # 전체 페이오프\n",
        "payoff=np.zeros([repay_n, 1])  # 페이오프\n",
        "discount_payoff=np.zeros([repay_n, 1])  # 페이오프의 현가\n",
        "\n",
        "for j in range(repay_n):\n",
        "    payment[j]=facevalue*(1+coupon_rate[j])"
      ],
      "metadata": {
        "id": "UnmoHRWCY1VU"
      },
      "execution_count": null,
      "outputs": []
    },
    {
      "cell_type": "code",
      "source": [
        "for i in range(n):\n",
        "    z=np.random.normal(0, 1, size=[tot_date,1])  # 만기상환일 만큼의 난수 생성\n",
        "    sn1 = npr.standard_normal(tot_date)\n",
        "    poi = npr.poisson(lamb * dt, tot_date)\n",
        "    for j in range(tot_date):\n",
        "        S[j+1]=S[j]*np.exp((r-rj-0.5*vol**2)*dt+vol*np.sqrt(dt)*z[j] + (np.exp(mu + delta * sn1[j]) - 1) * poi[j])  # 임의의 주가 경로 생성\n",
        "    S_checkday=S[check_day]\n",
        "    payoff=np.zeros([repay_n, 1]); repay_event=0\n",
        "    for j in range(repay_n):\n",
        "        if S_checkday[j] >= strike_price[j]:  # 조기상환일에 주가를 체크, 조기 상환여부 결정\n",
        "            payoff[j]=payment[j]\n",
        "            early_count[j] += 1\n",
        "            repay_event=1\n",
        "            break\n",
        "    if repay_event == 0:  # 조기상환 되지 않고 만기까지 온 경우\n",
        "       if min(S) > kib:  # 낙인 배리어 아래로 내려간 적이 없는 경우\n",
        "           payoff[-1]=facevalue*(1+dummy)\n",
        "           maturity_count += 1\n",
        "       else:  # 낙인 배리어 아래로 내려간 적이 있는 경우\n",
        "           payoff[-1]=facevalue*(S[-1]/S[0])\n",
        "           lose_count += 1\n",
        "    tot_payoff=tot_payoff+payoff\n",
        "mean_payoff=tot_payoff/n\n",
        "for j in range(repay_n):  # 페이오프를 무위험 이자율로 할인하여 현재 가격을 구함\n",
        "    discount_payoff[j]=mean_payoff[j]*np.exp(-r*check_day[j]/oneyear)\n",
        "price=np.sum(discount_payoff)\n",
        "print(price)"
      ],
      "metadata": {
        "colab": {
          "base_uri": "https://localhost:8080/"
        },
        "id": "0PYc5F1rY6z1",
        "outputId": "e6b4fda7-5aa1-4d52-fd7f-8a40f09f650f"
      },
      "execution_count": null,
      "outputs": [
        {
          "output_type": "stream",
          "name": "stdout",
          "text": [
            "8774.542577927574\n"
          ]
        }
      ]
    },
    {
      "cell_type": "code",
      "source": [
        "print('총 시뮬레이션 횟수 : %d' % (n))\n",
        "print('조기상환 발생횟수')\n",
        "for j in range(repay_n):\n",
        "    print('%d차 : %d, 발생빈도 : %.2f' % (j+1, early_count[j], early_count[j]/n*100),\"%\")\n",
        "\n",
        "print('만기상환 발생횟수 : %d, 발생빈도 : %.2f' % (maturity_count, (maturity_count)/n*100), \"%\")\n",
        "print('만기손실 발생횟수 : %d, 발생빈도 : %.2f' % (lose_count, (lose_count/n)*100), \"%\")"
      ],
      "metadata": {
        "colab": {
          "base_uri": "https://localhost:8080/"
        },
        "id": "QHvknNE2ZMcG",
        "outputId": "665c57ff-d9d4-4f49-bd22-98545cac500d"
      },
      "execution_count": null,
      "outputs": [
        {
          "output_type": "stream",
          "name": "stdout",
          "text": [
            "총 시뮬레이션 횟수 : 10000\n",
            "조기상환 발생횟수\n",
            "1차 : 5725, 발생빈도 : 57.25 %\n",
            "2차 : 856, 발생빈도 : 8.56 %\n",
            "3차 : 406, 발생빈도 : 4.06 %\n",
            "4차 : 244, 발생빈도 : 2.44 %\n",
            "5차 : 197, 발생빈도 : 1.97 %\n",
            "6차 : 135, 발생빈도 : 1.35 %\n",
            "만기상환 발생횟수 : 94, 발생빈도 : 0.94 %\n",
            "만기손실 발생횟수 : 2343, 발생빈도 : 23.43 %\n"
          ]
        },
        {
          "output_type": "stream",
          "name": "stderr",
          "text": [
            "/tmp/ipython-input-53-2353948544.py:4: DeprecationWarning: Conversion of an array with ndim > 0 to a scalar is deprecated, and will error in future. Ensure you extract a single element from your array before performing this operation. (Deprecated NumPy 1.25.)\n",
            "  print('%d차 : %d, 발생빈도 : %.2f' % (j+1, early_count[j], early_count[j]/n*100),\"%\")\n"
          ]
        }
      ]
    },
    {
      "cell_type": "markdown",
      "source": [
        "### 기초자산이 2개인 ELS"
      ],
      "metadata": {
        "id": "3R4mkt1F2FG2"
      }
    },
    {
      "cell_type": "markdown",
      "source": [
        "#### 2개의 기초자산이 상관계수를 갖는 주가 경로 생성"
      ],
      "metadata": {
        "id": "ZGX7MXIl2PPE"
      }
    },
    {
      "cell_type": "code",
      "source": [
        "import numpy as np\n",
        "import matplotlib.pyplot as plt\n",
        "from numpy.ma.core import correlate\n",
        "plt.close()"
      ],
      "metadata": {
        "id": "6eFcxtzFEp07"
      },
      "execution_count": 4,
      "outputs": []
    },
    {
      "cell_type": "code",
      "source": [
        "x_vol=0.25; y_vol=0.30\n",
        "r=0.035\n",
        "rho=0.5\n",
        "N=100; T=1\n",
        "S1=np.zeros((N+1, 1))\n",
        "S2=np.zeros((N+1, 1))\n",
        "S1[0]=100; S2[0]=100\n",
        "dt=T/N; t=np.linspace(0, T, N+1)\n",
        "correlation=np.array([[1, rho], [rho, 1]])\n",
        "cholesky=np.linalg.cholesky(correlation)\n",
        "z0=np.random.normal(0, 1, size=[N, 2])\n",
        "np.random.seed(56)\n",
        "z0=np.transpose(z0)  # 행벡터를 열벡터로 전치\n",
        "z=np.matmul(cholesky, z0)  # 상관관계가 반영된 난수생성\n",
        "Worst_performer=np.zeros((N+1, 1))"
      ],
      "metadata": {
        "id": "yFVZyDQUnSqn"
      },
      "execution_count": 9,
      "outputs": []
    },
    {
      "cell_type": "code",
      "source": [
        "for i in range(N):\n",
        "    S1[i+1]=S1[i]*np.exp((r-0.5*x_vol**2)*dt+x_vol*z[0,i]*np.sqrt(dt))\n",
        "    S2[i+1]=S2[i]*np.exp((r-0.5*y_vol**2)*dt+y_vol*z[1,i]*np.sqrt(dt))\n",
        "    Worst_performer[i]=min(S1[i,0], S2[i,0])\n",
        "    Worst_performer[-1]=min(S1[-1,0], S2[-1,0])\n",
        "\n",
        "plt.plot(t, S1[:], 'k-', label='asset1', linewidth=1, markersize=3.5)\n",
        "plt.plot(t, S2[:], 'k--', label='asset2', linewidth=1, markersize=3.5)\n",
        "plt.plot(t, Worst_performer[:], 'r+-', label='min(S1,S2)', linewidth=1, markersize=3.5)\n",
        "plt.legend()\n",
        "# plt.xlim(0, 1.0)\n",
        "# plt.ylim(70, 130)\n",
        "plt.xlabel('Time')\n",
        "plt.ylabel('Stock Process')\n",
        "plt.legend(prop={'size':10})\n",
        "plt.show()"
      ],
      "metadata": {
        "colab": {
          "base_uri": "https://localhost:8080/",
          "height": 449
        },
        "id": "zRqGHxEZ6xzE",
        "outputId": "3aecd44e-fc76-4ad9-a6ae-815a2e4674fe"
      },
      "execution_count": 10,
      "outputs": [
        {
          "output_type": "display_data",
          "data": {
            "text/plain": [
              "<Figure size 640x480 with 1 Axes>"
            ],
            "image/png": "[encoded data removed]"
          },
          "metadata": {}
        }
      ]
    },
    {
      "cell_type": "markdown",
      "source": [
        "#### 2개의 기초자산 ELS 가격 계산"
      ],
      "metadata": {
        "id": "Lwjy9mpWNeK4"
      }
    },
    {
      "cell_type": "markdown",
      "source": [
        "#### 지수로 구성하는 경우(GBM)"
      ],
      "metadata": {
        "id": "4k3iOoi4EQ2K"
      }
    },
    {
      "cell_type": "code",
      "source": [
        "import numpy as np\n",
        "from numpy.ma.core import correlate\n",
        "from datetime import date\n",
        "import math\n",
        "import numpy.random as npr\n",
        "from pylab import plt, mpl"
      ],
      "metadata": {
        "id": "R3tNA_aRAVFo"
      },
      "execution_count": 13,
      "outputs": []
    },
    {
      "cell_type": "code",
      "source": [
        "n=10000; r=0.025  # 시뮬레이션 횟수, 무위험이자율\n",
        "x_vol=0.2182; y_vol=0.3063  # 두 지수의 연간 변동성\n",
        "rho=0.2244; corr=np.array([[1, rho], [rho, 1]])  # 상관계수\n",
        "n0=date.toordinal(date(2025, 3, 21))  # 최초 기준가격 결정일\n",
        "n1=date.toordinal(date(2025, 9, 16))  # 1차 조기 상환일\n",
        "n2=date.toordinal(date(2026, 3, 17))  # 2차 조기 상환일\n",
        "n3=date.toordinal(date(2026, 9, 16))  # 3차 조기 상환일\n",
        "n4=date.toordinal(date(2027, 3, 16))  # 4차 조기 상환일\n",
        "n5=date.toordinal(date(2027, 9, 13))  # 5차 조기 상환일\n",
        "n6=date.toordinal(date(2028, 3, 16))  # 만기 상환일\n",
        "check_day=np.array([n1-n0, n2-n0, n3-n0, n4-n0, n5-n0, n6-n0])\n",
        "coupon_rate=np.array([0.035, 0.07, 0.105, 0.14, 0.175, 0.21])  # 조기 상환시 쿠폰 이자율\n",
        "oneyear=365; tot_date=n6-n0; dt=1/oneyear\n",
        "k=np.linalg.cholesky(corr)\n",
        "S1=np.zeros([tot_date+1, 1])\n",
        "S2=np.zeros([tot_date+1, 1])\n",
        "S1[0]=100.0; S2[0]=100.0  # 기초자산 초기값\n",
        "ratio_S1=S1[0]; ratio_S2=S2[0]\n",
        "strike_price=np.array([0.90, 0.85, 0.85, 0.80, 0.80, 0.75])  # 조기 행사가격\n",
        "repay_n=len(strike_price) # 조기상환 횟수\n",
        "kib=0.45; dummy=0.21  # 낙인 배리어, 더미 이자율\n",
        "payment=np.zeros([repay_n, 1])\n",
        "payoff=np.zeros([repay_n, 1])  # 페이오프\n",
        "tot_payoff=np.zeros([repay_n, 1])  # 전체 페이오프\n",
        "discount_payoff=np.zeros([repay_n, 1])  # 페이오프의 현가\n",
        "early_count = np.zeros([repay_n, 1]) # 각 조기상환기간 충족횟수\n",
        "maturity_count = 0 # 만기상환 발생횟수\n",
        "lose_count = 0 # 만기손실 발생횟수\n",
        "facevalue=10**4  # 액면금액\n",
        "for j in range(repay_n):\n",
        "    payment[j]=facevalue*(1+coupon_rate[j])"
      ],
      "metadata": {
        "id": "8UIDMpPqVBQI"
      },
      "execution_count": 14,
      "outputs": []
    },
    {
      "cell_type": "code",
      "source": [
        "for i in range(n):\n",
        "    w0=np.random.normal(0, 1, size=[tot_date,2])  # 만기상환일 만큼의 난수 생성\n",
        "    w0=np.transpose(w0)\n",
        "    w=np.matmul(k, w0)\n",
        "    for j in range(tot_date):\n",
        "        S1[j+1]=S1[j]*np.exp((r-0.5*x_vol**2)*dt+x_vol*np.sqrt(dt)*w[0, j])  #\n",
        "        S2[j+1]=S2[j]*np.exp((r-0.5*y_vol**2)*dt+y_vol*np.sqrt(dt)*w[1, j])  #\n",
        "    R1=S1/ratio_S1; R2=S2/ratio_S2\n",
        "    WP=np.minimum(R1, R2)\n",
        "    WP_checkday=WP[check_day]\n",
        "    payoff=np.zeros([repay_n, 1]); repay_event=0\n",
        "    for j in range(repay_n):\n",
        "        if WP_checkday[j] >= strike_price[j]:  # 조기상환일에 주가를 체크, 조기 상환여부 결정\n",
        "            payoff[j]=payment[j]\n",
        "            early_count[j] += 1\n",
        "            repay_event=1\n",
        "            break\n",
        "    if repay_event == 0:  # 조기상환 되지 않고 만기까지 온 경우\n",
        "       if min(WP) > kib:  # 낙인 배리어 아래로 내려간 적이 없는 경우\n",
        "           payoff[-1]=facevalue*(1+dummy)\n",
        "           maturity_count += 1\n",
        "       else:  # 낙인 배리어 아래로 내려간 적이 있는 경우\n",
        "           payoff[-1]=facevalue*WP[-1]\n",
        "           lose_count += 1\n",
        "    tot_payoff=tot_payoff + payoff\n",
        "mean_payoff=tot_payoff/n\n",
        "for j in range(repay_n):  # 페이오프를 무위험 이자율로 할인하여 현재 가격을 구함\n",
        "    discount_payoff[j]=mean_payoff[j]*np.exp(-r*check_day[j]/oneyear)\n",
        "price=np.sum(discount_payoff)\n",
        "print(price)"
      ],
      "metadata": {
        "colab": {
          "base_uri": "https://localhost:8080/"
        },
        "id": "ggExc9o4VFAG",
        "outputId": "03a71699-9266-427e-f36d-f816a3e02368"
      },
      "execution_count": 15,
      "outputs": [
        {
          "output_type": "stream",
          "name": "stdout",
          "text": [
            "9775.329392506463\n"
          ]
        }
      ]
    },
    {
      "cell_type": "code",
      "source": [
        "print('총 시뮬레이션 횟수 : %d' % (n))\n",
        "print('조기상환 발생횟수')\n",
        "for j in range(repay_n):\n",
        "    print('%d차 : %d, 발생빈도 : %.2f' % (j+1, early_count[j], early_count[j]/n*100),\"%\")\n",
        "\n",
        "print('만기상환 발생횟수 : %d, 발생빈도 : %.2f' % (maturity_count, (maturity_count)/n*100), \"%\")\n",
        "print('만기손실 발생횟수 : %d, 발생빈도 : %.2f' % (lose_count, (lose_count/n)*100), \"%\")"
      ],
      "metadata": {
        "colab": {
          "base_uri": "https://localhost:8080/"
        },
        "id": "CyoVroMRbRJz",
        "outputId": "4e3f0fb1-febb-4157-85d1-a2083655f1c1"
      },
      "execution_count": 16,
      "outputs": [
        {
          "output_type": "stream",
          "name": "stdout",
          "text": [
            "총 시뮬레이션 횟수 : 10000\n",
            "조기상환 발생횟수\n",
            "1차 : 5342, 발생빈도 : 53.42 %\n",
            "2차 : 1372, 발생빈도 : 13.72 %\n",
            "3차 : 485, 발생빈도 : 4.85 %\n",
            "4차 : 468, 발생빈도 : 4.68 %\n",
            "5차 : 239, 발생빈도 : 2.39 %\n",
            "6차 : 234, 발생빈도 : 2.34 %\n",
            "만기상환 발생횟수 : 799, 발생빈도 : 7.99 %\n",
            "만기손실 발생횟수 : 1061, 발생빈도 : 10.61 %\n"
          ]
        },
        {
          "output_type": "stream",
          "name": "stderr",
          "text": [
            "/tmp/ipython-input-16-2353948544.py:4: DeprecationWarning: Conversion of an array with ndim > 0 to a scalar is deprecated, and will error in future. Ensure you extract a single element from your array before performing this operation. (Deprecated NumPy 1.25.)\n",
            "  print('%d차 : %d, 발생빈도 : %.2f' % (j+1, early_count[j], early_count[j]/n*100),\"%\")\n"
          ]
        }
      ]
    },
    {
      "cell_type": "markdown",
      "source": [
        "#### Jump Diffusion Model"
      ],
      "metadata": {
        "id": "qCP2F2hcNcwO"
      }
    },
    {
      "cell_type": "code",
      "source": [
        "lamb = 1.2\n",
        "mu1 = -0.055\n",
        "mu2 = -0.0766\n",
        "delta = 0.12"
      ],
      "metadata": {
        "id": "0mLOz5qPNcIr"
      },
      "execution_count": 17,
      "outputs": []
    },
    {
      "cell_type": "code",
      "source": [
        "rj1 = lamb * (math.exp(mu1 + 0.5 * delta ** 2) - 1)\n",
        "rj2 = lamb * (math.exp(mu2 + 0.5 * delta ** 2) - 1)"
      ],
      "metadata": {
        "id": "h52CRgrpNh_D"
      },
      "execution_count": 18,
      "outputs": []
    },
    {
      "cell_type": "code",
      "source": [
        "dt=1/oneyear\n",
        "S1=np.zeros([tot_date+1, 1])\n",
        "S2=np.zeros([tot_date+1, 1])\n",
        "S1[0]=100.0; S2[0]=100.0\n",
        "\n",
        "early_count = np.zeros([repay_n, 1]) # 각 조기상환기간 충족횟수\n",
        "maturity_count = 0 # 만기상환 발생횟수\n",
        "lose_count = 0 # 만기손실 발생횟수\n",
        "\n",
        "payment=np.zeros([repay_n, 1])\n",
        "facevalue=10000  # 액면금액\n",
        "tot_payoff=np.zeros([repay_n, 1])  # 전체 페이오프\n",
        "payoff=np.zeros([repay_n, 1])  # 페이오프\n",
        "discount_payoff=np.zeros([repay_n, 1])  # 페이오프의 현가\n",
        "\n",
        "for j in range(repay_n):\n",
        "    payment[j]=facevalue*(1+coupon_rate[j])"
      ],
      "metadata": {
        "id": "bqczAWUaNkdE"
      },
      "execution_count": 19,
      "outputs": []
    },
    {
      "cell_type": "code",
      "source": [
        "for i in range(n):\n",
        "    w0=np.random.normal(0, 1, size=[tot_date,2])  # 만기상환일 만큼의 난수 생성\n",
        "    w0=np.transpose(w0)\n",
        "    w=np.matmul(k, w0)\n",
        "    sn11 = npr.standard_normal(tot_date)\n",
        "    poi1 = npr.poisson(lamb * dt, tot_date)\n",
        "    sn12 = npr.standard_normal(tot_date)\n",
        "    poi2 = npr.poisson(lamb * dt, tot_date)\n",
        "    for j in range(tot_date):\n",
        "        S1[j+1]=S1[j]*np.exp((r-rj1-0.5*x_vol**2)*dt+x_vol*np.sqrt(dt)*w[0, j]+(np.exp(mu1 + delta * sn11[j]) - 1) * poi1[j])  #\n",
        "        S2[j+1]=S2[j]*np.exp((r-rj2-0.5*y_vol**2)*dt+y_vol*np.sqrt(dt)*w[1, j]+(np.exp(mu2 + delta * sn12[j]) - 1) * poi2[j])  #\n",
        "    R1=S1/ratio_S1; R2=S2/ratio_S2\n",
        "    WP=np.minimum(R1, R2)\n",
        "    WP_checkday=WP[check_day]\n",
        "    payoff=np.zeros([repay_n, 1]); repay_event=0\n",
        "    for j in range(repay_n):\n",
        "        if WP_checkday[j] >= strike_price[j]:  # 조기상환일에 주가를 체크, 조기 상환여부 결정\n",
        "            payoff[j]=payment[j]\n",
        "            early_count[j] += 1\n",
        "            repay_event=1\n",
        "            break\n",
        "    if repay_event == 0:  # 조기상환 되지 않고 만기까지 온 경우\n",
        "       if min(WP) > kib:  # 낙인 배리어 아래로 내려간 적이 없는 경우\n",
        "           payoff[-1]=facevalue*(1+dummy)\n",
        "           maturity_count += 1\n",
        "       else:  # 낙인 배리어 아래로 내려간 적이 있는 경우\n",
        "           payoff[-1]=facevalue*WP[-1]\n",
        "           lose_count += 1\n",
        "    tot_payoff=tot_payoff + payoff\n",
        "mean_payoff=tot_payoff/n\n",
        "for j in range(repay_n):  # 페이오프를 무위험 이자율로 할인하여 현재 가격을 구함\n",
        "    discount_payoff[j]=mean_payoff[j]*np.exp(-r*check_day[j]/oneyear)\n",
        "price=np.sum(discount_payoff)\n",
        "print(price)"
      ],
      "metadata": {
        "colab": {
          "base_uri": "https://localhost:8080/"
        },
        "id": "k9E6ToneNn3q",
        "outputId": "0b513d26-09ae-4063-9ece-312d0af51a04"
      },
      "execution_count": 20,
      "outputs": [
        {
          "output_type": "stream",
          "name": "stdout",
          "text": [
            "9537.793628877216\n"
          ]
        }
      ]
    },
    {
      "cell_type": "code",
      "source": [
        "print('총 시뮬레이션 횟수 : %d' % (n))\n",
        "print('조기상환 발생횟수')\n",
        "for j in range(repay_n):\n",
        "    print('%d차 : %d, 발생빈도 : %.2f' % (j+1, early_count[j], early_count[j]/n*100),\"%\")\n",
        "\n",
        "print('만기상환 발생횟수 : %d, 발생빈도 : %.2f' % (maturity_count, (maturity_count)/n*100), \"%\")\n",
        "print('만기손실 발생횟수 : %d, 발생빈도 : %.2f' % (lose_count, (lose_count/n)*100), \"%\")"
      ],
      "metadata": {
        "colab": {
          "base_uri": "https://localhost:8080/"
        },
        "id": "eMyBz8MqSEky",
        "outputId": "38c5a2e9-135f-425b-dfc6-480f96e20248"
      },
      "execution_count": 21,
      "outputs": [
        {
          "output_type": "stream",
          "name": "stdout",
          "text": [
            "총 시뮬레이션 횟수 : 10000\n",
            "조기상환 발생횟수\n",
            "1차 : 5069, 발생빈도 : 50.69 %\n",
            "2차 : 1460, 발생빈도 : 14.60 %\n",
            "3차 : 533, 발생빈도 : 5.33 %\n",
            "4차 : 414, 발생빈도 : 4.14 %\n",
            "5차 : 247, 발생빈도 : 2.47 %\n",
            "6차 : 249, 발생빈도 : 2.49 %\n",
            "만기상환 발생횟수 : 639, 발생빈도 : 6.39 %\n",
            "만기손실 발생횟수 : 1389, 발생빈도 : 13.89 %\n"
          ]
        },
        {
          "output_type": "stream",
          "name": "stderr",
          "text": [
            "/tmp/ipython-input-21-2353948544.py:4: DeprecationWarning: Conversion of an array with ndim > 0 to a scalar is deprecated, and will error in future. Ensure you extract a single element from your array before performing this operation. (Deprecated NumPy 1.25.)\n",
            "  print('%d차 : %d, 발생빈도 : %.2f' % (j+1, early_count[j], early_count[j]/n*100),\"%\")\n"
          ]
        }
      ]
    },
    {
      "cell_type": "markdown",
      "source": [
        "##### 기초자산이 두 개(지수+종목)인 ELS 평가"
      ],
      "metadata": {
        "id": "BmOPKM24KJMn"
      }
    },
    {
      "cell_type": "markdown",
      "source": [
        "##### GBM"
      ],
      "metadata": {
        "id": "2yPUNHDaKUiH"
      }
    },
    {
      "cell_type": "code",
      "source": [
        "import numpy as np\n",
        "from numpy.ma.core import correlate\n",
        "from datetime import date\n",
        "import math\n",
        "import numpy.random as npr\n",
        "from pylab import plt, mpl"
      ],
      "metadata": {
        "id": "AxPMxcnkKYnN"
      },
      "execution_count": 22,
      "outputs": []
    },
    {
      "cell_type": "code",
      "source": [
        "n=10000; r=0.025  # 시뮬레이션 횟수, 무위험이자율\n",
        "x_vol=0.2163; y_vol=0.316  # 지수, 종목의 연간 변동성\n",
        "rho=0.8143; corr=np.array([[1, rho], [rho, 1]])  # 상관계수\n",
        "n0=date.toordinal(date(2025, 3, 19))  # 최초 기준가격 결정일\n",
        "n1=date.toordinal(date(2025, 9, 16))  # 1차 조기 상환일\n",
        "n2=date.toordinal(date(2026, 3, 16))  # 2차 조기 상환일\n",
        "n3=date.toordinal(date(2026, 9, 16))  # 3차 조기 상환일\n",
        "n4=date.toordinal(date(2027, 3, 16))  # 4차 조기 상환일\n",
        "n5=date.toordinal(date(2027, 9, 10))  # 5차 조기 상환일\n",
        "n6=date.toordinal(date(2028, 3, 15))  # 만기 상환일\n",
        "check_day=np.array([n1-n0, n2-n0, n3-n0, n4-n0, n5-n0, n6-n0])\n",
        "coupon_rate=np.array([0.0455, 0.091, 0.1365, 0.182, 0.2275, 0.273])  # 조기 상환시 쿠폰 이자율\n",
        "oneyear=365; tot_date=n6-n0; dt=1/oneyear\n",
        "k=np.linalg.cholesky(corr)\n",
        "S1=np.zeros([tot_date+1, 1])\n",
        "S2=np.zeros([tot_date+1, 1])\n",
        "S1[0]=100.0; S2[0]=100.0  # 기초자산 초기값\n",
        "ratio_S1=S1[0]; ratio_S2=S2[0]\n",
        "strike_price=np.array([0.90, 0.90, 0.85, 0.80, 0.75, 0.70])  # 조기 행사가격\n",
        "repay_n=len(strike_price) # 조기상환 횟수\n",
        "kib=0.55; dummy=0.273  # 낙인 배리어, 더미 이자율\n",
        "payment=np.zeros([repay_n, 1])\n",
        "payoff=np.zeros([repay_n, 1])  # 페이오프\n",
        "tot_payoff=np.zeros([repay_n, 1])  # 전체 페이오프\n",
        "discount_payoff=np.zeros([repay_n, 1])  # 페이오프의 현가\n",
        "early_count = np.zeros([repay_n, 1]) # 각 조기상환기간 충족횟수\n",
        "maturity_count = 0 # 만기상환 발생횟수\n",
        "lose_count = 0 # 만기손실 발생횟수\n",
        "facevalue=10**4  # 액면금액\n",
        "for j in range(repay_n):\n",
        "    payment[j]=facevalue*(1+coupon_rate[j])"
      ],
      "metadata": {
        "id": "L0avIy3dKdeN"
      },
      "execution_count": 23,
      "outputs": []
    },
    {
      "cell_type": "code",
      "source": [
        "for i in range(n):\n",
        "    w0=np.random.normal(0, 1, size=[tot_date,2])  # 만기상환일 만큼의 난수 생성\n",
        "    w0=np.transpose(w0)\n",
        "    w=np.matmul(k, w0)\n",
        "    for j in range(tot_date):\n",
        "        S1[j+1]=S1[j]*np.exp((r-0.5*x_vol**2)*dt+x_vol*np.sqrt(dt)*w[0, j])  #\n",
        "        S2[j+1]=S2[j]*np.exp((r-0.5*y_vol**2)*dt+y_vol*np.sqrt(dt)*w[1, j])  #\n",
        "    R1=S1/ratio_S1; R2=S2/ratio_S2\n",
        "    WP=np.minimum(R1, R2)\n",
        "    WP_checkday=WP[check_day]\n",
        "    payoff=np.zeros([repay_n, 1]); repay_event=0\n",
        "    for j in range(repay_n):\n",
        "        if WP_checkday[j] >= strike_price[j]:  # 조기상환일에 주가를 체크, 조기 상환여부 결정\n",
        "            payoff[j]=payment[j]\n",
        "            early_count[j] += 1\n",
        "            repay_event=1\n",
        "            break\n",
        "    if repay_event == 0:  # 조기상환 되지 않고 만기까지 온 경우\n",
        "       if min(WP) > kib:  # 낙인 배리어 아래로 내려간 적이 없는 경우\n",
        "           payoff[-1]=facevalue*(1+dummy)\n",
        "           maturity_count += 1\n",
        "       else:  # 낙인 배리어 아래로 내려간 적이 있는 경우\n",
        "           payoff[-1]=facevalue*WP[-1]\n",
        "           lose_count += 1\n",
        "    tot_payoff=tot_payoff + payoff\n",
        "mean_payoff=tot_payoff/n\n",
        "for j in range(repay_n):  # 페이오프를 무위험 이자율로 할인하여 현재 가격을 구함\n",
        "    discount_payoff[j]=mean_payoff[j]*np.exp(-r*check_day[j]/oneyear)\n",
        "price=np.sum(discount_payoff)\n",
        "print(price)"
      ],
      "metadata": {
        "colab": {
          "base_uri": "https://localhost:8080/"
        },
        "id": "GQcAHTjgKi2N",
        "outputId": "165e0fa1-ee77-42b8-b421-fb400b717e87"
      },
      "execution_count": 24,
      "outputs": [
        {
          "output_type": "stream",
          "name": "stdout",
          "text": [
            "9732.547406894815\n"
          ]
        }
      ]
    },
    {
      "cell_type": "code",
      "source": [
        "print('총 시뮬레이션 횟수 : %d' % (n))\n",
        "print('조기상환 발생횟수')\n",
        "for j in range(repay_n):\n",
        "    print('%d차 : %d, 발생빈도 : %.2f' % (j+1, early_count[j], early_count[j]/n*100),\"%\")\n",
        "\n",
        "print('만기상환 발생횟수 : %d, 발생빈도 : %.2f' % (maturity_count, (maturity_count)/n*100), \"%\")\n",
        "print('만기손실 발생횟수 : %d, 발생빈도 : %.2f' % (lose_count, (lose_count/n)*100), \"%\")"
      ],
      "metadata": {
        "colab": {
          "base_uri": "https://localhost:8080/"
        },
        "id": "nuNN-l76Mjzq",
        "outputId": "3b573c4b-9ee7-4bb2-c575-56ac861f422f"
      },
      "execution_count": 25,
      "outputs": [
        {
          "output_type": "stream",
          "name": "stdout",
          "text": [
            "총 시뮬레이션 횟수 : 10000\n",
            "조기상환 발생횟수\n",
            "1차 : 6139, 발생빈도 : 61.39 %\n",
            "2차 : 920, 발생빈도 : 9.20 %\n",
            "3차 : 594, 발생빈도 : 5.94 %\n",
            "4차 : 420, 발생빈도 : 4.20 %\n",
            "5차 : 317, 발생빈도 : 3.17 %\n",
            "6차 : 248, 발생빈도 : 2.48 %\n",
            "만기상환 발생횟수 : 64, 발생빈도 : 0.64 %\n",
            "만기손실 발생횟수 : 1298, 발생빈도 : 12.98 %\n"
          ]
        },
        {
          "output_type": "stream",
          "name": "stderr",
          "text": [
            "/tmp/ipython-input-25-2353948544.py:4: DeprecationWarning: Conversion of an array with ndim > 0 to a scalar is deprecated, and will error in future. Ensure you extract a single element from your array before performing this operation. (Deprecated NumPy 1.25.)\n",
            "  print('%d차 : %d, 발생빈도 : %.2f' % (j+1, early_count[j], early_count[j]/n*100),\"%\")\n"
          ]
        }
      ]
    },
    {
      "cell_type": "markdown",
      "source": [
        "##### Jump Diffusion Model"
      ],
      "metadata": {
        "id": "UJeeDQdMM9ng"
      }
    },
    {
      "cell_type": "code",
      "source": [
        "lamb = 1.3\n",
        "mu1 = -0.054\n",
        "mu2 = -0.079\n",
        "delta = 0.12"
      ],
      "metadata": {
        "id": "qSShUjeSM7NH"
      },
      "execution_count": 30,
      "outputs": []
    },
    {
      "cell_type": "code",
      "source": [
        "rj1 = lamb * (math.exp(mu1 + 0.5 * delta ** 2) - 1)\n",
        "rj2 = lamb * (math.exp(mu2 + 0.5 * delta ** 2) - 1)"
      ],
      "metadata": {
        "id": "yXbHewo5NPU_"
      },
      "execution_count": 31,
      "outputs": []
    },
    {
      "cell_type": "code",
      "source": [
        "dt=1/oneyear\n",
        "S1=np.zeros([tot_date+1, 1])\n",
        "S2=np.zeros([tot_date+1, 1])\n",
        "S1[0]=100.0; S2[0]=100.0\n",
        "\n",
        "early_count = np.zeros([repay_n, 1]) # 각 조기상환기간 충족횟수\n",
        "maturity_count = 0 # 만기상환 발생횟수\n",
        "lose_count = 0 # 만기손실 발생횟수\n",
        "\n",
        "payment=np.zeros([repay_n, 1])\n",
        "facevalue=10000  # 액면금액\n",
        "tot_payoff=np.zeros([repay_n, 1])  # 전체 페이오프\n",
        "payoff=np.zeros([repay_n, 1])  # 페이오프\n",
        "discount_payoff=np.zeros([repay_n, 1])  # 페이오프의 현가\n",
        "\n",
        "for j in range(repay_n):\n",
        "    payment[j]=facevalue*(1+coupon_rate[j])"
      ],
      "metadata": {
        "id": "EiNDwZQ7NSdu"
      },
      "execution_count": 32,
      "outputs": []
    },
    {
      "cell_type": "code",
      "source": [
        "for i in range(n):\n",
        "    w0=np.random.normal(0, 1, size=[tot_date,2])  # 만기상환일 만큼의 난수 생성\n",
        "    w0=np.transpose(w0)\n",
        "    w=np.matmul(k, w0)\n",
        "    sn11 = npr.standard_normal(tot_date)\n",
        "    poi1 = npr.poisson(lamb * dt, tot_date)\n",
        "    sn12 = npr.standard_normal(tot_date)\n",
        "    poi2 = npr.poisson(lamb * dt, tot_date)\n",
        "    for j in range(tot_date):\n",
        "        S1[j+1]=S1[j]*np.exp((r-rj1-0.5*x_vol**2)*dt+x_vol*np.sqrt(dt)*w[0, j]+(np.exp(mu1 + delta * sn11[j]) - 1) * poi1[j])  #\n",
        "        S2[j+1]=S2[j]*np.exp((r-rj2-0.5*y_vol**2)*dt+y_vol*np.sqrt(dt)*w[1, j]+(np.exp(mu2 + delta * sn12[j]) - 1) * poi2[j])  #\n",
        "    R1=S1/ratio_S1; R2=S2/ratio_S2\n",
        "    WP=np.minimum(R1, R2)\n",
        "    WP_checkday=WP[check_day]\n",
        "    payoff=np.zeros([repay_n, 1]); repay_event=0\n",
        "    for j in range(repay_n):\n",
        "        if WP_checkday[j] >= strike_price[j]:  # 조기상환일에 주가를 체크, 조기 상환여부 결정\n",
        "            payoff[j]=payment[j]\n",
        "            early_count[j] += 1\n",
        "            repay_event=1\n",
        "            break\n",
        "    if repay_event == 0:  # 조기상환 되지 않고 만기까지 온 경우\n",
        "       if min(WP) > kib:  # 낙인 배리어 아래로 내려간 적이 없는 경우\n",
        "           payoff[-1]=facevalue*(1+dummy)\n",
        "           maturity_count += 1\n",
        "       else:  # 낙인 배리어 아래로 내려간 적이 있는 경우\n",
        "           payoff[-1]=facevalue*WP[-1]\n",
        "           lose_count += 1\n",
        "    tot_payoff=tot_payoff + payoff\n",
        "mean_payoff=tot_payoff/n\n",
        "for j in range(repay_n):  # 페이오프를 무위험 이자율로 할인하여 현재 가격을 구함\n",
        "    discount_payoff[j]=mean_payoff[j]*np.exp(-r*check_day[j]/oneyear)\n",
        "price=np.sum(discount_payoff)\n",
        "print(price)"
      ],
      "metadata": {
        "colab": {
          "base_uri": "https://localhost:8080/"
        },
        "id": "_SjsmKtfNYoX",
        "outputId": "ad27f09f-bf16-4aee-e282-b359c8edfffb"
      },
      "execution_count": 33,
      "outputs": [
        {
          "output_type": "stream",
          "name": "stdout",
          "text": [
            "9544.737873789003\n"
          ]
        }
      ]
    },
    {
      "cell_type": "code",
      "source": [
        "print('총 시뮬레이션 횟수 : %d' % (n))\n",
        "print('조기상환 발생횟수')\n",
        "for j in range(repay_n):\n",
        "    print('%d차 : %d, 발생빈도 : %.2f' % (j+1, early_count[j], early_count[j]/n*100),\"%\")\n",
        "\n",
        "print('만기상환 발생횟수 : %d, 발생빈도 : %.2f' % (maturity_count, (maturity_count)/n*100), \"%\")\n",
        "print('만기손실 발생횟수 : %d, 발생빈도 : %.2f' % (lose_count, (lose_count/n)*100), \"%\")"
      ],
      "metadata": {
        "colab": {
          "base_uri": "https://localhost:8080/"
        },
        "id": "yquaqmF9QXt7",
        "outputId": "38f89355-c0d1-433e-855c-54abe436b14d"
      },
      "execution_count": 34,
      "outputs": [
        {
          "output_type": "stream",
          "name": "stdout",
          "text": [
            "총 시뮬레이션 횟수 : 10000\n",
            "조기상환 발생횟수\n",
            "1차 : 5697, 발생빈도 : 56.97 %\n",
            "2차 : 934, 발생빈도 : 9.34 %\n",
            "3차 : 626, 발생빈도 : 6.26 %\n",
            "4차 : 477, 발생빈도 : 4.77 %\n",
            "5차 : 326, 발생빈도 : 3.26 %\n",
            "6차 : 301, 발생빈도 : 3.01 %\n",
            "만기상환 발생횟수 : 52, 발생빈도 : 0.52 %\n",
            "만기손실 발생횟수 : 1587, 발생빈도 : 15.87 %\n"
          ]
        },
        {
          "output_type": "stream",
          "name": "stderr",
          "text": [
            "/tmp/ipython-input-34-2353948544.py:4: DeprecationWarning: Conversion of an array with ndim > 0 to a scalar is deprecated, and will error in future. Ensure you extract a single element from your array before performing this operation. (Deprecated NumPy 1.25.)\n",
            "  print('%d차 : %d, 발생빈도 : %.2f' % (j+1, early_count[j], early_count[j]/n*100),\"%\")\n"
          ]
        }
      ]
    },
    {
      "cell_type": "markdown",
      "source": [
        "#### 기초자산이 두 개(개별종목)인 ELS 평가"
      ],
      "metadata": {
        "id": "UaoSfrZFEpRO"
      }
    },
    {
      "cell_type": "markdown",
      "source": [
        "##### GBM"
      ],
      "metadata": {
        "id": "3Y3D-Risy8M6"
      }
    },
    {
      "cell_type": "code",
      "source": [
        "import numpy as np\n",
        "from numpy.ma.core import correlate\n",
        "from datetime import date\n",
        "import math\n",
        "import numpy.random as npr\n",
        "from pylab import plt, mpl"
      ],
      "metadata": {
        "id": "qDe6mwmgE1uc"
      },
      "execution_count": 35,
      "outputs": []
    },
    {
      "cell_type": "code",
      "source": [
        "n=10000; r=0.025  # 시뮬레이션 횟수, 무위험이자율\n",
        "x_vol=0.6329; y_vol=0.714  # 두 종목의 연간 변동성\n",
        "rho=0.2971; corr=np.array([[1, rho], [rho, 1]])  # 상관계수\n",
        "n0=date.toordinal(date(2025, 2, 27))  # 최초 기준가격 결정일\n",
        "n1=date.toordinal(date(2025, 8, 22))  # 1차 조기 상환일\n",
        "n2=date.toordinal(date(2026, 2, 24))  # 2차 조기 상환일\n",
        "n3=date.toordinal(date(2026, 8, 24))  # 3차 조기 상환일\n",
        "n4=date.toordinal(date(2027, 2, 22))  # 4차 조기 상환일\n",
        "n5=date.toordinal(date(2027, 8, 24))  # 5차 조기 상환일\n",
        "n6=date.toordinal(date(2028, 2, 18))  # 만기 상환일\n",
        "check_day=np.array([n1-n0, n2-n0, n3-n0, n4-n0, n5-n0, n6-n0])\n",
        "coupon_rate=np.array([0.05775, 0.1155, 0.17325, 0.231, 0.28875, 0.346536])  # 조기 상환시 쿠폰 이자율\n",
        "strike_price=np.array([0.75, 0.75, 0.75, 0.75, 0.70, 0.65])  # 조기 행사가격\n",
        "kib=0.25; dummy=0.3465  # 낙인 배리어, 더미 이자율\n",
        "oneyear=365; tot_date=n6-n0; dt=1/oneyear\n",
        "k=np.linalg.cholesky(corr)\n",
        "S1=np.zeros([tot_date+1, 1])\n",
        "S2=np.zeros([tot_date+1, 1])\n",
        "S1[0]=100.0; S2[0]=100.0  # 기초자산 초기값\n",
        "ratio_S1=S1[0]; ratio_S2=S2[0]\n",
        "repay_n=len(strike_price) # 조기상환 횟수\n",
        "payment=np.zeros([repay_n, 1])\n",
        "payoff=np.zeros([repay_n, 1])  # 페이오프\n",
        "tot_payoff=np.zeros([repay_n, 1])  # 전체 페이오프\n",
        "discount_payoff=np.zeros([repay_n, 1])  # 페이오프의 현가\n",
        "early_count = np.zeros([repay_n, 1]) # 각 조기상환기간 충족횟수\n",
        "maturity_count = 0 # 만기상환 발생횟수\n",
        "lose_count = 0 # 만기손실 발생횟수\n",
        "facevalue=10**4  # 액면금액\n",
        "for j in range(repay_n):\n",
        "    payment[j]=facevalue*(1+coupon_rate[j])"
      ],
      "metadata": {
        "id": "SRQQSBd0q_25"
      },
      "execution_count": 36,
      "outputs": []
    },
    {
      "cell_type": "code",
      "source": [
        "for i in range(n):\n",
        "    w0=np.random.normal(0, 1, size=[tot_date,2])  # 만기상환일 만큼의 난수 생성\n",
        "    w0=np.transpose(w0)\n",
        "    w=np.matmul(k, w0)\n",
        "    for j in range(tot_date):\n",
        "        S1[j+1]=S1[j]*np.exp((r-0.5*x_vol**2)*dt+x_vol*np.sqrt(dt)*w[0, j])  #\n",
        "        S2[j+1]=S2[j]*np.exp((r-0.5*y_vol**2)*dt+y_vol*np.sqrt(dt)*w[1, j])  #\n",
        "    R1=S1/ratio_S1; R2=S2/ratio_S2\n",
        "    WP=np.minimum(R1, R2)\n",
        "    WP_checkday=WP[check_day]\n",
        "    payoff=np.zeros([repay_n, 1]); repay_event=0\n",
        "    for j in range(repay_n):\n",
        "        if WP_checkday[j] >= strike_price[j]:  # 조기상환일에 주가를 체크, 조기 상환여부 결정\n",
        "            payoff[j]=payment[j]\n",
        "            early_count[j] += 1\n",
        "            repay_event=1\n",
        "            break\n",
        "    if repay_event == 0:  # 조기상환 되지 않고 만기까지 온 경우\n",
        "       if min(WP) > kib:  # 낙인 배리어 아래로 내려간 적이 없는 경우\n",
        "           payoff[-1]=facevalue*(1+dummy)\n",
        "           maturity_count += 1\n",
        "       else:  # 낙인 배리어 아래로 내려간 적이 있는 경우\n",
        "           WPL=(WP[-1]+WP[-2]+WP[-3])/3\n",
        "           payoff[-1]=facevalue*WPL\n",
        "           lose_count += 1\n",
        "    tot_payoff=tot_payoff + payoff\n",
        "mean_payoff=tot_payoff/n\n",
        "for j in range(repay_n):  # 페이오프를 무위험 이자율로 할인하여 현재 가격을 구함\n",
        "    discount_payoff[j]=mean_payoff[j]*np.exp(-r*check_day[j]/oneyear)\n",
        "price=np.sum(discount_payoff)\n",
        "print(price)"
      ],
      "metadata": {
        "colab": {
          "base_uri": "https://localhost:8080/"
        },
        "id": "8uW3tC2pq_To",
        "outputId": "21b1a581-2e0e-4627-8a43-b7512b2ed601"
      },
      "execution_count": 37,
      "outputs": [
        {
          "output_type": "stream",
          "name": "stdout",
          "text": [
            "7847.231815003416\n"
          ]
        }
      ]
    },
    {
      "cell_type": "code",
      "source": [
        "print('총 시뮬레이션 횟수 : %d' % (n))\n",
        "print('조기상환 발생횟수')\n",
        "for j in range(repay_n):\n",
        "    print('%d차 : %d, 발생빈도 : %.2f' % (j+1, early_count[j], early_count[j]/n*100),\"%\")\n",
        "\n",
        "print('만기상환 발생횟수 : %d, 발생빈도 : %.2f' % (maturity_count, (maturity_count)/n*100), \"%\")\n",
        "print('만기손실 발생횟수 : %d, 발생빈도 : %.2f' % (lose_count, (lose_count/n)*100), \"%\")"
      ],
      "metadata": {
        "colab": {
          "base_uri": "https://localhost:8080/"
        },
        "id": "9Yw6-ZAarCl8",
        "outputId": "7f88a5ee-d280-48dd-fd88-4e785ff70adf"
      },
      "execution_count": 38,
      "outputs": [
        {
          "output_type": "stream",
          "name": "stdout",
          "text": [
            "총 시뮬레이션 횟수 : 10000\n",
            "조기상환 발생횟수\n",
            "1차 : 4783, 발생빈도 : 47.83 %\n",
            "2차 : 806, 발생빈도 : 8.06 %\n",
            "3차 : 336, 발생빈도 : 3.36 %\n",
            "4차 : 206, 발생빈도 : 2.06 %\n",
            "5차 : 156, 발생빈도 : 1.56 %\n",
            "6차 : 163, 발생빈도 : 1.63 %\n",
            "만기상환 발생횟수 : 313, 발생빈도 : 3.13 %\n",
            "만기손실 발생횟수 : 3237, 발생빈도 : 32.37 %\n"
          ]
        },
        {
          "output_type": "stream",
          "name": "stderr",
          "text": [
            "/tmp/ipython-input-38-2353948544.py:4: DeprecationWarning: Conversion of an array with ndim > 0 to a scalar is deprecated, and will error in future. Ensure you extract a single element from your array before performing this operation. (Deprecated NumPy 1.25.)\n",
            "  print('%d차 : %d, 발생빈도 : %.2f' % (j+1, early_count[j], early_count[j]/n*100),\"%\")\n"
          ]
        }
      ]
    },
    {
      "cell_type": "markdown",
      "source": [
        "##### Jump Diffusion Model"
      ],
      "metadata": {
        "id": "mXO7tT9xUFfW"
      }
    },
    {
      "cell_type": "code",
      "source": [
        "lamb = 1.2\n",
        "mu1 = -0.158\n",
        "mu2 = -0.1785\n",
        "delta = 0.1"
      ],
      "metadata": {
        "id": "icof5cA2UIYN"
      },
      "execution_count": 39,
      "outputs": []
    },
    {
      "cell_type": "code",
      "source": [
        "rj1 = lamb * (math.exp(mu1 + 0.5 * delta ** 2) - 1)\n",
        "rj2 = lamb * (math.exp(mu2 + 0.5 * delta ** 2) - 1)"
      ],
      "metadata": {
        "id": "egazZ4JmUNDE"
      },
      "execution_count": 40,
      "outputs": []
    },
    {
      "cell_type": "code",
      "source": [
        "dt=1/oneyear\n",
        "S1=np.zeros([tot_date+1, 1])\n",
        "S2=np.zeros([tot_date+1, 1])\n",
        "S1[0]=100.0; S2[0]=100.0\n",
        "\n",
        "early_count = np.zeros([repay_n, 1]) # 각 조기상환기간 충족횟수\n",
        "maturity_count = 0 # 만기상환 발생횟수\n",
        "lose_count = 0 # 만기손실 발생횟수\n",
        "\n",
        "payment=np.zeros([repay_n, 1])\n",
        "facevalue=10000  # 액면금액\n",
        "tot_payoff=np.zeros([repay_n, 1])  # 전체 페이오프\n",
        "payoff=np.zeros([repay_n, 1])  # 페이오프\n",
        "discount_payoff=np.zeros([repay_n, 1])  # 페이오프의 현가\n",
        "\n",
        "for j in range(repay_n):\n",
        "    payment[j]=facevalue*(1+coupon_rate[j])"
      ],
      "metadata": {
        "id": "mn0_ajgfUXVd"
      },
      "execution_count": 41,
      "outputs": []
    },
    {
      "cell_type": "code",
      "source": [
        "for i in range(n):\n",
        "    w0=np.random.normal(0, 1, size=[tot_date,2])  # 만기상환일 만큼의 난수 생성\n",
        "    w0=np.transpose(w0)\n",
        "    w=np.matmul(k, w0)\n",
        "    sn11 = npr.standard_normal(tot_date)\n",
        "    poi1 = npr.poisson(lamb * dt, tot_date)\n",
        "    sn12 = npr.standard_normal(tot_date)\n",
        "    poi2 = npr.poisson(lamb * dt, tot_date)\n",
        "    for j in range(tot_date):\n",
        "        S1[j+1]=S1[j]*np.exp((r-rj1-0.5*x_vol**2)*dt+x_vol*np.sqrt(dt)*w[0, j]+(np.exp(mu1 + delta * sn11[j]) - 1) * poi1[j])  #\n",
        "        S2[j+1]=S2[j]*np.exp((r-rj2-0.5*y_vol**2)*dt+y_vol*np.sqrt(dt)*w[1, j]+(np.exp(mu2 + delta * sn12[j]) - 1) * poi2[j])  #\n",
        "    R1=S1/ratio_S1; R2=S2/ratio_S2\n",
        "    WP=np.minimum(R1, R2)\n",
        "    WP_checkday=WP[check_day]\n",
        "    payoff=np.zeros([repay_n, 1]); repay_event=0\n",
        "    for j in range(repay_n):\n",
        "        if WP_checkday[j] >= strike_price[j]:  # 조기상환일에 주가를 체크, 조기 상환여부 결정\n",
        "            payoff[j]=payment[j]\n",
        "            early_count[j] += 1\n",
        "            repay_event=1\n",
        "            break\n",
        "    if repay_event == 0:  # 조기상환 되지 않고 만기까지 온 경우\n",
        "       if min(WP) > kib:  # 낙인 배리어 아래로 내려간 적이 없는 경우\n",
        "           payoff[-1]=facevalue*(1+dummy)\n",
        "           maturity_count += 1\n",
        "       else:  # 낙인 배리어 아래로 내려간 적이 있는 경우\n",
        "           payoff[-1]=facevalue*WP[-1]\n",
        "           lose_count += 1\n",
        "    tot_payoff=tot_payoff + payoff\n",
        "mean_payoff=tot_payoff/n\n",
        "for j in range(repay_n):  # 페이오프를 무위험 이자율로 할인하여 현재 가격을 구함\n",
        "    discount_payoff[j]=mean_payoff[j]*np.exp(-r*check_day[j]/oneyear)\n",
        "price=np.sum(discount_payoff)\n",
        "print(price)"
      ],
      "metadata": {
        "colab": {
          "base_uri": "https://localhost:8080/"
        },
        "id": "_7jR-O86UbOE",
        "outputId": "9d3d6d82-0252-4236-c26d-0a25b8d970df"
      },
      "execution_count": 42,
      "outputs": [
        {
          "output_type": "stream",
          "name": "stdout",
          "text": [
            "7723.482149841982\n"
          ]
        }
      ]
    },
    {
      "cell_type": "code",
      "source": [
        "print('총 시뮬레이션 횟수 : %d' % (n))\n",
        "print('조기상환 발생횟수')\n",
        "for j in range(repay_n):\n",
        "    print('%d차 : %d, 발생빈도 : %.2f' % (j+1, early_count[j], early_count[j]/n*100),\"%\")\n",
        "\n",
        "print('만기상환 발생횟수 : %d, 발생빈도 : %.2f' % (maturity_count, (maturity_count)/n*100), \"%\")\n",
        "print('만기손실 발생횟수 : %d, 발생빈도 : %.2f' % (lose_count, (lose_count/n)*100), \"%\")"
      ],
      "metadata": {
        "colab": {
          "base_uri": "https://localhost:8080/"
        },
        "id": "ePN4jm1ZUhJG",
        "outputId": "367d8d28-eeb4-41e6-bdf2-d8675e9d6704"
      },
      "execution_count": 43,
      "outputs": [
        {
          "output_type": "stream",
          "name": "stdout",
          "text": [
            "총 시뮬레이션 횟수 : 10000\n",
            "조기상환 발생횟수\n",
            "1차 : 4645, 발생빈도 : 46.45 %\n",
            "2차 : 799, 발생빈도 : 7.99 %\n",
            "3차 : 392, 발생빈도 : 3.92 %\n",
            "4차 : 221, 발생빈도 : 2.21 %\n",
            "5차 : 196, 발생빈도 : 1.96 %\n",
            "6차 : 166, 발생빈도 : 1.66 %\n",
            "만기상환 발생횟수 : 242, 발생빈도 : 2.42 %\n",
            "만기손실 발생횟수 : 3339, 발생빈도 : 33.39 %\n"
          ]
        },
        {
          "output_type": "stream",
          "name": "stderr",
          "text": [
            "/tmp/ipython-input-43-2353948544.py:4: DeprecationWarning: Conversion of an array with ndim > 0 to a scalar is deprecated, and will error in future. Ensure you extract a single element from your array before performing this operation. (Deprecated NumPy 1.25.)\n",
            "  print('%d차 : %d, 발생빈도 : %.2f' % (j+1, early_count[j], early_count[j]/n*100),\"%\")\n"
          ]
        }
      ]
    },
    {
      "cell_type": "markdown",
      "source": [
        "### 기초자산이 3개인 ELS"
      ],
      "metadata": {
        "id": "UUB7PX9flHDK"
      }
    },
    {
      "cell_type": "markdown",
      "source": [
        "#### 3개의 기초자산이 상관계수를 갖는 주가 경로 생성"
      ],
      "metadata": {
        "id": "Z57TF24HlbAr"
      }
    },
    {
      "cell_type": "code",
      "source": [
        "import numpy as np\n",
        "import matplotlib.pyplot as plt\n",
        "from numpy.ma.core import correlate"
      ],
      "metadata": {
        "id": "ayGGavtZdBs8"
      },
      "execution_count": 44,
      "outputs": []
    },
    {
      "cell_type": "code",
      "source": [
        "x_vol=0.2662; y_vol=0.2105; z_vol=0.2111\n",
        "r=0.0165\n",
        "rho_xy=0.279; rho_xz=0.2895; rho_yz=0.5256\n",
        "N=80; T=1; dt=T/N\n",
        "S1=np.zeros((N+1, 1))\n",
        "S2=np.zeros((N+1, 1))\n",
        "S3=np.zeros((N+1, 1))\n",
        "S1[0]=100; S2[0]=100; S3[0]=100\n",
        "t=np.linspace(0, T, N+1)\n",
        "correlation=np.array([[1, rho_xy, rho_xz], [rho_xy, 1, rho_yz], [rho_xz, rho_yz, 1]])\n",
        "cholesky=np.linalg.cholesky(correlation)\n",
        "z0=np.random.normal(0, 1, size=[N, 3])\n",
        "np.random.seed(42)\n",
        "z0=np.transpose(z0)\n",
        "z=np.matmul(cholesky, z0)\n",
        "Worst_performer=np.zeros((N+1, 1))"
      ],
      "metadata": {
        "id": "8vRU4FnOlDhd"
      },
      "execution_count": 45,
      "outputs": []
    },
    {
      "cell_type": "code",
      "source": [
        "plt.xlim(0, 1)\n",
        "# plt.ylim(60, 170)\n",
        "\n",
        "for i in range(N):\n",
        "    S1[i+1]=S1[i]*np.exp((r-0.5*x_vol**2)*dt+x_vol*z[0,i]*np.sqrt(dt))\n",
        "    S2[i+1]=S2[i]*np.exp((r-0.5*y_vol**2)*dt+y_vol*z[1,i]*np.sqrt(dt))\n",
        "    S3[i+1]=S3[i]*np.exp((r-0.5*z_vol**2)*dt+z_vol*z[2,i]*np.sqrt(dt))\n",
        "    Worst_performer[i]=min(S1[i,0], S2[i,0], S3[i,0])\n",
        "    Worst_performer[-1]=min(S1[-1,0], S2[-1,0], S2[-1,0])\n",
        "\n",
        "plt.plot(t, S1[:], 'k-', label='asset1', linewidth=1, markersize=3.5)\n",
        "plt.plot(t, S2[:], 'b--', label='asset2', linewidth=1, markersize=3.5)\n",
        "plt.plot(t, S3[:], 'c+-', label='asset3', linewidth=1, markersize=3.5)\n",
        "plt.plot(t, Worst_performer[:], 'r*-', label='min(S1,S2,S3)', linewidth=1, markersize=3.5)\n",
        "\n",
        "plt.xlabel('Time')\n",
        "plt.ylabel('Stock Process')\n",
        "plt.legend(prop={'size':10})\n",
        "plt.show()"
      ],
      "metadata": {
        "colab": {
          "base_uri": "https://localhost:8080/",
          "height": 449
        },
        "id": "O_dl4f4dmhgX",
        "outputId": "a70df0ff-b30d-4dd6-ae4a-32ceaac6f33d"
      },
      "execution_count": 46,
      "outputs": [
        {
          "output_type": "display_data",
          "data": {
            "text/plain": [
              "<Figure size 640x480 with 1 Axes>"
            ],
            "image/png": "[encoded data removed]"
          },
          "metadata": {}
        }
      ]
    },
    {
      "cell_type": "markdown",
      "source": [
        "#### 3개의 기초자산 ELS 가격 계산"
      ],
      "metadata": {
        "id": "5bpJkPRuqieh"
      }
    },
    {
      "cell_type": "markdown",
      "source": [
        "#####Case 1(지수형)"
      ],
      "metadata": {
        "id": "6M13Sif-xZkI"
      }
    },
    {
      "cell_type": "markdown",
      "source": [
        "##### GBM"
      ],
      "metadata": {
        "id": "qIfontnLxMwk"
      }
    },
    {
      "cell_type": "code",
      "source": [
        "import numpy as np\n",
        "from numpy.ma.core import correlate\n",
        "from datetime import date\n",
        "import math\n",
        "import numpy.random as npr\n",
        "from pylab import plt, mpl"
      ],
      "metadata": {
        "id": "8GtZNlyvoPYr"
      },
      "execution_count": 47,
      "outputs": []
    },
    {
      "cell_type": "code",
      "source": [
        "n=10000; r=0.025\n",
        "x_vol=0.3054; y_vol=0.2383; z_vol=0.2045\n",
        "rho_xy=0.1527; rho_xz=0.2699; rho_yz=0.2814 # 상관계수\n",
        "n0=date.toordinal(date(2025, 3, 7))  # 최초 기준가격 결정일\n",
        "n1=date.toordinal(date(2025, 9, 3))  # 1차 조기 상환일\n",
        "n2=date.toordinal(date(2026, 3, 4))  # 2차 조기 상환일\n",
        "n3=date.toordinal(date(2026, 9, 3))  # 3차 조기 상환일\n",
        "n4=date.toordinal(date(2027, 3, 2))  # 4차 조기 상환일\n",
        "n5=date.toordinal(date(2027, 9, 3))  # 5차 조기 상환일\n",
        "n6=date.toordinal(date(2028, 3, 3))  # 만기 상환일\n",
        "check_day=np.array([n1-n0, n2-n0, n3-n0, n4-n0, n5-n0, n6-n0])\n",
        "corr=np.array([[1, rho_xy, rho_xz], [rho_xy, 1, rho_yz], [rho_xz, rho_yz, 1]])\n",
        "k=np.linalg.cholesky(corr)\n",
        "oneyear=365; tot_date=n6-n0; dt=1/oneyear\n",
        "S1=np.zeros((tot_date+1, 1))\n",
        "S2=np.zeros((tot_date+1, 1))\n",
        "S3=np.zeros((tot_date+1, 1))\n",
        "S1[0]=100.0; S2[0]=100.0; S3[0]=100.0\n",
        "ratio_S1=S1[0]; ratio_S2=S2[0]; ratio_S3=S3[0]\n",
        "strike_price=np.array([0.85, 0.85, 0.80, 0.80, 0.75, 0.70])  # 조기 행사가격\n",
        "repay_n=len(strike_price) # 조기상환 횟수\n",
        "coupon_rate=np.array([0.0365, 0.073, 0.1095, 0.146, 0.1825, 0.219])  # 조기 상환시 쿠폰 이자율\n",
        "kib=0.40; dummy=0.219  # 낙인 배리어, 더미 이자율\n",
        "tot_payoff=np.zeros([repay_n, 1])  # 전체 페이오프\n",
        "payoff=np.zeros([repay_n, 1])  # 페이오프\n",
        "discount_payoff=np.zeros([repay_n, 1])  # 페이오프의 현가\n",
        "payment=np.zeros([repay_n, 1])\n",
        "facevalue=10**4  # 액면금액\n",
        "early_count = np.zeros([repay_n, 1]) # 각 조기상환기간 충족횟수\n",
        "maturity_count = 0 # 만기상환 발생횟수\n",
        "lose_count = 0 # 만기손실 발생횟수\n",
        "for j in range(repay_n):\n",
        "    payment[j]=facevalue*(1+coupon_rate[j])"
      ],
      "metadata": {
        "id": "M5BgvCaLqhdo"
      },
      "execution_count": 48,
      "outputs": []
    },
    {
      "cell_type": "code",
      "source": [
        "for i in range(n):\n",
        "    w0=np.random.normal(0, 1, size=[tot_date, 3])  # 만기상환일 만큼의 난수 생성\n",
        "    w0=np.transpose(w0)\n",
        "    w=np.matmul(k, w0)\n",
        "    payoff=np.zeros([repay_n, 1]); repay_event=0\n",
        "    for j in range(tot_date):\n",
        "        S1[j+1]=S1[j]*np.exp((r-0.5*x_vol**2)*dt+x_vol*np.sqrt(dt)*w[0, j])  #\n",
        "        S2[j+1]=S2[j]*np.exp((r-0.5*y_vol**2)*dt+y_vol*np.sqrt(dt)*w[1, j])  #\n",
        "        S3[j+1]=S3[j]*np.exp((r-0.5*z_vol**2)*dt+z_vol*np.sqrt(dt)*w[2, j])  #\n",
        "    R1=S1/ratio_S1; R2=S2/ratio_S2; R3=S3/ratio_S3\n",
        "    WP=np.minimum(R1, R2, R3)\n",
        "    WP_checkday=WP[check_day]\n",
        "\n",
        "    for j in range(repay_n):\n",
        "        if WP_checkday[j] >= strike_price[j]:  # 조기상환일에 주가를 체크, 조기 상환여부 결정\n",
        "            payoff[j]=payment[j]\n",
        "            early_count[j] += 1\n",
        "            repay_event=1\n",
        "            break\n",
        "    if repay_event == 0:  # 조기상환 되지 않고 만기까지 온 경우\n",
        "       if min(WP) > kib:  # 낙인 배리어 아래로 내려간 적이 없는 경우\n",
        "           payoff[-1]=facevalue*(1+dummy)\n",
        "           maturity_count += 1\n",
        "       else:  # 낙인 배리어 아래로 내려간 적이 있는 경우\n",
        "           payoff[-1]=facevalue*WP[-1]\n",
        "           lose_count += 1\n",
        "    tot_payoff=tot_payoff + payoff\n",
        "mean_payoff=tot_payoff/n\n",
        "for j in range(repay_n):  # 페이오프를 무위험 이자율로 할인하여 현재 가격을 구함\n",
        "    discount_payoff[j]=mean_payoff[j]*np.exp(-r*check_day[j]/oneyear)\n",
        "price=np.sum(discount_payoff)\n",
        "print(price)"
      ],
      "metadata": {
        "colab": {
          "base_uri": "https://localhost:8080/"
        },
        "id": "BNn0am0DvHhN",
        "outputId": "fb820e97-ffab-409e-e11a-1e5471c6b129"
      },
      "execution_count": 49,
      "outputs": [
        {
          "output_type": "stream",
          "name": "stdout",
          "text": [
            "9963.827363567534\n"
          ]
        }
      ]
    },
    {
      "cell_type": "code",
      "source": [
        "print('총 시뮬레이션 횟수 : %d' % (n))\n",
        "print('조기상환 발생횟수')\n",
        "for j in range(repay_n):\n",
        "    print('%d차 : %d, 발생빈도 : %.2f' % (j+1, early_count[j], early_count[j]/n*100),\"%\")\n",
        "\n",
        "print('만기상환 발생횟수 : %d, 발생빈도 : %.2f' % (maturity_count, (maturity_count)/n*100), \"%\")\n",
        "print('만기손실 발생횟수 : %d, 발생빈도 : %.2f' % (lose_count, (lose_count/n)*100), \"%\")"
      ],
      "metadata": {
        "colab": {
          "base_uri": "https://localhost:8080/"
        },
        "id": "FbbL6EL5wIQ1",
        "outputId": "c9eff040-aea7-4df4-df4f-45c5422010ee"
      },
      "execution_count": 51,
      "outputs": [
        {
          "output_type": "stream",
          "name": "stdout",
          "text": [
            "총 시뮬레이션 횟수 : 10000\n",
            "조기상환 발생횟수\n",
            "1차 : 6418, 발생빈도 : 64.18 %\n",
            "2차 : 772, 발생빈도 : 7.72 %\n",
            "3차 : 581, 발생빈도 : 5.81 %\n",
            "4차 : 267, 발생빈도 : 2.67 %\n",
            "5차 : 267, 발생빈도 : 2.67 %\n",
            "6차 : 201, 발생빈도 : 2.01 %\n",
            "만기상환 발생횟수 : 791, 발생빈도 : 7.91 %\n",
            "만기손실 발생횟수 : 703, 발생빈도 : 7.03 %\n"
          ]
        },
        {
          "output_type": "stream",
          "name": "stderr",
          "text": [
            "/tmp/ipython-input-51-2353948544.py:4: DeprecationWarning: Conversion of an array with ndim > 0 to a scalar is deprecated, and will error in future. Ensure you extract a single element from your array before performing this operation. (Deprecated NumPy 1.25.)\n",
            "  print('%d차 : %d, 발생빈도 : %.2f' % (j+1, early_count[j], early_count[j]/n*100),\"%\")\n"
          ]
        }
      ]
    },
    {
      "cell_type": "markdown",
      "source": [
        "##### Jump Diffusion Model"
      ],
      "metadata": {
        "id": "qJBqwqkR2KHa"
      }
    },
    {
      "cell_type": "code",
      "source": [
        "lamb = 1.6\n",
        "mu1 = -0.07635\n",
        "mu2 = -0.0596\n",
        "mu3 = -0.0511\n",
        "delta = 0.13"
      ],
      "metadata": {
        "id": "7rNM3lp_xF4m"
      },
      "execution_count": 52,
      "outputs": []
    },
    {
      "cell_type": "code",
      "source": [
        "rj1 = lamb * (math.exp(mu1 + 0.5 * delta ** 2) - 1)\n",
        "rj2 = lamb * (math.exp(mu2 + 0.5 * delta ** 2) - 1)\n",
        "rj3 = lamb * (math.exp(mu3 + 0.5 * delta ** 2) - 1)"
      ],
      "metadata": {
        "id": "E98dCF3K2XDh"
      },
      "execution_count": 53,
      "outputs": []
    },
    {
      "cell_type": "code",
      "source": [
        "dt=1/oneyear\n",
        "S1=np.zeros([tot_date+1, 1])\n",
        "S2=np.zeros([tot_date+1, 1])\n",
        "S3=np.zeros((tot_date+1, 1))\n",
        "S1[0]=100.0; S2[0]=100.0; S3[0]=100.0\n",
        "\n",
        "early_count = np.zeros([repay_n, 1]) # 각 조기상환기간 충족횟수\n",
        "maturity_count = 0 # 만기상환 발생횟수\n",
        "lose_count = 0 # 만기손실 발생횟수\n",
        "\n",
        "payment=np.zeros([repay_n, 1])\n",
        "facevalue=10000  # 액면금액\n",
        "tot_payoff=np.zeros([repay_n, 1])  # 전체 페이오프\n",
        "payoff=np.zeros([repay_n, 1])  # 페이오프\n",
        "discount_payoff=np.zeros([repay_n, 1])  # 페이오프의 현가\n",
        "\n",
        "for j in range(repay_n):\n",
        "    payment[j]=facevalue*(1+coupon_rate[j])"
      ],
      "metadata": {
        "id": "jwbSg7PX2aJn"
      },
      "execution_count": 54,
      "outputs": []
    },
    {
      "cell_type": "code",
      "source": [
        "for i in range(n):\n",
        "    w0=np.random.normal(0, 1, size=[tot_date, 3])  # 만기상환일 만큼의 난수 생성\n",
        "    w0=np.transpose(w0)\n",
        "    w=np.matmul(k, w0)\n",
        "    payoff=np.zeros([repay_n, 1]); repay_event=0\n",
        "    sn11 = npr.standard_normal(tot_date)\n",
        "    poi1 = npr.poisson(lamb * dt, tot_date)\n",
        "    sn12 = npr.standard_normal(tot_date)\n",
        "    poi2 = npr.poisson(lamb * dt, tot_date)\n",
        "    sn13 = npr.standard_normal(tot_date)\n",
        "    poi3 = npr.poisson(lamb * dt, tot_date)\n",
        "    for j in range(tot_date):\n",
        "        S1[j+1]=S1[j]*np.exp((r-rj1-0.5*x_vol**2)*dt+x_vol*np.sqrt(dt)*w[0, j]+(np.exp(mu1 + delta * sn11[j]) - 1) * poi1[j])  #\n",
        "        S2[j+1]=S2[j]*np.exp((r-rj2-0.5*y_vol**2)*dt+y_vol*np.sqrt(dt)*w[1, j]+(np.exp(mu2 + delta * sn12[j]) - 1) * poi2[j])  #\n",
        "        S3[j+1]=S3[j]*np.exp((r-rj3-0.5*z_vol**2)*dt+z_vol*np.sqrt(dt)*w[2, j]+(np.exp(mu3 + delta * sn13[j]) - 1) * poi3[j])  #\n",
        "    R1=S1/ratio_S1; R2=S2/ratio_S2; R3=S3/ratio_S3\n",
        "    WP=np.minimum(R1, R2, R3)\n",
        "    WP_checkday=WP[check_day]\n",
        "\n",
        "    for j in range(repay_n):\n",
        "        if WP_checkday[j] >= strike_price[j]:  # 조기상환일에 주가를 체크, 조기 상환여부 결정\n",
        "            payoff[j]=payment[j]\n",
        "            early_count[j] += 1\n",
        "            repay_event=1\n",
        "            break\n",
        "    if repay_event == 0:  # 조기상환 되지 않고 만기까지 온 경우\n",
        "       if min(WP) > kib:  # 낙인 배리어 아래로 내려간 적이 없는 경우\n",
        "           payoff[-1]=facevalue*(1+dummy)\n",
        "           maturity_count += 1\n",
        "       else:  # 낙인 배리어 아래로 내려간 적이 있는 경우\n",
        "           payoff[-1]=facevalue*WP[-1]\n",
        "           lose_count += 1\n",
        "    tot_payoff=tot_payoff + payoff\n",
        "mean_payoff=tot_payoff/n\n",
        "for j in range(repay_n):  # 페이오프를 무위험 이자율로 할인하여 현재 가격을 구함\n",
        "    discount_payoff[j]=mean_payoff[j]*np.exp(-r*check_day[j]/oneyear)\n",
        "price=np.sum(discount_payoff)\n",
        "print(price)"
      ],
      "metadata": {
        "colab": {
          "base_uri": "https://localhost:8080/"
        },
        "id": "tF7vYCPT2dSw",
        "outputId": "b5073338-6d39-4cac-f361-413b581b97b1"
      },
      "execution_count": 55,
      "outputs": [
        {
          "output_type": "stream",
          "name": "stdout",
          "text": [
            "9666.089147549039\n"
          ]
        }
      ]
    },
    {
      "cell_type": "code",
      "source": [
        "print('총 시뮬레이션 횟수 : %d' % (n))\n",
        "print('조기상환 발생횟수')\n",
        "for j in range(repay_n):\n",
        "    print('%d차 : %d, 발생빈도 : %.2f' % (j+1, early_count[j], early_count[j]/n*100),\"%\")\n",
        "\n",
        "print('만기상환 발생횟수 : %d, 발생빈도 : %.2f' % (maturity_count, (maturity_count)/n*100), \"%\")\n",
        "print('만기손실 발생횟수 : %d, 발생빈도 : %.2f' % (lose_count, (lose_count/n)*100), \"%\")"
      ],
      "metadata": {
        "colab": {
          "base_uri": "https://localhost:8080/"
        },
        "id": "ShNzqrLM2hIB",
        "outputId": "23595ba3-7aed-4f99-eb24-cd800a4ff226"
      },
      "execution_count": 56,
      "outputs": [
        {
          "output_type": "stream",
          "name": "stdout",
          "text": [
            "총 시뮬레이션 횟수 : 10000\n",
            "조기상환 발생횟수\n",
            "1차 : 5922, 발생빈도 : 59.22 %\n",
            "2차 : 889, 발생빈도 : 8.89 %\n",
            "3차 : 614, 발생빈도 : 6.14 %\n",
            "4차 : 251, 발생빈도 : 2.51 %\n",
            "5차 : 296, 발생빈도 : 2.96 %\n",
            "6차 : 267, 발생빈도 : 2.67 %\n",
            "만기상환 발생횟수 : 624, 발생빈도 : 6.24 %\n",
            "만기손실 발생횟수 : 1137, 발생빈도 : 11.37 %\n"
          ]
        },
        {
          "output_type": "stream",
          "name": "stderr",
          "text": [
            "/tmp/ipython-input-56-2353948544.py:4: DeprecationWarning: Conversion of an array with ndim > 0 to a scalar is deprecated, and will error in future. Ensure you extract a single element from your array before performing this operation. (Deprecated NumPy 1.25.)\n",
            "  print('%d차 : %d, 발생빈도 : %.2f' % (j+1, early_count[j], early_count[j]/n*100),\"%\")\n"
          ]
        }
      ]
    },
    {
      "cell_type": "markdown",
      "source": [
        "####Case 2(지수+종목)"
      ],
      "metadata": {
        "id": "30gqj6I9mNFw"
      }
    },
    {
      "cell_type": "markdown",
      "source": [
        "##### GBM"
      ],
      "metadata": {
        "id": "MTxREDVBmUEP"
      }
    },
    {
      "cell_type": "code",
      "source": [
        "import numpy as np\n",
        "from numpy.ma.core import correlate\n",
        "from datetime import date\n",
        "import math\n",
        "import numpy.random as npr\n",
        "from pylab import plt, mpl"
      ],
      "metadata": {
        "id": "QHeu9X0tmTXq"
      },
      "execution_count": 57,
      "outputs": []
    },
    {
      "cell_type": "code",
      "source": [
        "n=10000; r=0.025\n",
        "x_vol=0.1722; y_vol=0.2067; z_vol=0.2802\n",
        "rho_xy=0.7108; rho_xz=0.55735; rho_yz=0.6134  # 상관계수\n",
        "n0=date.toordinal(date(2025, 2, 25))  # 최초 기준가격 결정일\n",
        "n1=date.toordinal(date(2025, 8, 25))  # 1차 조기 상환일\n",
        "n2=date.toordinal(date(2026, 2, 25))  # 2차 조기 상환일\n",
        "n3=date.toordinal(date(2026, 8, 25))  # 3차 조기 상환일\n",
        "n4=date.toordinal(date(2027, 2, 25))  # 4차 조기 상환일\n",
        "n5=date.toordinal(date(2027, 8, 25))  # 5차 조기 상환일\n",
        "n6=date.toordinal(date(2028, 2, 25))  # 만기 상환일\n",
        "check_day=np.array([n1-n0, n2-n0, n3-n0, n4-n0, n5-n0, n6-n0])\n",
        "corr=np.array([[1, rho_xy, rho_xz], [rho_xy, 1, rho_yz], [rho_xz, rho_yz, 1]])\n",
        "k=np.linalg.cholesky(corr)\n",
        "oneyear=365; tot_date=n6-n0; dt=1/oneyear\n",
        "S1=np.zeros((tot_date+1, 1))\n",
        "S2=np.zeros((tot_date+1, 1))\n",
        "S3=np.zeros((tot_date+1, 1))\n",
        "S1[0]=100.0; S2[0]=100.0; S3[0]=100.0\n",
        "ratio_S1=S1[0]; ratio_S2=S2[0]; ratio_S3=S3[0]\n",
        "strike_price=np.array([0.90, 0.90, 0.90, 0.85, 0.80, 0.75])  # 조기 행사가격\n",
        "repay_n=len(strike_price) # 조기상환 횟수\n",
        "coupon_rate=np.array([0.0467, 0.0934, 0.1401, 0.1868, 0.2335, 0.2802])  # 조기 상환시 쿠폰 이자율\n",
        "kib=0.5; dummy=0.2802  # 낙인 배리어, 더미 이자율\n",
        "tot_payoff=np.zeros([repay_n, 1])  # 전체 페이오프\n",
        "payoff=np.zeros([repay_n, 1])  # 페이오프\n",
        "discount_payoff=np.zeros([repay_n, 1])  # 페이오프의 현가\n",
        "payment=np.zeros([repay_n, 1])\n",
        "facevalue=10**4  # 액면금액\n",
        "early_count = np.zeros([repay_n, 1]) # 각 조기상환기간 충족횟수\n",
        "maturity_count = 0 # 만기상환 발생횟수\n",
        "lose_count = 0 # 만기손실 발생횟수\n",
        "for j in range(repay_n):\n",
        "    payment[j]=facevalue*(1+coupon_rate[j])"
      ],
      "metadata": {
        "id": "KSCXIbas_1Z_"
      },
      "execution_count": 58,
      "outputs": []
    },
    {
      "cell_type": "code",
      "source": [
        "for i in range(n):\n",
        "    w0=np.random.normal(0, 1, size=[tot_date, 3])  # 만기상환일 만큼의 난수 생성\n",
        "    w0=np.transpose(w0)\n",
        "    w=np.matmul(k, w0)\n",
        "    payoff=np.zeros([repay_n, 1]); repay_event=0\n",
        "    for j in range(tot_date):\n",
        "        S1[j+1]=S1[j]*np.exp((r-0.5*x_vol**2)*dt+x_vol*np.sqrt(dt)*w[0, j])  #\n",
        "        S2[j+1]=S2[j]*np.exp((r-0.5*y_vol**2)*dt+y_vol*np.sqrt(dt)*w[1, j])  #\n",
        "        S3[j+1]=S3[j]*np.exp((r-0.5*z_vol**2)*dt+z_vol*np.sqrt(dt)*w[2, j])  #\n",
        "    R1=S1/ratio_S1; R2=S2/ratio_S2; R3=S3/ratio_S3\n",
        "    WP=np.minimum(R1, R2, R3)\n",
        "    WP_checkday=WP[check_day]\n",
        "\n",
        "    for j in range(repay_n):\n",
        "        if WP_checkday[j] >= strike_price[j]:  # 조기상환일에 주가를 체크, 조기 상환여부 결정\n",
        "            payoff[j]=payment[j]\n",
        "            early_count[j] += 1\n",
        "            repay_event=1\n",
        "            break\n",
        "    if repay_event == 0:  # 조기상환 되지 않고 만기까지 온 경우\n",
        "       if min(WP) > kib:  # 낙인 배리어 아래로 내려간 적이 없는 경우\n",
        "           payoff[-1]=facevalue*(1+dummy)\n",
        "           maturity_count += 1\n",
        "       else:  # 낙인 배리어 아래로 내려간 적이 있는 경우\n",
        "           payoff[-1]=facevalue*WP[-1]\n",
        "           lose_count += 1\n",
        "    tot_payoff=tot_payoff + payoff\n",
        "mean_payoff=tot_payoff/n\n",
        "for j in range(repay_n):  # 페이오프를 무위험 이자율로 할인하여 현재 가격을 구함\n",
        "    discount_payoff[j]=mean_payoff[j]*np.exp(-r*check_day[j]/oneyear)\n",
        "price=np.sum(discount_payoff)\n",
        "print(price)"
      ],
      "metadata": {
        "colab": {
          "base_uri": "https://localhost:8080/"
        },
        "id": "ytT93M3r7QAt",
        "outputId": "8bdc5079-6550-48b0-b82c-bac2a6b9ff1a"
      },
      "execution_count": 59,
      "outputs": [
        {
          "output_type": "stream",
          "name": "stdout",
          "text": [
            "10392.780460892784\n"
          ]
        }
      ]
    },
    {
      "cell_type": "code",
      "source": [
        "print('총 시뮬레이션 횟수 : %d' % (n))\n",
        "print('조기상환 발생횟수')\n",
        "for j in range(repay_n):\n",
        "    print('%d차 : %d, 발생빈도 : %.2f' % (j+1, early_count[j], early_count[j]/n*100),\"%\")\n",
        "\n",
        "print('만기상환 발생횟수 : %d, 발생빈도 : %.2f' % (maturity_count, (maturity_count)/n*100), \"%\")\n",
        "print('만기손실 발생횟수 : %d, 발생빈도 : %.2f' % (lose_count, (lose_count/n)*100), \"%\")"
      ],
      "metadata": {
        "colab": {
          "base_uri": "https://localhost:8080/"
        },
        "id": "J6RhNn8N7UNW",
        "outputId": "9da6fc3e-6178-4276-8118-68e5180701c4"
      },
      "execution_count": 61,
      "outputs": [
        {
          "output_type": "stream",
          "name": "stdout",
          "text": [
            "총 시뮬레이션 횟수 : 10000\n",
            "조기상환 발생횟수\n",
            "1차 : 7028, 발생빈도 : 70.28 %\n",
            "2차 : 790, 발생빈도 : 7.90 %\n",
            "3차 : 399, 발생빈도 : 3.99 %\n",
            "4차 : 359, 발생빈도 : 3.59 %\n",
            "5차 : 305, 발생빈도 : 3.05 %\n",
            "6차 : 233, 발생빈도 : 2.33 %\n",
            "만기상환 발생횟수 : 556, 발생빈도 : 5.56 %\n",
            "만기손실 발생횟수 : 330, 발생빈도 : 3.30 %\n"
          ]
        },
        {
          "output_type": "stream",
          "name": "stderr",
          "text": [
            "/tmp/ipython-input-61-2353948544.py:4: DeprecationWarning: Conversion of an array with ndim > 0 to a scalar is deprecated, and will error in future. Ensure you extract a single element from your array before performing this operation. (Deprecated NumPy 1.25.)\n",
            "  print('%d차 : %d, 발생빈도 : %.2f' % (j+1, early_count[j], early_count[j]/n*100),\"%\")\n"
          ]
        }
      ]
    },
    {
      "cell_type": "markdown",
      "source": [
        "##### Jump Diffusion Model"
      ],
      "metadata": {
        "id": "ypfolkWw-Vd2"
      }
    },
    {
      "cell_type": "code",
      "source": [
        "lamb = 1.8\n",
        "mu1 = -0.043\n",
        "mu2 = -0.0517\n",
        "mu3 = -0.07\n",
        "delta = 0.20"
      ],
      "metadata": {
        "id": "CmviWCd6-Xx8"
      },
      "execution_count": 62,
      "outputs": []
    },
    {
      "cell_type": "code",
      "source": [
        "rj1 = lamb * (math.exp(mu1 + 0.5 * delta ** 2) - 1)\n",
        "rj2 = lamb * (math.exp(mu2 + 0.5 * delta ** 2) - 1)\n",
        "rj3 = lamb * (math.exp(mu3 + 0.5 * delta ** 2) - 1)"
      ],
      "metadata": {
        "id": "XIGVoQwZ-a7g"
      },
      "execution_count": 63,
      "outputs": []
    },
    {
      "cell_type": "code",
      "source": [
        "dt=1/oneyear\n",
        "S1=np.zeros([tot_date+1, 1])\n",
        "S2=np.zeros([tot_date+1, 1])\n",
        "S3=np.zeros((tot_date+1, 1))\n",
        "S1[0]=100.0; S2[0]=100.0; S3[0]=100.0\n",
        "\n",
        "early_count = np.zeros([repay_n, 1]) # 각 조기상환기간 충족횟수\n",
        "maturity_count = 0 # 만기상환 발생횟수\n",
        "lose_count = 0 # 만기손실 발생횟수\n",
        "\n",
        "payment=np.zeros([repay_n, 1])\n",
        "facevalue=10000  # 액면금액\n",
        "tot_payoff=np.zeros([repay_n, 1])  # 전체 페이오프\n",
        "payoff=np.zeros([repay_n, 1])  # 페이오프\n",
        "discount_payoff=np.zeros([repay_n, 1])  # 페이오프의 현가\n",
        "\n",
        "for j in range(repay_n):\n",
        "    payment[j]=facevalue*(1+coupon_rate[j])"
      ],
      "metadata": {
        "id": "4UaGPfCF-eGK"
      },
      "execution_count": 64,
      "outputs": []
    },
    {
      "cell_type": "code",
      "source": [
        "for i in range(n):\n",
        "    w0=np.random.normal(0, 1, size=[tot_date, 3])  # 만기상환일 만큼의 난수 생성\n",
        "    w0=np.transpose(w0)\n",
        "    w=np.matmul(k, w0)\n",
        "    payoff=np.zeros([repay_n, 1]); repay_event=0\n",
        "    sn11 = npr.standard_normal(tot_date)\n",
        "    poi1 = npr.poisson(lamb * dt, tot_date)\n",
        "    sn12 = npr.standard_normal(tot_date)\n",
        "    poi2 = npr.poisson(lamb * dt, tot_date)\n",
        "    sn13 = npr.standard_normal(tot_date)\n",
        "    poi3 = npr.poisson(lamb * dt, tot_date)\n",
        "    for j in range(tot_date):\n",
        "        S1[j+1]=S1[j]*np.exp((r-rj1-0.5*x_vol**2)*dt+x_vol*np.sqrt(dt)*w[0, j]+(np.exp(mu1 + delta * sn11[j]) - 1) * poi1[j])  #\n",
        "        S2[j+1]=S2[j]*np.exp((r-rj2-0.5*y_vol**2)*dt+y_vol*np.sqrt(dt)*w[1, j]+(np.exp(mu2 + delta * sn12[j]) - 1) * poi2[j])  #\n",
        "        S3[j+1]=S3[j]*np.exp((r-rj3-0.5*z_vol**2)*dt+z_vol*np.sqrt(dt)*w[2, j]+(np.exp(mu3 + delta * sn13[j]) - 1) * poi3[j])  #\n",
        "    R1=S1/ratio_S1; R2=S2/ratio_S2; R3=S3/ratio_S3\n",
        "    WP=np.minimum(R1, R2, R3)\n",
        "    WP_checkday=WP[check_day]\n",
        "\n",
        "    for j in range(repay_n):\n",
        "        if WP_checkday[j] >= strike_price[j]:  # 조기상환일에 주가를 체크, 조기 상환여부 결정\n",
        "            payoff[j]=payment[j]\n",
        "            early_count[j] += 1\n",
        "            repay_event=1\n",
        "            break\n",
        "    if repay_event == 0:  # 조기상환 되지 않고 만기까지 온 경우\n",
        "       if min(WP) > kib:  # 낙인 배리어 아래로 내려간 적이 없는 경우\n",
        "           payoff[-1]=facevalue*(1+dummy)\n",
        "           maturity_count += 1\n",
        "       else:  # 낙인 배리어 아래로 내려간 적이 있는 경우\n",
        "           payoff[-1]=facevalue*WP[-1]\n",
        "           lose_count += 1\n",
        "    tot_payoff=tot_payoff + payoff\n",
        "mean_payoff=tot_payoff/n\n",
        "for j in range(repay_n):  # 페이오프를 무위험 이자율로 할인하여 현재 가격을 구함\n",
        "    discount_payoff[j]=mean_payoff[j]*np.exp(-r*check_day[j]/oneyear)\n",
        "price=np.sum(discount_payoff)\n",
        "print(price)"
      ],
      "metadata": {
        "colab": {
          "base_uri": "https://localhost:8080/"
        },
        "id": "6vTA1rFO-kOV",
        "outputId": "bd7379ff-abfe-49d8-e78d-6eeb2d9841b8"
      },
      "execution_count": 65,
      "outputs": [
        {
          "output_type": "stream",
          "name": "stdout",
          "text": [
            "9530.27991977188\n"
          ]
        }
      ]
    },
    {
      "cell_type": "code",
      "source": [
        "print('총 시뮬레이션 횟수 : %d' % (n))\n",
        "print('조기상환 발생횟수')\n",
        "for j in range(repay_n):\n",
        "    print('%d차 : %d, 발생빈도 : %.2f' % (j+1, early_count[j], early_count[j]/n*100),\"%\")\n",
        "\n",
        "print('만기상환 발생횟수 : %d, 발생빈도 : %.2f' % (maturity_count, (maturity_count)/n*100), \"%\")\n",
        "print('만기손실 발생횟수 : %d, 발생빈도 : %.2f' % (lose_count, (lose_count/n)*100), \"%\")"
      ],
      "metadata": {
        "colab": {
          "base_uri": "https://localhost:8080/"
        },
        "id": "ij2NjtHi-onN",
        "outputId": "5534e371-0c7d-4396-8c50-3eca5a8ccb64"
      },
      "execution_count": 66,
      "outputs": [
        {
          "output_type": "stream",
          "name": "stdout",
          "text": [
            "총 시뮬레이션 횟수 : 10000\n",
            "조기상환 발생횟수\n",
            "1차 : 5389, 발생빈도 : 53.89 %\n",
            "2차 : 922, 발생빈도 : 9.22 %\n",
            "3차 : 514, 발생빈도 : 5.14 %\n",
            "4차 : 428, 발생빈도 : 4.28 %\n",
            "5차 : 365, 발생빈도 : 3.65 %\n",
            "6차 : 289, 발생빈도 : 2.89 %\n",
            "만기상환 발생횟수 : 385, 발생빈도 : 3.85 %\n",
            "만기손실 발생횟수 : 1708, 발생빈도 : 17.08 %\n"
          ]
        },
        {
          "output_type": "stream",
          "name": "stderr",
          "text": [
            "/tmp/ipython-input-66-2353948544.py:4: DeprecationWarning: Conversion of an array with ndim > 0 to a scalar is deprecated, and will error in future. Ensure you extract a single element from your array before performing this operation. (Deprecated NumPy 1.25.)\n",
            "  print('%d차 : %d, 발생빈도 : %.2f' % (j+1, early_count[j], early_count[j]/n*100),\"%\")\n"
          ]
        }
      ]
    },
    {
      "cell_type": "markdown",
      "source": [
        "#### Case 3(지수+No Knock-in)"
      ],
      "metadata": {
        "id": "JaNCAflnSgLW"
      }
    },
    {
      "cell_type": "markdown",
      "source": [
        "##### GBM"
      ],
      "metadata": {
        "id": "9kjHglSQSmDO"
      }
    },
    {
      "cell_type": "code",
      "source": [
        "import numpy as np\n",
        "from numpy.ma.core import correlate\n",
        "from datetime import date\n",
        "import math\n",
        "import numpy.random as npr\n",
        "from pylab import plt, mpl"
      ],
      "metadata": {
        "id": "EOL27dUxSo4p"
      },
      "execution_count": 67,
      "outputs": []
    },
    {
      "cell_type": "code",
      "source": [
        "n=10000; r=0.025\n",
        "x_vol=0.2061; y_vol=0.2404; z_vol=0.2186\n",
        "rho_xy=0.2787; rho_xz=0.3707; rho_yz=0.3572  # 상관계수\n",
        "n0=date.toordinal(date(2025, 3, 14))  # 최초 기준가격 결정일\n",
        "n1=date.toordinal(date(2025, 9, 12))  # 1차 조기 상환일\n",
        "n2=date.toordinal(date(2026, 3, 13))  # 2차 조기 상환일\n",
        "n3=date.toordinal(date(2026, 9, 14))  # 3차 조기 상환일\n",
        "n4=date.toordinal(date(2027, 3, 12))  # 4차 조기 상환일\n",
        "n5=date.toordinal(date(2027, 9, 13))  # 5차 조기 상환일\n",
        "n6=date.toordinal(date(2028, 3, 14))  # 만기 평가일\n",
        "check_day=np.array([n1-n0, n2-n0, n3-n0, n4-n0, n5-n0, n6-n0])\n",
        "corr=np.array([[1, rho_xy, rho_xz], [rho_xy, 1, rho_yz], [rho_xz, rho_yz, 1]])\n",
        "k=np.linalg.cholesky(corr)\n",
        "oneyear=365; tot_date=n6-n0; dt=1/oneyear\n",
        "S1=np.zeros((tot_date+1, 1))\n",
        "S2=np.zeros((tot_date+1, 1))\n",
        "S3=np.zeros((tot_date+1, 1))\n",
        "S1[0]=100.0; S2[0]=100.0; S3[0]=100.0\n",
        "ratio_S1=S1[0]; ratio_S2=S2[0]; ratio_S3=S3[0]\n",
        "strike_price=np.array([0.85, 0.85, 0.80, 0.80, 0.75, 0.60])  # 조기 행사가격\n",
        "repay_n=len(strike_price) # 조기상환 횟수\n",
        "coupon_rate=np.array([0.033, 0.066, 0.099, 0.132, 0.165, 0.198])  # 조기 상환시 쿠폰 이자율\n",
        "kib=0.0; dummy=0.198  # 낙인 배리어, 더미 이자율\n",
        "tot_payoff=np.zeros([repay_n, 1])  # 전체 페이오프\n",
        "payoff=np.zeros([repay_n, 1])  # 페이오프\n",
        "discount_payoff=np.zeros([repay_n, 1])  # 페이오프의 현가\n",
        "payment=np.zeros([repay_n, 1])\n",
        "facevalue=10**4  # 액면금액\n",
        "early_count = np.zeros([repay_n, 1]) # 각 조기상환기간 충족횟수\n",
        "maturity_count = 0 # 만기상환 발생횟수\n",
        "lose_count = 0 # 만기손실 발생횟수\n",
        "for j in range(repay_n):\n",
        "    payment[j]=facevalue*(1+coupon_rate[j])"
      ],
      "metadata": {
        "id": "CkJG_gHKYu3X"
      },
      "execution_count": 68,
      "outputs": []
    },
    {
      "cell_type": "code",
      "source": [
        "for i in range(n):\n",
        "    w0=np.random.normal(0, 1, size=[tot_date, 3])  # 만기상환일 만큼의 난수 생성\n",
        "    w0=np.transpose(w0)\n",
        "    w=np.matmul(k, w0)\n",
        "    payoff=np.zeros([repay_n, 1]); repay_event=0\n",
        "    for j in range(tot_date):\n",
        "        S1[j+1]=S1[j]*np.exp((r-0.5*x_vol**2)*dt+x_vol*np.sqrt(dt)*w[0, j])  #\n",
        "        S2[j+1]=S2[j]*np.exp((r-0.5*y_vol**2)*dt+y_vol*np.sqrt(dt)*w[1, j])  #\n",
        "        S3[j+1]=S3[j]*np.exp((r-0.5*z_vol**2)*dt+z_vol*np.sqrt(dt)*w[2, j])  #\n",
        "    R1=S1/ratio_S1; R2=S2/ratio_S2; R3=S3/ratio_S3\n",
        "    WP=np.minimum(R1, R2, R3)\n",
        "    WP_checkday=WP[check_day]\n",
        "\n",
        "    for j in range(repay_n):\n",
        "        if WP_checkday[j] >= strike_price[j]:  # 조기상환일에 주가를 체크, 조기 상환여부 결정\n",
        "            payoff[j]=payment[j]\n",
        "            early_count[j] += 1\n",
        "            repay_event=1\n",
        "            break\n",
        "    if repay_event == 0:  # 조기상환 되지 않고 만기까지 온 경우\n",
        "       if WP[-1] >= 0.6:  # 기준종목이 60% 이상 경우\n",
        "           payoff[-1]=facevalue*(1+dummy)\n",
        "           maturity_count += 1\n",
        "       else:  # 기준종목이 60% 미만 경우\n",
        "           payoff[-1]=facevalue*WP[-1]\n",
        "           lose_count += 1\n",
        "    tot_payoff=tot_payoff + payoff\n",
        "mean_payoff=tot_payoff/n\n",
        "for j in range(repay_n):  # 페이오프를 무위험 이자율로 할인하여 현재 가격을 구함\n",
        "    discount_payoff[j]=mean_payoff[j]*np.exp(-r*check_day[j]/oneyear)\n",
        "price=np.sum(discount_payoff)\n",
        "print(price)"
      ],
      "metadata": {
        "colab": {
          "base_uri": "https://localhost:8080/"
        },
        "id": "cy3NQfo-YypE",
        "outputId": "8668133e-03fe-4291-925f-49b80d9e67b6"
      },
      "execution_count": 69,
      "outputs": [
        {
          "output_type": "stream",
          "name": "stdout",
          "text": [
            "9951.150576934753\n"
          ]
        }
      ]
    },
    {
      "cell_type": "code",
      "source": [
        "print('총 시뮬레이션 횟수 : %d' % (n))\n",
        "print('조기상환 발생횟수')\n",
        "for j in range(repay_n):\n",
        "    print('%d차 : %d, 발생빈도 : %.2f' % (j+1, early_count[j], early_count[j]/n*100),\"%\")\n",
        "\n",
        "print('만기상환 발생횟수 : %d, 발생빈도 : %.2f' % (maturity_count, (maturity_count)/n*100), \"%\")\n",
        "print('만기손실 발생횟수 : %d, 발생빈도 : %.2f' % (lose_count, (lose_count/n)*100), \"%\")"
      ],
      "metadata": {
        "colab": {
          "base_uri": "https://localhost:8080/"
        },
        "id": "UBhCsgqzY2me",
        "outputId": "d8d97bc4-c1e3-45a4-8c8b-e0d814788f3e"
      },
      "execution_count": 70,
      "outputs": [
        {
          "output_type": "stream",
          "name": "stdout",
          "text": [
            "총 시뮬레이션 횟수 : 10000\n",
            "조기상환 발생횟수\n",
            "1차 : 7391, 발생빈도 : 73.91 %\n",
            "2차 : 661, 발생빈도 : 6.61 %\n",
            "3차 : 489, 발생빈도 : 4.89 %\n",
            "4차 : 213, 발생빈도 : 2.13 %\n",
            "5차 : 220, 발생빈도 : 2.20 %\n",
            "6차 : 421, 발생빈도 : 4.21 %\n",
            "만기상환 발생횟수 : 0, 발생빈도 : 0.00 %\n",
            "만기손실 발생횟수 : 605, 발생빈도 : 6.05 %\n"
          ]
        },
        {
          "output_type": "stream",
          "name": "stderr",
          "text": [
            "/tmp/ipython-input-70-2353948544.py:4: DeprecationWarning: Conversion of an array with ndim > 0 to a scalar is deprecated, and will error in future. Ensure you extract a single element from your array before performing this operation. (Deprecated NumPy 1.25.)\n",
            "  print('%d차 : %d, 발생빈도 : %.2f' % (j+1, early_count[j], early_count[j]/n*100),\"%\")\n"
          ]
        }
      ]
    },
    {
      "cell_type": "markdown",
      "source": [
        "##### Jump Diffusion Model"
      ],
      "metadata": {
        "id": "JXkQ5J2NbAX7"
      }
    },
    {
      "cell_type": "code",
      "source": [
        "lamb = 1.6\n",
        "mu1 = -0.0515\n",
        "mu2 = -0.0601\n",
        "mu3 = -0.05465\n",
        "delta = 0.15"
      ],
      "metadata": {
        "id": "aw5cDehPZxtF"
      },
      "execution_count": 71,
      "outputs": []
    },
    {
      "cell_type": "code",
      "source": [
        "rj1 = lamb * (math.exp(mu1 + 0.5 * delta ** 2) - 1)\n",
        "rj2 = lamb * (math.exp(mu2 + 0.5 * delta ** 2) - 1)\n",
        "rj3 = lamb * (math.exp(mu3 + 0.5 * delta ** 2) - 1)"
      ],
      "metadata": {
        "id": "3Kv66_ykbv9M"
      },
      "execution_count": 72,
      "outputs": []
    },
    {
      "cell_type": "code",
      "source": [
        "dt=1/oneyear\n",
        "S1=np.zeros([tot_date+1, 1])\n",
        "S2=np.zeros([tot_date+1, 1])\n",
        "S3=np.zeros((tot_date+1, 1))\n",
        "S1[0]=100.0; S2[0]=100.0; S3[0]=100.0\n",
        "\n",
        "early_count = np.zeros([repay_n, 1]) # 각 조기상환기간 충족횟수\n",
        "maturity_count = 0 # 만기상환 발생횟수\n",
        "lose_count = 0 # 만기손실 발생횟수\n",
        "\n",
        "payment=np.zeros([repay_n, 1])\n",
        "facevalue=10000  # 액면금액\n",
        "tot_payoff=np.zeros([repay_n, 1])  # 전체 페이오프\n",
        "payoff=np.zeros([repay_n, 1])  # 페이오프\n",
        "discount_payoff=np.zeros([repay_n, 1])  # 페이오프의 현가\n",
        "\n",
        "for j in range(repay_n):\n",
        "    payment[j]=facevalue*(1+coupon_rate[j])"
      ],
      "metadata": {
        "id": "60xCjX7gbww0"
      },
      "execution_count": 73,
      "outputs": []
    },
    {
      "cell_type": "code",
      "source": [
        "for i in range(n):\n",
        "    w0=np.random.normal(0, 1, size=[tot_date, 3])  # 만기상환일 만큼의 난수 생성\n",
        "    w0=np.transpose(w0)\n",
        "    w=np.matmul(k, w0)\n",
        "    payoff=np.zeros([repay_n, 1]); repay_event=0\n",
        "    sn11 = npr.standard_normal(tot_date)\n",
        "    poi1 = npr.poisson(lamb * dt, tot_date)\n",
        "    sn12 = npr.standard_normal(tot_date)\n",
        "    poi2 = npr.poisson(lamb * dt, tot_date)\n",
        "    sn13 = npr.standard_normal(tot_date)\n",
        "    poi3 = npr.poisson(lamb * dt, tot_date)\n",
        "    for j in range(tot_date):\n",
        "        S1[j+1]=S1[j]*np.exp((r-rj1-0.5*x_vol**2)*dt+x_vol*np.sqrt(dt)*w[0, j]+(np.exp(mu1 + delta * sn11[j]) - 1) * poi1[j])  #\n",
        "        S2[j+1]=S2[j]*np.exp((r-rj2-0.5*y_vol**2)*dt+y_vol*np.sqrt(dt)*w[1, j]+(np.exp(mu2 + delta * sn12[j]) - 1) * poi2[j])  #\n",
        "        S3[j+1]=S3[j]*np.exp((r-rj3-0.5*z_vol**2)*dt+z_vol*np.sqrt(dt)*w[2, j]+(np.exp(mu3 + delta * sn13[j]) - 1) * poi3[j])  #\n",
        "    R1=S1/ratio_S1; R2=S2/ratio_S2; R3=S3/ratio_S3\n",
        "    WP=np.minimum(R1, R2, R3)\n",
        "    WP_checkday=WP[check_day]\n",
        "\n",
        "    for j in range(repay_n):\n",
        "        if WP_checkday[j] >= strike_price[j]:  # 조기상환일에 주가를 체크, 조기 상환여부 결정\n",
        "            payoff[j]=payment[j]\n",
        "            early_count[j] += 1\n",
        "            repay_event=1\n",
        "            break\n",
        "    if repay_event == 0:  # 조기상환 되지 않고 만기까지 온 경우\n",
        "       if WP[-1] >= 0.65:  # 기준종목이 65% 이상 경우\n",
        "           payoff[-1]=facevalue*(1+dummy)\n",
        "           maturity_count += 1\n",
        "       else:  # 기준종목이 65% 미만 경우\n",
        "           payoff[-1]=facevalue*WP[-1]\n",
        "           lose_count += 1\n",
        "    tot_payoff=tot_payoff + payoff\n",
        "mean_payoff=tot_payoff/n\n",
        "for j in range(repay_n):  # 페이오프를 무위험 이자율로 할인하여 현재 가격을 구함\n",
        "    discount_payoff[j]=mean_payoff[j]*np.exp(-r*check_day[j]/oneyear)\n",
        "price=np.sum(discount_payoff)\n",
        "print(price)"
      ],
      "metadata": {
        "colab": {
          "base_uri": "https://localhost:8080/"
        },
        "id": "lget3VEUb0B5",
        "outputId": "2d736067-dfb2-4f50-968c-7bc92f6ed24c"
      },
      "execution_count": 74,
      "outputs": [
        {
          "output_type": "stream",
          "name": "stdout",
          "text": [
            "9595.724843261978\n"
          ]
        }
      ]
    },
    {
      "cell_type": "code",
      "source": [
        "print('총 시뮬레이션 횟수 : %d' % (n))\n",
        "print('조기상환 발생횟수')\n",
        "for j in range(repay_n):\n",
        "    print('%d차 : %d, 발생빈도 : %.2f' % (j+1, early_count[j], early_count[j]/n*100),\"%\")\n",
        "\n",
        "print('만기상환 발생횟수 : %d, 발생빈도 : %.2f' % (maturity_count, (maturity_count)/n*100), \"%\")\n",
        "print('만기손실 발생횟수 : %d, 발생빈도 : %.2f' % (lose_count, (lose_count/n)*100), \"%\")"
      ],
      "metadata": {
        "colab": {
          "base_uri": "https://localhost:8080/"
        },
        "id": "2u3sVXGYb5p_",
        "outputId": "e7c15a77-2177-4976-9d25-63d2ea459051"
      },
      "execution_count": 75,
      "outputs": [
        {
          "output_type": "stream",
          "name": "stdout",
          "text": [
            "총 시뮬레이션 횟수 : 10000\n",
            "조기상환 발생횟수\n",
            "1차 : 6547, 발생빈도 : 65.47 %\n",
            "2차 : 762, 발생빈도 : 7.62 %\n",
            "3차 : 544, 발생빈도 : 5.44 %\n",
            "4차 : 225, 발생빈도 : 2.25 %\n",
            "5차 : 257, 발생빈도 : 2.57 %\n",
            "6차 : 498, 발생빈도 : 4.98 %\n",
            "만기상환 발생횟수 : 0, 발생빈도 : 0.00 %\n",
            "만기손실 발생횟수 : 1167, 발생빈도 : 11.67 %\n"
          ]
        },
        {
          "output_type": "stream",
          "name": "stderr",
          "text": [
            "/tmp/ipython-input-75-2353948544.py:4: DeprecationWarning: Conversion of an array with ndim > 0 to a scalar is deprecated, and will error in future. Ensure you extract a single element from your array before performing this operation. (Deprecated NumPy 1.25.)\n",
            "  print('%d차 : %d, 발생빈도 : %.2f' % (j+1, early_count[j], early_count[j]/n*100),\"%\")\n"
          ]
        }
      ]
    },
    {
      "cell_type": "markdown",
      "source": [
        "#### Case 4(종목)"
      ],
      "metadata": {
        "id": "DXsH9QINlunL"
      }
    },
    {
      "cell_type": "markdown",
      "source": [
        "##### GBM"
      ],
      "metadata": {
        "id": "oE4HDZQRl0_6"
      }
    },
    {
      "cell_type": "code",
      "source": [
        "import numpy as np\n",
        "from numpy.ma.core import correlate\n",
        "from datetime import date\n",
        "import math\n",
        "import numpy.random as npr\n",
        "from pylab import plt, mpl"
      ],
      "metadata": {
        "id": "nr1HwWssl0ii"
      },
      "execution_count": null,
      "outputs": []
    },
    {
      "cell_type": "code",
      "source": [
        "n=10000; r=0.025\n",
        "x_vol=0.6203; y_vol=0.7143; z_vol=0.6428\n",
        "rho_xy=0.339; rho_xz=0.5981; rho_yz=0.4318  # 상관계수\n",
        "n0=date.toordinal(date(2025, 3, 13))  # 최초 기준가격 결정일\n",
        "n1=date.toordinal(date(2025, 9, 10))  # 1차 조기 상환일\n",
        "n2=date.toordinal(date(2026, 3, 10))  # 2차 조기 상환일\n",
        "n3=date.toordinal(date(2026, 9, 9))  # 3차 조기 상환일\n",
        "n4=date.toordinal(date(2027, 3, 10))  # 4차 조기 상환일\n",
        "n5=date.toordinal(date(2027, 9, 8))  # 5차 조기 상환일\n",
        "n6=date.toordinal(date(2028, 3, 8))  # 만기 평가일\n",
        "check_day=np.array([n1-n0, n2-n0, n3-n0, n4-n0, n5-n0, n6-n0])\n",
        "corr=np.array([[1, rho_xy, rho_xz], [rho_xy, 1, rho_yz], [rho_xz, rho_yz, 1]])\n",
        "k=np.linalg.cholesky(corr)\n",
        "oneyear=365; tot_date=n6-n0; dt=1/oneyear\n",
        "S1=np.zeros((tot_date+1, 1))\n",
        "S2=np.zeros((tot_date+1, 1))\n",
        "S3=np.zeros((tot_date+1, 1))\n",
        "S1[0]=100.0; S2[0]=100.0; S3[0]=100.0\n",
        "ratio_S1=S1[0]; ratio_S2=S2[0]; ratio_S3=S3[0]\n",
        "strike_price=np.array([0.85, 0.85, 0.80, 0.75, 0.70, 0.65])  # 조기 행사가격\n",
        "repay_n=len(strike_price) # 조기상환 횟수\n",
        "coupon_rate=np.array([0.11, 0.22, 0.33, 0.44, 0.55, 0.66])  # 조기 상환시 쿠폰 이자율\n",
        "kib=0.35; dummy=0.66  # 낙인 배리어, 더미 이자율\n",
        "tot_payoff=np.zeros([repay_n, 1])  # 전체 페이오프\n",
        "payoff=np.zeros([repay_n, 1])  # 페이오프\n",
        "discount_payoff=np.zeros([repay_n, 1])  # 페이오프의 현가\n",
        "payment=np.zeros([repay_n, 1])\n",
        "facevalue=10**4  # 액면금액\n",
        "early_count = np.zeros([repay_n, 1]) # 각 조기상환기간 충족횟수\n",
        "maturity_count = 0 # 만기상환 발생횟수\n",
        "lose_count = 0 # 만기손실 발생횟수\n",
        "for j in range(repay_n):\n",
        "    payment[j]=facevalue*(1+coupon_rate[j])"
      ],
      "metadata": {
        "id": "_88guyvAlzQi"
      },
      "execution_count": null,
      "outputs": []
    },
    {
      "cell_type": "code",
      "source": [
        "for i in range(n):\n",
        "    w0=np.random.normal(0, 1, size=[tot_date, 3])  # 만기상환일 만큼의 난수 생성\n",
        "    w0=np.transpose(w0)\n",
        "    w=np.matmul(k, w0)\n",
        "    payoff=np.zeros([repay_n, 1]); repay_event=0\n",
        "    for j in range(tot_date):\n",
        "        S1[j+1]=S1[j]*np.exp((r-0.5*x_vol**2)*dt+x_vol*np.sqrt(dt)*w[0, j])  #\n",
        "        S2[j+1]=S2[j]*np.exp((r-0.5*y_vol**2)*dt+y_vol*np.sqrt(dt)*w[1, j])  #\n",
        "        S3[j+1]=S3[j]*np.exp((r-0.5*z_vol**2)*dt+z_vol*np.sqrt(dt)*w[2, j])  #\n",
        "    R1=S1/ratio_S1; R2=S2/ratio_S2; R3=S3/ratio_S3\n",
        "    WP=np.minimum(R1, R2, R3)\n",
        "    WP_checkday=WP[check_day]\n",
        "\n",
        "    for j in range(repay_n):\n",
        "        if WP_checkday[j] >= strike_price[j]:  # 조기상환일에 주가를 체크, 조기 상환여부 결정\n",
        "            payoff[j]=payment[j]\n",
        "            early_count[j] += 1\n",
        "            repay_event=1\n",
        "            break\n",
        "    if repay_event == 0:  # 조기상환 되지 않고 만기까지 온 경우\n",
        "       if min(WP) > kib:  # 낙인 배리어 아래로 내려간 적이 없는 경우\n",
        "           payoff[-1]=facevalue*(1+dummy)\n",
        "           maturity_count += 1\n",
        "       else:  # 낙인 배리어 아래로 내려간 적이 있는 경우\n",
        "           payoff[-1]=facevalue*WP[-1]\n",
        "           lose_count += 1\n",
        "    tot_payoff=tot_payoff + payoff\n",
        "mean_payoff=tot_payoff/n\n",
        "for j in range(repay_n):  # 페이오프를 무위험 이자율로 할인하여 현재 가격을 구함\n",
        "    discount_payoff[j]=mean_payoff[j]*np.exp(-r*check_day[j]/oneyear)\n",
        "price=np.sum(discount_payoff)\n",
        "print(price)"
      ],
      "metadata": {
        "colab": {
          "base_uri": "https://localhost:8080/"
        },
        "id": "4mZ0XmIonU5R",
        "outputId": "1f3716f6-c7a4-42a4-8601-2a6e86308cca"
      },
      "execution_count": null,
      "outputs": [
        {
          "output_type": "stream",
          "name": "stdout",
          "text": [
            "7671.796910652914\n"
          ]
        }
      ]
    },
    {
      "cell_type": "code",
      "source": [
        "print('총 시뮬레이션 횟수 : %d' % (n))\n",
        "print('조기상환 발생횟수')\n",
        "for j in range(repay_n):\n",
        "    print('%d차 : %d, 발생빈도 : %.2f' % (j+1, early_count[j], early_count[j]/n*100),\"%\")\n",
        "\n",
        "print('만기상환 발생횟수 : %d, 발생빈도 : %.2f' % (maturity_count, (maturity_count)/n*100), \"%\")\n",
        "print('만기손실 발생횟수 : %d, 발생빈도 : %.2f' % (lose_count, (lose_count/n)*100), \"%\")"
      ],
      "metadata": {
        "colab": {
          "base_uri": "https://localhost:8080/"
        },
        "id": "U30iaHBwniGw",
        "outputId": "5ecd9ab7-8055-474b-c7fb-142af6a7a2bd"
      },
      "execution_count": null,
      "outputs": [
        {
          "output_type": "stream",
          "name": "stdout",
          "text": [
            "총 시뮬레이션 횟수 : 10000\n",
            "조기상환 발생횟수\n",
            "1차 : 3579, 발생빈도 : 35.79 %\n",
            "2차 : 822, 발생빈도 : 8.22 %\n",
            "3차 : 535, 발생빈도 : 5.35 %\n",
            "4차 : 355, 발생빈도 : 3.55 %\n",
            "5차 : 270, 발생빈도 : 2.70 %\n",
            "6차 : 198, 발생빈도 : 1.98 %\n",
            "만기상환 발생횟수 : 62, 발생빈도 : 0.62 %\n",
            "만기손실 발생횟수 : 4179, 발생빈도 : 41.79 %\n"
          ]
        },
        {
          "output_type": "stream",
          "name": "stderr",
          "text": [
            "<ipython-input-42-0e48ea33c432>:4: DeprecationWarning: Conversion of an array with ndim > 0 to a scalar is deprecated, and will error in future. Ensure you extract a single element from your array before performing this operation. (Deprecated NumPy 1.25.)\n",
            "  print('%d차 : %d, 발생빈도 : %.2f' % (j+1, early_count[j], early_count[j]/n*100),\"%\")\n"
          ]
        }
      ]
    },
    {
      "cell_type": "markdown",
      "source": [
        "##### Jump Diffusion Model"
      ],
      "metadata": {
        "id": "ydLFQkpEnqk_"
      }
    },
    {
      "cell_type": "code",
      "source": [
        "lamb = 4.2\n",
        "mu1 = -0.155\n",
        "mu2 = -0.1785\n",
        "mu3 = -0.16\n",
        "delta = 0.42"
      ],
      "metadata": {
        "id": "hKuyzXEMnqE3"
      },
      "execution_count": null,
      "outputs": []
    },
    {
      "cell_type": "code",
      "source": [
        "rj1 = lamb * (math.exp(mu1 + 0.5 * delta ** 2) - 1)\n",
        "rj2 = lamb * (math.exp(mu2 + 0.5 * delta ** 2) - 1)\n",
        "rj3 = lamb * (math.exp(mu3 + 0.5 * delta ** 2) - 1)"
      ],
      "metadata": {
        "id": "ULLQHWFdn1_9"
      },
      "execution_count": null,
      "outputs": []
    },
    {
      "cell_type": "code",
      "source": [
        "dt=1/oneyear\n",
        "S1=np.zeros([tot_date+1, 1])\n",
        "S2=np.zeros([tot_date+1, 1])\n",
        "S3=np.zeros((tot_date+1, 1))\n",
        "S1[0]=100.0; S2[0]=100.0; S3[0]=100.0\n",
        "\n",
        "early_count = np.zeros([repay_n, 1]) # 각 조기상환기간 충족횟수\n",
        "maturity_count = 0 # 만기상환 발생횟수\n",
        "lose_count = 0 # 만기손실 발생횟수\n",
        "\n",
        "payment=np.zeros([repay_n, 1])\n",
        "facevalue=10000  # 액면금액\n",
        "tot_payoff=np.zeros([repay_n, 1])  # 전체 페이오프\n",
        "payoff=np.zeros([repay_n, 1])  # 페이오프\n",
        "discount_payoff=np.zeros([repay_n, 1])  # 페이오프의 현가\n",
        "\n",
        "for j in range(repay_n):\n",
        "    payment[j]=facevalue*(1+coupon_rate[j])"
      ],
      "metadata": {
        "id": "6hSNfKMzn8S9"
      },
      "execution_count": null,
      "outputs": []
    },
    {
      "cell_type": "code",
      "source": [
        "for i in range(n):\n",
        "    w0=np.random.normal(0, 1, size=[tot_date, 3])  # 만기상환일 만큼의 난수 생성\n",
        "    w0=np.transpose(w0)\n",
        "    w=np.matmul(k, w0)\n",
        "    payoff=np.zeros([repay_n, 1]); repay_event=0\n",
        "    sn11 = npr.standard_normal(tot_date)\n",
        "    poi1 = npr.poisson(lamb * dt, tot_date)\n",
        "    sn12 = npr.standard_normal(tot_date)\n",
        "    poi2 = npr.poisson(lamb * dt, tot_date)\n",
        "    sn13 = npr.standard_normal(tot_date)\n",
        "    poi3 = npr.poisson(lamb * dt, tot_date)\n",
        "    for j in range(tot_date):\n",
        "        S1[j+1]=S1[j]*np.exp((r-rj1-0.5*x_vol**2)*dt+x_vol*np.sqrt(dt)*w[0, j]+(np.exp(mu1 + delta * sn11[j]) - 1) * poi1[j])  #\n",
        "        S2[j+1]=S2[j]*np.exp((r-rj2-0.5*y_vol**2)*dt+y_vol*np.sqrt(dt)*w[1, j]+(np.exp(mu2 + delta * sn12[j]) - 1) * poi2[j])  #\n",
        "        S3[j+1]=S3[j]*np.exp((r-rj3-0.5*z_vol**2)*dt+z_vol*np.sqrt(dt)*w[2, j]+(np.exp(mu3 + delta * sn13[j]) - 1) * poi3[j])  #\n",
        "    R1=S1/ratio_S1; R2=S2/ratio_S2; R3=S3/ratio_S3\n",
        "    WP=np.minimum(R1, R2, R3)\n",
        "    WP_checkday=WP[check_day]\n",
        "\n",
        "    for j in range(repay_n):\n",
        "        if WP_checkday[j] >= strike_price[j]:  # 조기상환일에 주가를 체크, 조기 상환여부 결정\n",
        "            payoff[j]=payment[j]\n",
        "            early_count[j] += 1\n",
        "            repay_event=1\n",
        "            break\n",
        "    if repay_event == 0:  # 조기상환 되지 않고 만기까지 온 경우\n",
        "       if min(WP) > kib:  # 낙인 배리어 아래로 내려간 적이 없는 경우\n",
        "           payoff[-1]=facevalue*(1+dummy)\n",
        "           maturity_count += 1\n",
        "       else:  # 낙인 배리어 아래로 내려간 적이 있는 경우\n",
        "           payoff[-1]=facevalue*WP[-1]\n",
        "           lose_count += 1\n",
        "    tot_payoff=tot_payoff + payoff\n",
        "mean_payoff=tot_payoff/n\n",
        "for j in range(repay_n):  # 페이오프를 무위험 이자율로 할인하여 현재 가격을 구함\n",
        "    discount_payoff[j]=mean_payoff[j]*np.exp(-r*check_day[j]/oneyear)\n",
        "price=np.sum(discount_payoff)\n",
        "print(price)"
      ],
      "metadata": {
        "colab": {
          "base_uri": "https://localhost:8080/"
        },
        "id": "Rl39QPaxoCzx",
        "outputId": "ed22b132-ff48-42a9-adcc-6eda4f0a75a8"
      },
      "execution_count": null,
      "outputs": [
        {
          "output_type": "stream",
          "name": "stdout",
          "text": [
            "6920.211641836089\n"
          ]
        }
      ]
    },
    {
      "cell_type": "code",
      "source": [
        "print('총 시뮬레이션 횟수 : %d' % (n))\n",
        "print('조기상환 발생횟수')\n",
        "for j in range(repay_n):\n",
        "    print('%d차 : %d, 발생빈도 : %.2f' % (j+1, early_count[j], early_count[j]/n*100),\"%\")\n",
        "\n",
        "print('만기상환 발생횟수 : %d, 발생빈도 : %.2f' % (maturity_count, (maturity_count)/n*100), \"%\")\n",
        "print('만기손실 발생횟수 : %d, 발생빈도 : %.2f' % (lose_count, (lose_count/n)*100), \"%\")"
      ],
      "metadata": {
        "colab": {
          "base_uri": "https://localhost:8080/"
        },
        "id": "b5qs1XfUoJQ4",
        "outputId": "cb6d12dc-f383-4c3a-aa83-3c57976c1745"
      },
      "execution_count": null,
      "outputs": [
        {
          "output_type": "stream",
          "name": "stdout",
          "text": [
            "총 시뮬레이션 횟수 : 10000\n",
            "조기상환 발생횟수\n",
            "1차 : 3001, 발생빈도 : 30.01 %\n",
            "2차 : 839, 발생빈도 : 8.39 %\n",
            "3차 : 545, 발생빈도 : 5.45 %\n",
            "4차 : 404, 발생빈도 : 4.04 %\n",
            "5차 : 273, 발생빈도 : 2.73 %\n",
            "6차 : 243, 발생빈도 : 2.43 %\n",
            "만기상환 발생횟수 : 1, 발생빈도 : 0.01 %\n",
            "만기손실 발생횟수 : 4694, 발생빈도 : 46.94 %\n"
          ]
        },
        {
          "output_type": "stream",
          "name": "stderr",
          "text": [
            "<ipython-input-88-0e48ea33c432>:4: DeprecationWarning: Conversion of an array with ndim > 0 to a scalar is deprecated, and will error in future. Ensure you extract a single element from your array before performing this operation. (Deprecated NumPy 1.25.)\n",
            "  print('%d차 : %d, 발생빈도 : %.2f' % (j+1, early_count[j], early_count[j]/n*100),\"%\")\n"
          ]
        }
      ]
    }
  ]
}