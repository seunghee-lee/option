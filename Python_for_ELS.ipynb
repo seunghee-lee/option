{
  "nbformat": 4,
  "nbformat_minor": 0,
  "metadata": {
    "colab": {
      "provenance": [],
      "authorship_tag": "ABX9TyPKL1eRBGsRDCJ/kZHGS8Ch",
      "include_colab_link": true
    },
    "kernelspec": {
      "name": "python3",
      "display_name": "Python 3"
    },
    "language_info": {
      "name": "python"
    }
  },
  "cells": [
    {
      "cell_type": "markdown",
      "metadata": {
        "id": "view-in-github",
        "colab_type": "text"
      },
      "source": [
        "<a href=\"https://colab.research.google.com/github/seunghee-lee/option/blob/main/Python_for_ELS.ipynb\" target=\"_parent\"><img src=\"https://colab.research.google.com/assets/colab-badge.svg\" alt=\"Open In Colab\"/></a>"
      ]
    },
    {
      "cell_type": "markdown",
      "source": [
        "# 파이썬 for ELS"
      ],
      "metadata": {
        "id": "vaffsUqxUe5n"
      }
    },
    {
      "cell_type": "markdown",
      "source": [
        "## 1. 기본 명령어"
      ],
      "metadata": {
        "id": "2BuSHEH4F_NC"
      }
    },
    {
      "cell_type": "code",
      "source": [
        "a=1\n",
        "print(a)"
      ],
      "metadata": {
        "colab": {
          "base_uri": "https://localhost:8080/"
        },
        "id": "xbdMFAJuGJyd",
        "outputId": "5080fea5-a3ae-41fe-d06a-0efff8c6f722"
      },
      "execution_count": 1,
      "outputs": [
        {
          "output_type": "stream",
          "name": "stdout",
          "text": [
            "1\n"
          ]
        }
      ]
    },
    {
      "cell_type": "code",
      "source": [
        "a=2\n",
        "b=a+1\n",
        "c=4/3\n",
        "d=4//3\n",
        "e=a*3\n",
        "f=b**3\n",
        "g=5%3\n",
        "print('a=%f\\n b=%f\\n c=%f\\n d=%d\\n e=%f\\n f=%f\\n g=%d' %(a,b,c,d,e,f,g))"
      ],
      "metadata": {
        "colab": {
          "base_uri": "https://localhost:8080/"
        },
        "id": "VJu8g2rhG-G6",
        "outputId": "f01b2582-66c1-425d-f9f0-2fb016305267"
      },
      "execution_count": 2,
      "outputs": [
        {
          "output_type": "stream",
          "name": "stdout",
          "text": [
            "a=2.000000\n",
            " b=3.000000\n",
            " c=1.333333\n",
            " d=1\n",
            " e=6.000000\n",
            " f=27.000000\n",
            " g=2\n"
          ]
        }
      ]
    },
    {
      "cell_type": "code",
      "source": [
        "c=[1,2,3]\n",
        "length = len(c)\n",
        "print('(c[0], c[1]), c[2]=%d %d %d'%(c[0], c[1], c[2]))\n",
        "print('length=%d'%(length))\n",
        "c=[[1,2],[3,4]]\n",
        "length = len(c)\n",
        "print('(c[0][0], c[0][1], c[1][0], c[1][1])=%d %d %d %d'%(c[0][0], c[0][1], c[1][0], c[1][1]))\n",
        "print('length=%d'%(length))"
      ],
      "metadata": {
        "colab": {
          "base_uri": "https://localhost:8080/"
        },
        "id": "8BUCC0WZKFj_",
        "outputId": "2ad669db-90f7-4330-846f-1c4697a9647c"
      },
      "execution_count": 3,
      "outputs": [
        {
          "output_type": "stream",
          "name": "stdout",
          "text": [
            "(c[0], c[1]), c[2]=1 2 3\n",
            "length=3\n",
            "(c[0][0], c[0][1], c[1][0], c[1][1])=1 2 3 4\n",
            "length=2\n"
          ]
        }
      ]
    },
    {
      "cell_type": "code",
      "source": [
        "a=range(10)\n",
        "print('a=%s'%(a))"
      ],
      "metadata": {
        "colab": {
          "base_uri": "https://localhost:8080/"
        },
        "id": "ZIQTd2-GS8bj",
        "outputId": "7b3f533e-389a-41e9-a210-837b0cedf458"
      },
      "execution_count": 4,
      "outputs": [
        {
          "output_type": "stream",
          "name": "stdout",
          "text": [
            "a=range(0, 10)\n"
          ]
        }
      ]
    },
    {
      "cell_type": "code",
      "source": [
        "import numpy as np\n",
        "a=np.arange(10)\n",
        "b=np.arange(2,10)\n",
        "c=np.arange(1,10,2)\n",
        "print('a=%s'%(a))\n",
        "print('b=%s'%(b))\n",
        "print('c=%s'%(c))"
      ],
      "metadata": {
        "colab": {
          "base_uri": "https://localhost:8080/"
        },
        "id": "14QC5TDSTkuB",
        "outputId": "9439ac13-4db2-4791-ae19-41579fdb650c"
      },
      "execution_count": 6,
      "outputs": [
        {
          "output_type": "stream",
          "name": "stdout",
          "text": [
            "a=[0 1 2 3 4 5 6 7 8 9]\n",
            "b=[2 3 4 5 6 7 8 9]\n",
            "c=[1 3 5 7 9]\n"
          ]
        }
      ]
    },
    {
      "cell_type": "code",
      "source": [
        "a=np.arange(10)\n",
        "b=a[1:5]\n",
        "c=a[-1]\n",
        "d=a[-2]\n",
        "e=a[3:-1]\n",
        "f=a[range(3)]\n",
        "print('a=%s'%(a))\n",
        "print('b=%s'%(b))\n",
        "print('c=%s'%(c))\n",
        "print('d=%s'%(d))\n",
        "print('e=%s'%(e))\n",
        "print('f=%s'%(f))"
      ],
      "metadata": {
        "colab": {
          "base_uri": "https://localhost:8080/"
        },
        "id": "DD5rL3YdVpn8",
        "outputId": "e30aee04-c3e3-47d0-b1cb-1a531bcd1b03"
      },
      "execution_count": null,
      "outputs": [
        {
          "output_type": "stream",
          "name": "stdout",
          "text": [
            "a=[0 1 2 3 4 5 6 7 8 9]\n",
            "b=[1 2 3 4]\n",
            "c=9\n",
            "d=8\n",
            "e=[3 4 5 6 7 8]\n",
            "f=[0 1 2]\n"
          ]
        }
      ]
    },
    {
      "cell_type": "code",
      "source": [
        "x1=np.array([0])\n",
        "x2=np.arange(64,132,2)\n",
        "x3=np.array([170,180,200,207,213,223,242,255,267,278,289,300])\n",
        "x=np.r_[x1,x2,x3]\n",
        "print('x=%s'%(x))"
      ],
      "metadata": {
        "colab": {
          "base_uri": "https://localhost:8080/"
        },
        "id": "owvu4eLcpG0W",
        "outputId": "c92ea33f-331a-48da-f637-076853e05748"
      },
      "execution_count": 7,
      "outputs": [
        {
          "output_type": "stream",
          "name": "stdout",
          "text": [
            "x=[  0  64  66  68  70  72  74  76  78  80  82  84  86  88  90  92  94  96\n",
            "  98 100 102 104 106 108 110 112 114 116 118 120 122 124 126 128 130 170\n",
            " 180 200 207 213 223 242 255 267 278 289 300]\n"
          ]
        }
      ]
    },
    {
      "cell_type": "code",
      "source": [
        "a=np.arange(10)\n",
        "a=a.reshape([2,5])\n",
        "print('a=%s'%(a))"
      ],
      "metadata": {
        "colab": {
          "base_uri": "https://localhost:8080/"
        },
        "id": "MHWSjqhGthPx",
        "outputId": "ee1b85f8-cab5-45e5-9db3-4eb72af37efc"
      },
      "execution_count": 8,
      "outputs": [
        {
          "output_type": "stream",
          "name": "stdout",
          "text": [
            "a=[[0 1 2 3 4]\n",
            " [5 6 7 8 9]]\n"
          ]
        }
      ]
    },
    {
      "cell_type": "code",
      "source": [
        "a=np.array([[1,2],[3,4]])\n",
        "print('a=%s'%(a))"
      ],
      "metadata": {
        "colab": {
          "base_uri": "https://localhost:8080/"
        },
        "id": "CNi-Dqo3BaRq",
        "outputId": "b3e5f0ae-e1a1-4ab9-b05d-44695f3fe713"
      },
      "execution_count": 9,
      "outputs": [
        {
          "output_type": "stream",
          "name": "stdout",
          "text": [
            "a=[[1 2]\n",
            " [3 4]]\n"
          ]
        }
      ]
    },
    {
      "cell_type": "code",
      "source": [
        "a=np.arange(10)\n",
        "b=a+2\n",
        "length1=a.size\n",
        "length2=len(a)\n",
        "print('a=%s'%(a))\n",
        "print('b=%s'%(b))\n",
        "print('length1=%d'%(length1))\n",
        "print('length2=%d'%(length2))\n",
        "c=np.multiply(a,b)\n",
        "print('c=%s'%(c))"
      ],
      "metadata": {
        "colab": {
          "base_uri": "https://localhost:8080/"
        },
        "id": "-r4R8_9DDK7A",
        "outputId": "b6845577-dce0-4ecb-d5f6-911895c63995"
      },
      "execution_count": 10,
      "outputs": [
        {
          "output_type": "stream",
          "name": "stdout",
          "text": [
            "a=[0 1 2 3 4 5 6 7 8 9]\n",
            "b=[ 2  3  4  5  6  7  8  9 10 11]\n",
            "length1=10\n",
            "length2=10\n",
            "c=[ 0  3  8 15 24 35 48 63 80 99]\n"
          ]
        }
      ]
    },
    {
      "cell_type": "code",
      "source": [
        "a=np.array([[1,2],[3,4]])\n",
        "b=a+3\n",
        "print('a=%s'%(a))\n",
        "print('b=%s'%(b))\n",
        "c=np.dot(a,b)\n",
        "d=np.multiply(a,b)\n",
        "e=a*b\n",
        "print('c=%s'%(c))\n",
        "print('d=%s'%(d))\n",
        "print('e=%s'%(e))"
      ],
      "metadata": {
        "colab": {
          "base_uri": "https://localhost:8080/"
        },
        "id": "7Ro_Ye2cSxZe",
        "outputId": "f78af84d-995a-4a18-ea2c-7e724ae8f8bd"
      },
      "execution_count": 11,
      "outputs": [
        {
          "output_type": "stream",
          "name": "stdout",
          "text": [
            "a=[[1 2]\n",
            " [3 4]]\n",
            "b=[[4 5]\n",
            " [6 7]]\n",
            "c=[[16 19]\n",
            " [36 43]]\n",
            "d=[[ 4 10]\n",
            " [18 28]]\n",
            "e=[[ 4 10]\n",
            " [18 28]]\n"
          ]
        }
      ]
    },
    {
      "cell_type": "code",
      "source": [
        "a=np.array([[1,2],[3,4]])\n",
        "b=np.transpose(a)\n",
        "print('a=%s'%(a))\n",
        "print('b=%s'%(b))"
      ],
      "metadata": {
        "colab": {
          "base_uri": "https://localhost:8080/"
        },
        "id": "-BkMGGVGWfXs",
        "outputId": "605ea7c3-c817-404b-bebc-437c90c3910e"
      },
      "execution_count": 12,
      "outputs": [
        {
          "output_type": "stream",
          "name": "stdout",
          "text": [
            "a=[[1 2]\n",
            " [3 4]]\n",
            "b=[[1 3]\n",
            " [2 4]]\n"
          ]
        }
      ]
    },
    {
      "cell_type": "code",
      "source": [
        "a=np.zeros([3])\n",
        "b=np.zeros([3,2])\n",
        "print('a=%s'%(a))\n",
        "print('b=%s'%(b))"
      ],
      "metadata": {
        "colab": {
          "base_uri": "https://localhost:8080/"
        },
        "id": "-2I2uuBDW5zM",
        "outputId": "6b9ab06a-ab44-4274-e8df-4ee51e9da2ba"
      },
      "execution_count": 13,
      "outputs": [
        {
          "output_type": "stream",
          "name": "stdout",
          "text": [
            "a=[0. 0. 0.]\n",
            "b=[[0. 0.]\n",
            " [0. 0.]\n",
            " [0. 0.]]\n"
          ]
        }
      ]
    },
    {
      "cell_type": "code",
      "source": [
        "a=np.ones([3])\n",
        "b=np.ones([3,2])\n",
        "print('a=%s'%(a))\n",
        "print('b=%s'%(b))"
      ],
      "metadata": {
        "colab": {
          "base_uri": "https://localhost:8080/"
        },
        "id": "ZxtSZ-TRW5iM",
        "outputId": "e790edbc-4b01-4438-e3c4-8678265ce480"
      },
      "execution_count": 14,
      "outputs": [
        {
          "output_type": "stream",
          "name": "stdout",
          "text": [
            "a=[1. 1. 1.]\n",
            "b=[[1. 1.]\n",
            " [1. 1.]\n",
            " [1. 1.]]\n"
          ]
        }
      ]
    },
    {
      "cell_type": "code",
      "source": [
        "a=np.array([[1,2],[3,4]])\n",
        "b=a+3\n",
        "b=a+b\n",
        "print('a=%s'%(a))\n",
        "print('b=%s'%(b))\n",
        "c=np.dot(a,b)\n",
        "print('c=%s'%(c))\n",
        "c=np.sum(np.dot(a,b))\n",
        "d=np.sum(np.dot(a,b), axis=1)\n",
        "e=np.sum(np.dot(a,b), axis=0)\n",
        "print('c=%s'%(c))\n",
        "print('d=%s'%(d))\n",
        "print('e=%s'%(e))"
      ],
      "metadata": {
        "colab": {
          "base_uri": "https://localhost:8080/"
        },
        "id": "bLf1AUAuY_Sy",
        "outputId": "3192cc26-aaa2-4bef-bc57-a331a9c16eb6"
      },
      "execution_count": 15,
      "outputs": [
        {
          "output_type": "stream",
          "name": "stdout",
          "text": [
            "a=[[1 2]\n",
            " [3 4]]\n",
            "b=[[ 5  7]\n",
            " [ 9 11]]\n",
            "c=[[23 29]\n",
            " [51 65]]\n",
            "c=168\n",
            "d=[ 52 116]\n",
            "e=[74 94]\n"
          ]
        }
      ]
    },
    {
      "cell_type": "code",
      "source": [
        "a=np.array([[1,2],[3,4]])\n",
        "b=np.identity(3)\n",
        "print('a=%s'%(a))\n",
        "print('b=%s'%(b))\n",
        "c=np.linalg.inv(a)\n",
        "d=np.linalg.cholesky(b)\n",
        "print('c=%s'%(c))\n",
        "print('d=%s'%(d))"
      ],
      "metadata": {
        "colab": {
          "base_uri": "https://localhost:8080/"
        },
        "id": "XYN20ViJdFk7",
        "outputId": "882ee525-9b48-493b-ae78-d146ea35ad94"
      },
      "execution_count": 16,
      "outputs": [
        {
          "output_type": "stream",
          "name": "stdout",
          "text": [
            "a=[[1 2]\n",
            " [3 4]]\n",
            "b=[[1. 0. 0.]\n",
            " [0. 1. 0.]\n",
            " [0. 0. 1.]]\n",
            "c=[[-2.   1. ]\n",
            " [ 1.5 -0.5]]\n",
            "d=[[1. 0. 0.]\n",
            " [0. 1. 0.]\n",
            " [0. 0. 1.]]\n"
          ]
        }
      ]
    },
    {
      "cell_type": "markdown",
      "source": [
        "#### 반복문, 조건문"
      ],
      "metadata": {
        "id": "Jit8hFSnRKvJ"
      }
    },
    {
      "cell_type": "code",
      "source": [
        "for i in range(5):\n",
        "    print(i)"
      ],
      "metadata": {
        "colab": {
          "base_uri": "https://localhost:8080/"
        },
        "id": "wu_WmUqCZNOF",
        "outputId": "f49a16e5-ad93-429c-982a-fb580291885c"
      },
      "execution_count": 17,
      "outputs": [
        {
          "output_type": "stream",
          "name": "stdout",
          "text": [
            "0\n",
            "1\n",
            "2\n",
            "3\n",
            "4\n"
          ]
        }
      ]
    },
    {
      "cell_type": "code",
      "source": [
        "a=['H','e', 'l', 'l', 'o']\n",
        "for ch in a:\n",
        "    print(ch)"
      ],
      "metadata": {
        "colab": {
          "base_uri": "https://localhost:8080/"
        },
        "id": "PfaOkgrMiZzV",
        "outputId": "7621327b-2327-4c4a-fd6e-a117fde537f6"
      },
      "execution_count": 18,
      "outputs": [
        {
          "output_type": "stream",
          "name": "stdout",
          "text": [
            "H\n",
            "e\n",
            "l\n",
            "l\n",
            "o\n"
          ]
        }
      ]
    },
    {
      "cell_type": "code",
      "source": [
        "i=0\n",
        "while i<5:\n",
        "    print(i)\n",
        "    i +=1"
      ],
      "metadata": {
        "colab": {
          "base_uri": "https://localhost:8080/"
        },
        "id": "yVlGxIlwjW4P",
        "outputId": "e1ca0f16-9e27-4e51-8acc-91f2c1693cb0"
      },
      "execution_count": 19,
      "outputs": [
        {
          "output_type": "stream",
          "name": "stdout",
          "text": [
            "0\n",
            "1\n",
            "2\n",
            "3\n",
            "4\n"
          ]
        }
      ]
    },
    {
      "cell_type": "code",
      "source": [
        "i=3\n",
        "if i>0:\n",
        "    print('Positive')\n",
        "elif i<5:\n",
        "    print('i<5')\n",
        "else:\n",
        "    print('i<=0')"
      ],
      "metadata": {
        "colab": {
          "base_uri": "https://localhost:8080/"
        },
        "id": "OPiykD5bkKCW",
        "outputId": "7a926714-801c-44bc-a7c4-9b741ca789b1"
      },
      "execution_count": 20,
      "outputs": [
        {
          "output_type": "stream",
          "name": "stdout",
          "text": [
            "Positive\n"
          ]
        }
      ]
    },
    {
      "cell_type": "code",
      "source": [
        "i=3\n",
        "if i>0:\n",
        "    print('Positive')\n",
        "if i<5:\n",
        "    print('i<5')\n",
        "else:\n",
        "    print('i<=0')"
      ],
      "metadata": {
        "colab": {
          "base_uri": "https://localhost:8080/"
        },
        "id": "gvrCmEr9nJa6",
        "outputId": "126cd719-be18-4c6b-b604-408c10396d67"
      },
      "execution_count": 21,
      "outputs": [
        {
          "output_type": "stream",
          "name": "stdout",
          "text": [
            "Positive\n",
            "i<5\n"
          ]
        }
      ]
    },
    {
      "cell_type": "code",
      "source": [
        "a=10\n",
        "b=20\n",
        "l1=(a==b)\n",
        "l2=(a!=b)\n",
        "l3=(a>b)\n",
        "l4=(a<b)\n",
        "l5=(True and False)\n",
        "l6=(True or False)\n",
        "l7=not(False)\n",
        "l8=(a==b) and (a>b)\n",
        "print(l1,l2,l3,l4,l5,l6,l7,l8)"
      ],
      "metadata": {
        "id": "vvWWLlodoBjr",
        "colab": {
          "base_uri": "https://localhost:8080/"
        },
        "outputId": "981b524c-9d92-4a18-b520-1a7b86eede72"
      },
      "execution_count": 22,
      "outputs": [
        {
          "output_type": "stream",
          "name": "stdout",
          "text": [
            "False True False True False True True False\n"
          ]
        }
      ]
    },
    {
      "cell_type": "code",
      "source": [
        "for i in range(1,8):\n",
        "    if i<6:\n",
        "        print(i)\n",
        "    if i>3:\n",
        "        break"
      ],
      "metadata": {
        "colab": {
          "base_uri": "https://localhost:8080/"
        },
        "id": "E3sx2KyM4QMS",
        "outputId": "9bcb0b45-727a-4f82-8aec-8691b77c1b3d"
      },
      "execution_count": 23,
      "outputs": [
        {
          "output_type": "stream",
          "name": "stdout",
          "text": [
            "1\n",
            "2\n",
            "3\n",
            "4\n"
          ]
        }
      ]
    },
    {
      "cell_type": "code",
      "source": [
        "for i in range(1,8):\n",
        "    for j in range(11,13):\n",
        "        if i<6:\n",
        "            print(i,j)\n",
        "        else:\n",
        "            print('i >=6')\n",
        "        if i>3:\n",
        "            print('break!')\n",
        "            break\n",
        "        print('i<=3')"
      ],
      "metadata": {
        "colab": {
          "base_uri": "https://localhost:8080/"
        },
        "id": "oDVLgPgV6AG5",
        "outputId": "dcb48e8d-27a3-4c7e-dc0d-02ed0b19c478"
      },
      "execution_count": 24,
      "outputs": [
        {
          "output_type": "stream",
          "name": "stdout",
          "text": [
            "1 11\n",
            "i<=3\n",
            "1 12\n",
            "i<=3\n",
            "2 11\n",
            "i<=3\n",
            "2 12\n",
            "i<=3\n",
            "3 11\n",
            "i<=3\n",
            "3 12\n",
            "i<=3\n",
            "4 11\n",
            "break!\n",
            "5 11\n",
            "break!\n",
            "i >=6\n",
            "break!\n",
            "i >=6\n",
            "break!\n"
          ]
        }
      ]
    },
    {
      "cell_type": "markdown",
      "source": [
        "## 2. ELS 평가에 유용한 함수들"
      ],
      "metadata": {
        "id": "HLFRGD0Qoo3r"
      }
    },
    {
      "cell_type": "markdown",
      "source": [
        "### linspace 문"
      ],
      "metadata": {
        "id": "PxBYhzc81P6u"
      }
    },
    {
      "cell_type": "code",
      "execution_count": 30,
      "metadata": {
        "colab": {
          "base_uri": "https://localhost:8080/"
        },
        "id": "d1AMHp2vvBLR",
        "outputId": "11ce3dae-4ca8-43ff-869f-769f8327e44a"
      },
      "outputs": [
        {
          "output_type": "stream",
          "name": "stdout",
          "text": [
            "[ 0.          1.02040816  2.04081633  3.06122449  4.08163265  5.10204082\n",
            "  6.12244898  7.14285714  8.16326531  9.18367347 10.20408163 11.2244898\n",
            " 12.24489796 13.26530612 14.28571429 15.30612245 16.32653061 17.34693878\n",
            " 18.36734694 19.3877551  20.40816327 21.42857143 22.44897959 23.46938776\n",
            " 24.48979592 25.51020408 26.53061224 27.55102041 28.57142857 29.59183673\n",
            " 30.6122449  31.63265306 32.65306122 33.67346939 34.69387755 35.71428571\n",
            " 36.73469388 37.75510204 38.7755102  39.79591837 40.81632653 41.83673469\n",
            " 42.85714286 43.87755102 44.89795918 45.91836735 46.93877551 47.95918367\n",
            " 48.97959184 50.        ]\n"
          ]
        }
      ],
      "source": [
        "import numpy as np\n",
        "a=np.linspace(0,50)\n",
        "print(a)"
      ]
    },
    {
      "cell_type": "code",
      "source": [
        "b=np.linspace(0,50,51)\n",
        "print(b)"
      ],
      "metadata": {
        "colab": {
          "base_uri": "https://localhost:8080/"
        },
        "id": "dc9ALzvWvGK9",
        "outputId": "e37d5097-e050-4f65-fd97-20e6fe657caa"
      },
      "execution_count": 25,
      "outputs": [
        {
          "output_type": "stream",
          "name": "stdout",
          "text": [
            "[ 0.  1.  2.  3.  4.  5.  6.  7.  8.  9. 10. 11. 12. 13. 14. 15. 16. 17.\n",
            " 18. 19. 20. 21. 22. 23. 24. 25. 26. 27. 28. 29. 30. 31. 32. 33. 34. 35.\n",
            " 36. 37. 38. 39. 40. 41. 42. 43. 44. 45. 46. 47. 48. 49. 50.]\n"
          ]
        }
      ]
    },
    {
      "cell_type": "code",
      "source": [
        "c=np.linspace(0,50,endpoint=False)\n",
        "print(c)"
      ],
      "metadata": {
        "colab": {
          "base_uri": "https://localhost:8080/"
        },
        "id": "zlvd0nYRvrYn",
        "outputId": "ee2f14e2-1555-4faf-b51c-00d1e372cfc2"
      },
      "execution_count": 26,
      "outputs": [
        {
          "output_type": "stream",
          "name": "stdout",
          "text": [
            "[ 0.  1.  2.  3.  4.  5.  6.  7.  8.  9. 10. 11. 12. 13. 14. 15. 16. 17.\n",
            " 18. 19. 20. 21. 22. 23. 24. 25. 26. 27. 28. 29. 30. 31. 32. 33. 34. 35.\n",
            " 36. 37. 38. 39. 40. 41. 42. 43. 44. 45. 46. 47. 48. 49.]\n"
          ]
        }
      ]
    },
    {
      "cell_type": "markdown",
      "source": [
        "### where 문"
      ],
      "metadata": {
        "id": "UT_yi3zx1Z71"
      }
    },
    {
      "cell_type": "code",
      "source": [
        "a=np.linspace(1,51,51)\n",
        "find = np.where(a==25)\n",
        "print(find)\n",
        "print(a[find])"
      ],
      "metadata": {
        "colab": {
          "base_uri": "https://localhost:8080/"
        },
        "id": "r1dAy7tkwFGX",
        "outputId": "1ca3df3e-68c0-4fac-ec11-08480ac78c3b"
      },
      "execution_count": 27,
      "outputs": [
        {
          "output_type": "stream",
          "name": "stdout",
          "text": [
            "(array([24]),)\n",
            "[25.]\n"
          ]
        }
      ]
    },
    {
      "cell_type": "markdown",
      "source": [
        "### 시각화"
      ],
      "metadata": {
        "id": "xacKLV671d-W"
      }
    },
    {
      "cell_type": "code",
      "source": [
        "import numpy as np\n",
        "import matplotlib.pyplot as plt\n",
        "plt.close()"
      ],
      "metadata": {
        "id": "Gis7y38txeCg"
      },
      "execution_count": 28,
      "outputs": []
    },
    {
      "cell_type": "code",
      "source": [
        "num = 50; low = 0; mid = 10; high = 10\n",
        "x = np.linspace(1, 50, num)\n",
        "y1 = np.random.randint(low, high, num)\n",
        "y2 = np.random.randint(mid, 3*high, num)\n",
        "\n",
        "plt.plot(x, y1, 'ko', label = 'plot1')\n",
        "plt.plot(x, y2, 'b--', label = 'plot2')\n",
        "plt.legend(loc='upper right')"
      ],
      "metadata": {
        "colab": {
          "base_uri": "https://localhost:8080/",
          "height": 448
        },
        "id": "7Pg-o8gP1mm4",
        "outputId": "f312e2e5-19c1-4278-cf33-462046d194f4"
      },
      "execution_count": 29,
      "outputs": [
        {
          "output_type": "execute_result",
          "data": {
            "text/plain": [
              "<matplotlib.legend.Legend at 0x791e41a4f810>"
            ]
          },
          "metadata": {},
          "execution_count": 29
        },
        {
          "output_type": "display_data",
          "data": {
            "text/plain": [
              "<Figure size 640x480 with 1 Axes>"
            ],
            "image/png": "[encoded data removed]"
          },
          "metadata": {}
        }
      ]
    },
    {
      "cell_type": "markdown",
      "source": [
        "##### 분포에 관련된 함수"
      ],
      "metadata": {
        "id": "Yi7maf5ubODX"
      }
    },
    {
      "cell_type": "code",
      "source": [
        "import numpy as np\n",
        "uniform_rnd1 = np.random.rand(3)\n",
        "uniform_rnd2 = np.random.rand(1, 3)\n",
        "norm_rnd = np.random.randn(2, 3)\n",
        "print(uniform_rnd1)\n",
        "print(uniform_rnd2)\n",
        "print(norm_rnd)"
      ],
      "metadata": {
        "colab": {
          "base_uri": "https://localhost:8080/"
        },
        "id": "yL0rb8SJIgGm",
        "outputId": "a3bc726c-f742-4a60-8ae8-4f3ef39ea9ca"
      },
      "execution_count": 31,
      "outputs": [
        {
          "output_type": "stream",
          "name": "stdout",
          "text": [
            "[0.3412703  0.66617163 0.58768226]\n",
            "[[0.77789296 0.01628345 0.11079866]]\n",
            "[[-1.18824833 -0.20876796  0.2386162 ]\n",
            " [-0.83552322 -0.54840428  0.49195137]]\n"
          ]
        }
      ]
    },
    {
      "cell_type": "code",
      "source": [
        "print(uniform_rnd1[0], uniform_rnd2[0])\n",
        "print(uniform_rnd2[0][0])\n",
        "print(norm_rnd[0][1])"
      ],
      "metadata": {
        "colab": {
          "base_uri": "https://localhost:8080/"
        },
        "id": "_wOq_ZCnTINk",
        "outputId": "6b1b9f00-e9d7-4980-b482-2d399c98ca2e"
      },
      "execution_count": 32,
      "outputs": [
        {
          "output_type": "stream",
          "name": "stdout",
          "text": [
            "0.34127030467030306 [0.77789296 0.01628345 0.11079866]\n",
            "0.7778929622971894\n",
            "-0.20876796269346007\n"
          ]
        }
      ]
    },
    {
      "cell_type": "markdown",
      "source": [
        "#### 행렬 곱셈"
      ],
      "metadata": {
        "id": "xSpv7AXXcmDn"
      }
    },
    {
      "cell_type": "code",
      "source": [
        "import time\n",
        "num = 1000\n",
        "a = np.random.rand(num, num)\n",
        "b = np.random.rand(num, num)\n",
        "timer = time.time()\n",
        "c = np.dot(a, b)\n",
        "timer = time.time() - timer\n",
        "print(\"%.3f seconds\" % timer)"
      ],
      "metadata": {
        "colab": {
          "base_uri": "https://localhost:8080/"
        },
        "id": "_NLCW44cTVwG",
        "outputId": "14a1e03f-fec7-4ac8-a5e3-2479e7948b20"
      },
      "execution_count": 33,
      "outputs": [
        {
          "output_type": "stream",
          "name": "stdout",
          "text": [
            "0.063 seconds\n"
          ]
        }
      ]
    },
    {
      "cell_type": "markdown",
      "source": [
        "#### 역행렬"
      ],
      "metadata": {
        "id": "SeuttLFTc58W"
      }
    },
    {
      "cell_type": "code",
      "source": [
        "from numpy.linalg import inv\n",
        "import numpy as np\n",
        "import time\n",
        "num = 1000\n",
        "a = np.random.rand(num, num)\n",
        "timer = time.time()\n",
        "inv_a = inv(a)\n",
        "timer = time.time() - timer\n",
        "print(\"%.3f seconds\" % timer)"
      ],
      "metadata": {
        "colab": {
          "base_uri": "https://localhost:8080/"
        },
        "id": "7ucKEEF3bNcA",
        "outputId": "98f4e06f-79c4-4b3f-9bdd-2525480853f3"
      },
      "execution_count": 34,
      "outputs": [
        {
          "output_type": "stream",
          "name": "stdout",
          "text": [
            "0.110 seconds\n"
          ]
        }
      ]
    },
    {
      "cell_type": "markdown",
      "source": [
        "### 사용자 정의 함수 만들기"
      ],
      "metadata": {
        "id": "xhSPVrwkd_Uw"
      }
    },
    {
      "cell_type": "code",
      "source": [
        "from math import sqrt\n",
        "def root_finding(a, b, c):\n",
        "    x1=(-b+sqrt(b**2-4*a*c))/(2*a)\n",
        "    x2=(-b-sqrt(b**2-4*a*c))/(2*a)\n",
        "    ans = [x1, x2]\n",
        "    return ans"
      ],
      "metadata": {
        "id": "3gsRlhsT1jiq"
      },
      "execution_count": 35,
      "outputs": []
    },
    {
      "cell_type": "code",
      "source": [
        "# example 1 : x^2 –4x +3\n",
        "a=1; b=-4; c=3\n",
        "result = root_finding(a, b, c)\n",
        "print(\"solution : \", result)\n",
        "# example 2 : (2x+1)^2\n",
        "a=4; b=4; c=1\n",
        "result = root_finding(a, b, c)\n",
        "print(\"solution : \", result)"
      ],
      "metadata": {
        "colab": {
          "base_uri": "https://localhost:8080/"
        },
        "id": "_a_HMh074jCS",
        "outputId": "5b7f0d12-1a6b-4a16-a5a8-cc1341f740cd"
      },
      "execution_count": 36,
      "outputs": [
        {
          "output_type": "stream",
          "name": "stdout",
          "text": [
            "solution :  [3.0, 1.0]\n",
            "solution :  [-0.5, -0.5]\n"
          ]
        }
      ]
    },
    {
      "cell_type": "code",
      "source": [
        "def say_hello(name, start = 'Hello'):\n",
        "  print(start, name)\n",
        "\n",
        "say_hello(\"Tom\")\n",
        "say_hello(\"Jane\", start = 'Hi!')"
      ],
      "metadata": {
        "id": "WDAXKx8ve_HM",
        "outputId": "fe4c4159-a803-401a-eec2-bc88bebceeaf",
        "colab": {
          "base_uri": "https://localhost:8080/"
        }
      },
      "execution_count": 37,
      "outputs": [
        {
          "output_type": "stream",
          "name": "stdout",
          "text": [
            "Hello Tom\n",
            "Hi! Jane\n"
          ]
        }
      ]
    },
    {
      "cell_type": "code",
      "source": [],
      "metadata": {
        "id": "gBfzJ1eEfn-m"
      },
      "execution_count": null,
      "outputs": []
    }
  ]
}