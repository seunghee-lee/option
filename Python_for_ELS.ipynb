{
  "nbformat": 4,
  "nbformat_minor": 0,
  "metadata": {
    "colab": {
      "provenance": [],
      "authorship_tag": "ABX9TyOBwIJrbtSWIM9A8F5PP2Qh",
      "include_colab_link": true
    },
    "kernelspec": {
      "name": "python3",
      "display_name": "Python 3"
    },
    "language_info": {
      "name": "python"
    }
  },
  "cells": [
    {
      "cell_type": "markdown",
      "metadata": {
        "id": "view-in-github",
        "colab_type": "text"
      },
      "source": [
        "<a href=\"https://colab.research.google.com/github/seunghee-lee/option/blob/main/Python_for_ELS.ipynb\" target=\"_parent\"><img src=\"https://colab.research.google.com/assets/colab-badge.svg\" alt=\"Open In Colab\"/></a>"
      ]
    },
    {
      "cell_type": "markdown",
      "source": [
        "# 파이썬 기초"
      ],
      "metadata": {
        "id": "vaffsUqxUe5n"
      }
    },
    {
      "cell_type": "markdown",
      "source": [
        "## 1. 기본 명령어"
      ],
      "metadata": {
        "id": "2BuSHEH4F_NC"
      }
    },
    {
      "cell_type": "code",
      "source": [
        "a=1\n",
        "print(a)"
      ],
      "metadata": {
        "colab": {
          "base_uri": "https://localhost:8080/"
        },
        "id": "xbdMFAJuGJyd",
        "outputId": "37013024-6cc1-49fa-f260-da4bafda97dc"
      },
      "execution_count": 1,
      "outputs": [
        {
          "output_type": "stream",
          "name": "stdout",
          "text": [
            "1\n"
          ]
        }
      ]
    },
    {
      "cell_type": "code",
      "source": [
        "a=2\n",
        "b=a+1\n",
        "c=4/3\n",
        "d=4//3\n",
        "e=a*3\n",
        "f=b**3\n",
        "g=5%3\n",
        "print('a=%f\\n b=%f\\n c=%f\\n d=%d\\n e=%f\\n f=%f\\n g=%d' %(a,b,c,d,e,f,g))"
      ],
      "metadata": {
        "colab": {
          "base_uri": "https://localhost:8080/"
        },
        "id": "VJu8g2rhG-G6",
        "outputId": "86202b3e-e9c4-40d9-9bdc-7840d7ef647a"
      },
      "execution_count": 2,
      "outputs": [
        {
          "output_type": "stream",
          "name": "stdout",
          "text": [
            "a=2.000000\n",
            " b=3.000000\n",
            " c=1.333333\n",
            " d=1\n",
            " e=6.000000\n",
            " f=27.000000\n",
            " g=2\n"
          ]
        }
      ]
    },
    {
      "cell_type": "code",
      "source": [
        "c=[1,2,3]\n",
        "length = len(c)\n",
        "print('(c[0], c[1]), c[2]=%d %d %d'%(c[0], c[1], c[2]))\n",
        "print('length=%d'%(length))\n",
        "c=[[1,2],[3,4]]\n",
        "length = len(c)\n",
        "print('(c[0][0], c[0][1], c[1][0], c[1][1])=%d %d %d %d'%(c[0][0], c[0][1], c[1][0], c[1][1]))\n",
        "print('length=%d'%(length))"
      ],
      "metadata": {
        "colab": {
          "base_uri": "https://localhost:8080/"
        },
        "id": "8BUCC0WZKFj_",
        "outputId": "07d1c893-c6a6-4d3c-edd7-d67bc346d356"
      },
      "execution_count": 3,
      "outputs": [
        {
          "output_type": "stream",
          "name": "stdout",
          "text": [
            "(c[0], c[1]), c[2]=1 2 3\n",
            "length=3\n",
            "(c[0][0], c[0][1], c[1][0], c[1][1])=1 2 3 4\n",
            "length=2\n"
          ]
        }
      ]
    },
    {
      "cell_type": "code",
      "source": [
        "a=range(10)\n",
        "print('a=%s'%(a))"
      ],
      "metadata": {
        "colab": {
          "base_uri": "https://localhost:8080/"
        },
        "id": "ZIQTd2-GS8bj",
        "outputId": "d130e916-56c9-4aca-fe9a-bbd48159a571"
      },
      "execution_count": 4,
      "outputs": [
        {
          "output_type": "stream",
          "name": "stdout",
          "text": [
            "a=range(0, 10)\n"
          ]
        }
      ]
    },
    {
      "cell_type": "code",
      "source": [
        "import numpy as np\n",
        "a=np.arange(10)\n",
        "b=np.arange(2,10)\n",
        "c=np.arange(1,10,2)\n",
        "print('a=%s'%(a))\n",
        "print('b=%s'%(b))\n",
        "print('c=%s'%(c))"
      ],
      "metadata": {
        "colab": {
          "base_uri": "https://localhost:8080/"
        },
        "id": "14QC5TDSTkuB",
        "outputId": "cb242c5c-fe32-4e79-ddbb-016a47bab3bb"
      },
      "execution_count": 5,
      "outputs": [
        {
          "output_type": "stream",
          "name": "stdout",
          "text": [
            "a=[0 1 2 3 4 5 6 7 8 9]\n",
            "b=[2 3 4 5 6 7 8 9]\n",
            "c=[1 3 5 7 9]\n"
          ]
        }
      ]
    },
    {
      "cell_type": "code",
      "source": [
        "a=np.arange(10)\n",
        "b=a[1:5]\n",
        "c=a[-1]\n",
        "d=a[-2]\n",
        "e=a[3:-1]\n",
        "f=a[range(3)]\n",
        "print('a=%s'%(a))\n",
        "print('b=%s'%(b))\n",
        "print('c=%s'%(c))\n",
        "print('d=%s'%(d))\n",
        "print('e=%s'%(e))\n",
        "print('f=%s'%(f))"
      ],
      "metadata": {
        "colab": {
          "base_uri": "https://localhost:8080/"
        },
        "id": "DD5rL3YdVpn8",
        "outputId": "e30aee04-c3e3-47d0-b1cb-1a531bcd1b03"
      },
      "execution_count": 6,
      "outputs": [
        {
          "output_type": "stream",
          "name": "stdout",
          "text": [
            "a=[0 1 2 3 4 5 6 7 8 9]\n",
            "b=[1 2 3 4]\n",
            "c=9\n",
            "d=8\n",
            "e=[3 4 5 6 7 8]\n",
            "f=[0 1 2]\n"
          ]
        }
      ]
    },
    {
      "cell_type": "code",
      "source": [
        "x1=np.array([0])\n",
        "x2=np.arange(64,132,2)\n",
        "x3=np.array([170,180,200,207,213,223,242,255,267,278,289,300])\n",
        "x=np.r_[x1,x2,x3]\n",
        "print('x=%s'%(x))"
      ],
      "metadata": {
        "colab": {
          "base_uri": "https://localhost:8080/"
        },
        "id": "owvu4eLcpG0W",
        "outputId": "c777d9dc-ed7d-4307-a262-bedaa06085b1"
      },
      "execution_count": 7,
      "outputs": [
        {
          "output_type": "stream",
          "name": "stdout",
          "text": [
            "x=[  0  64  66  68  70  72  74  76  78  80  82  84  86  88  90  92  94  96\n",
            "  98 100 102 104 106 108 110 112 114 116 118 120 122 124 126 128 130 170\n",
            " 180 200 207 213 223 242 255 267 278 289 300]\n"
          ]
        }
      ]
    },
    {
      "cell_type": "code",
      "source": [
        "a=np.arange(10)\n",
        "a=a.reshape([2,5])\n",
        "print('a=%s'%(a))"
      ],
      "metadata": {
        "colab": {
          "base_uri": "https://localhost:8080/"
        },
        "id": "MHWSjqhGthPx",
        "outputId": "6b1d9554-893e-4c4a-f649-0b9bbb94c73d"
      },
      "execution_count": 8,
      "outputs": [
        {
          "output_type": "stream",
          "name": "stdout",
          "text": [
            "a=[[0 1 2 3 4]\n",
            " [5 6 7 8 9]]\n"
          ]
        }
      ]
    },
    {
      "cell_type": "code",
      "source": [
        "a=np.array([[1,2],[3,4]])\n",
        "print('a=%s'%(a))"
      ],
      "metadata": {
        "colab": {
          "base_uri": "https://localhost:8080/"
        },
        "id": "CNi-Dqo3BaRq",
        "outputId": "c107e417-d253-4ca2-ae9f-aef2e2624717"
      },
      "execution_count": 9,
      "outputs": [
        {
          "output_type": "stream",
          "name": "stdout",
          "text": [
            "a=[[1 2]\n",
            " [3 4]]\n"
          ]
        }
      ]
    },
    {
      "cell_type": "code",
      "source": [
        "a=np.arange(10)\n",
        "b=a+2\n",
        "length1=a.size\n",
        "length2=len(a)\n",
        "print('a=%s'%(a))\n",
        "print('b=%s'%(b))\n",
        "print('length1=%d'%(length1))\n",
        "print('length2=%d'%(length2))\n",
        "c=np.multiply(a,b)\n",
        "print('c=%s'%(c))"
      ],
      "metadata": {
        "colab": {
          "base_uri": "https://localhost:8080/"
        },
        "id": "-r4R8_9DDK7A",
        "outputId": "f24d357a-c7ff-432a-e91d-46ccd14b80d7"
      },
      "execution_count": 10,
      "outputs": [
        {
          "output_type": "stream",
          "name": "stdout",
          "text": [
            "a=[0 1 2 3 4 5 6 7 8 9]\n",
            "b=[ 2  3  4  5  6  7  8  9 10 11]\n",
            "length1=10\n",
            "length2=10\n",
            "c=[ 0  3  8 15 24 35 48 63 80 99]\n"
          ]
        }
      ]
    },
    {
      "cell_type": "code",
      "source": [
        "a=np.array([[1,2],[3,4]])\n",
        "b=a+3\n",
        "print('a=%s'%(a))\n",
        "print('b=%s'%(b))\n",
        "c=np.dot(a,b)\n",
        "d=np.multiply(a,b)\n",
        "e=a*b\n",
        "print('c=%s'%(c))\n",
        "print('d=%s'%(d))\n",
        "print('e=%s'%(e))"
      ],
      "metadata": {
        "colab": {
          "base_uri": "https://localhost:8080/"
        },
        "id": "7Ro_Ye2cSxZe",
        "outputId": "5e358006-f580-4abd-dcbe-da41b2cfab6f"
      },
      "execution_count": 12,
      "outputs": [
        {
          "output_type": "stream",
          "name": "stdout",
          "text": [
            "a=[[1 2]\n",
            " [3 4]]\n",
            "b=[[4 5]\n",
            " [6 7]]\n",
            "c=[[16 19]\n",
            " [36 43]]\n",
            "d=[[ 4 10]\n",
            " [18 28]]\n",
            "e=[[ 4 10]\n",
            " [18 28]]\n"
          ]
        }
      ]
    },
    {
      "cell_type": "code",
      "source": [
        "a=np.array([[1,2],[3,4]])\n",
        "b=np.transpose(a)\n",
        "print('a=%s'%(a))\n",
        "print('b=%s'%(b))"
      ],
      "metadata": {
        "colab": {
          "base_uri": "https://localhost:8080/"
        },
        "id": "-BkMGGVGWfXs",
        "outputId": "db0a50a9-f9b7-4219-e147-332c4a02f93e"
      },
      "execution_count": 13,
      "outputs": [
        {
          "output_type": "stream",
          "name": "stdout",
          "text": [
            "a=[[1 2]\n",
            " [3 4]]\n",
            "b=[[1 3]\n",
            " [2 4]]\n"
          ]
        }
      ]
    },
    {
      "cell_type": "code",
      "source": [
        "a=np.zeros([3])\n",
        "b=np.zeros([3,2])\n",
        "print('a=%s'%(a))\n",
        "print('b=%s'%(b))"
      ],
      "metadata": {
        "colab": {
          "base_uri": "https://localhost:8080/"
        },
        "id": "-2I2uuBDW5zM",
        "outputId": "0af56ebb-7345-4422-d4cf-c62fc05f1456"
      },
      "execution_count": 14,
      "outputs": [
        {
          "output_type": "stream",
          "name": "stdout",
          "text": [
            "a=[0. 0. 0.]\n",
            "b=[[0. 0.]\n",
            " [0. 0.]\n",
            " [0. 0.]]\n"
          ]
        }
      ]
    },
    {
      "cell_type": "code",
      "source": [
        "a=np.ones([3])\n",
        "b=np.ones([3,2])\n",
        "print('a=%s'%(a))\n",
        "print('b=%s'%(b))"
      ],
      "metadata": {
        "colab": {
          "base_uri": "https://localhost:8080/"
        },
        "id": "ZxtSZ-TRW5iM",
        "outputId": "94922b39-8303-443e-f48b-cd2b9f7bce3d"
      },
      "execution_count": 15,
      "outputs": [
        {
          "output_type": "stream",
          "name": "stdout",
          "text": [
            "a=[1. 1. 1.]\n",
            "b=[[1. 1.]\n",
            " [1. 1.]\n",
            " [1. 1.]]\n"
          ]
        }
      ]
    },
    {
      "cell_type": "code",
      "source": [
        "a=np.array([[1,2],[3,4]])\n",
        "b=a+3\n",
        "b=a+b\n",
        "print('a=%s'%(a))\n",
        "print('b=%s'%(b))\n",
        "c=np.dot(a,b)\n",
        "print('c=%s'%(c))\n",
        "c=np.sum(np.dot(a,b))\n",
        "d=np.sum(np.dot(a,b), axis=1)\n",
        "e=np.sum(np.dot(a,b), axis=0)\n",
        "print('c=%s'%(c))\n",
        "print('d=%s'%(d))\n",
        "print('e=%s'%(e))"
      ],
      "metadata": {
        "colab": {
          "base_uri": "https://localhost:8080/"
        },
        "id": "bLf1AUAuY_Sy",
        "outputId": "0ea4a127-67a3-4305-d47f-0e94626922e0"
      },
      "execution_count": 16,
      "outputs": [
        {
          "output_type": "stream",
          "name": "stdout",
          "text": [
            "a=[[1 2]\n",
            " [3 4]]\n",
            "b=[[ 5  7]\n",
            " [ 9 11]]\n",
            "c=[[23 29]\n",
            " [51 65]]\n",
            "c=168\n",
            "d=[ 52 116]\n",
            "e=[74 94]\n"
          ]
        }
      ]
    },
    {
      "cell_type": "code",
      "source": [
        "a=np.array([[1,2],[3,4]])\n",
        "b=np.identity(3)\n",
        "print('a=%s'%(a))\n",
        "print('b=%s'%(b))\n",
        "c=np.linalg.inv(a)\n",
        "d=np.linalg.cholesky(b)\n",
        "print('c=%s'%(c))\n",
        "print('d=%s'%(d))"
      ],
      "metadata": {
        "colab": {
          "base_uri": "https://localhost:8080/"
        },
        "id": "XYN20ViJdFk7",
        "outputId": "1b4be3d1-75e0-44d8-c46b-df0928aca74b"
      },
      "execution_count": 17,
      "outputs": [
        {
          "output_type": "stream",
          "name": "stdout",
          "text": [
            "a=[[1 2]\n",
            " [3 4]]\n",
            "b=[[1. 0. 0.]\n",
            " [0. 1. 0.]\n",
            " [0. 0. 1.]]\n",
            "c=[[-2.   1. ]\n",
            " [ 1.5 -0.5]]\n",
            "d=[[1. 0. 0.]\n",
            " [0. 1. 0.]\n",
            " [0. 0. 1.]]\n"
          ]
        }
      ]
    },
    {
      "cell_type": "code",
      "source": [
        "for i in range(5):\n",
        "    print(i)"
      ],
      "metadata": {
        "colab": {
          "base_uri": "https://localhost:8080/"
        },
        "id": "wu_WmUqCZNOF",
        "outputId": "98797b75-d9e0-4af0-c23b-f70573daa1f6"
      },
      "execution_count": 18,
      "outputs": [
        {
          "output_type": "stream",
          "name": "stdout",
          "text": [
            "0\n",
            "1\n",
            "2\n",
            "3\n",
            "4\n"
          ]
        }
      ]
    },
    {
      "cell_type": "code",
      "source": [
        "a=['H','e', 'l', 'l', 'o']\n",
        "for ch in a:\n",
        "    print(ch)"
      ],
      "metadata": {
        "colab": {
          "base_uri": "https://localhost:8080/"
        },
        "id": "PfaOkgrMiZzV",
        "outputId": "7516fde4-72b1-4de4-b6da-83960f5b0354"
      },
      "execution_count": 19,
      "outputs": [
        {
          "output_type": "stream",
          "name": "stdout",
          "text": [
            "H\n",
            "e\n",
            "l\n",
            "l\n",
            "o\n"
          ]
        }
      ]
    },
    {
      "cell_type": "code",
      "source": [
        "i=0\n",
        "while i<5:\n",
        "    print(i)\n",
        "    i +=1"
      ],
      "metadata": {
        "colab": {
          "base_uri": "https://localhost:8080/"
        },
        "id": "yVlGxIlwjW4P",
        "outputId": "06e6e73c-29dc-4a80-c122-1265b8f440eb"
      },
      "execution_count": 20,
      "outputs": [
        {
          "output_type": "stream",
          "name": "stdout",
          "text": [
            "0\n",
            "1\n",
            "2\n",
            "3\n",
            "4\n"
          ]
        }
      ]
    },
    {
      "cell_type": "code",
      "source": [
        "i=3\n",
        "if i>0:\n",
        "    print('Positive')\n",
        "elif i<5:\n",
        "    print('i<5')\n",
        "else:\n",
        "    print('i<=0')"
      ],
      "metadata": {
        "colab": {
          "base_uri": "https://localhost:8080/"
        },
        "id": "OPiykD5bkKCW",
        "outputId": "39589b1d-b861-4825-bd63-09b6b3b4bf19"
      },
      "execution_count": 21,
      "outputs": [
        {
          "output_type": "stream",
          "name": "stdout",
          "text": [
            "Positive\n"
          ]
        }
      ]
    },
    {
      "cell_type": "code",
      "source": [
        "i=3\n",
        "if i>0:\n",
        "    print('Positive')\n",
        "if i<5:\n",
        "    print('i<5')\n",
        "else:\n",
        "    print('i<=0')"
      ],
      "metadata": {
        "colab": {
          "base_uri": "https://localhost:8080/"
        },
        "id": "gvrCmEr9nJa6",
        "outputId": "6f178f65-87e2-49ef-9ac9-8f8ad5f7a4ea"
      },
      "execution_count": 22,
      "outputs": [
        {
          "output_type": "stream",
          "name": "stdout",
          "text": [
            "Positive\n",
            "i<5\n"
          ]
        }
      ]
    },
    {
      "cell_type": "code",
      "source": [
        "a=10\n",
        "b=20\n",
        "l1=(a==b)\n",
        "l2=(a!=b)\n",
        "l3=(a>b)\n",
        "l4=(a<b)\n",
        "l5=(True and False)\n",
        "l6=(True or False)\n",
        "l7=not(False)\n",
        "l8=(a==b) and (a>b)\n",
        "print(l1,l2,l3,l4,l5,l6,l7,l8)"
      ],
      "metadata": {
        "id": "vvWWLlodoBjr",
        "colab": {
          "base_uri": "https://localhost:8080/"
        },
        "outputId": "0e8ed504-a4de-4c95-dfad-47a2240e5e8e"
      },
      "execution_count": 23,
      "outputs": [
        {
          "output_type": "stream",
          "name": "stdout",
          "text": [
            "False True False True False True True False\n"
          ]
        }
      ]
    },
    {
      "cell_type": "code",
      "source": [
        "for i in range(1,8):\n",
        "    if i<6:\n",
        "        print(i)\n",
        "    if i>3:\n",
        "        break"
      ],
      "metadata": {
        "colab": {
          "base_uri": "https://localhost:8080/"
        },
        "id": "E3sx2KyM4QMS",
        "outputId": "cb582e3b-a55f-4c8d-be51-312efd0a8aaa"
      },
      "execution_count": 24,
      "outputs": [
        {
          "output_type": "stream",
          "name": "stdout",
          "text": [
            "1\n",
            "2\n",
            "3\n",
            "4\n"
          ]
        }
      ]
    },
    {
      "cell_type": "code",
      "source": [
        "for i in range(1,8):\n",
        "    for j in range(11,13):\n",
        "        if i<6:\n",
        "            print(i,j)\n",
        "        else:\n",
        "            print('i >=6')\n",
        "        if i>3:\n",
        "            print('break!')\n",
        "            break\n",
        "        print('i<=3')"
      ],
      "metadata": {
        "colab": {
          "base_uri": "https://localhost:8080/"
        },
        "id": "oDVLgPgV6AG5",
        "outputId": "269cad85-43cb-4d23-a59c-714e3bbc1a40"
      },
      "execution_count": 25,
      "outputs": [
        {
          "output_type": "stream",
          "name": "stdout",
          "text": [
            "1 11\n",
            "i<=3\n",
            "1 12\n",
            "i<=3\n",
            "2 11\n",
            "i<=3\n",
            "2 12\n",
            "i<=3\n",
            "3 11\n",
            "i<=3\n",
            "3 12\n",
            "i<=3\n",
            "4 11\n",
            "break!\n",
            "5 11\n",
            "break!\n",
            "i >=6\n",
            "break!\n",
            "i >=6\n",
            "break!\n"
          ]
        }
      ]
    },
    {
      "cell_type": "markdown",
      "source": [
        "## 2. ELS 평가에 유용한 함수들"
      ],
      "metadata": {
        "id": "HLFRGD0Qoo3r"
      }
    },
    {
      "cell_type": "markdown",
      "source": [
        "### linspace 문"
      ],
      "metadata": {
        "id": "PxBYhzc81P6u"
      }
    },
    {
      "cell_type": "code",
      "execution_count": 26,
      "metadata": {
        "colab": {
          "base_uri": "https://localhost:8080/"
        },
        "id": "d1AMHp2vvBLR",
        "outputId": "469ebd34-4869-4aad-f1b3-e88230fb7b2d"
      },
      "outputs": [
        {
          "output_type": "stream",
          "name": "stdout",
          "text": [
            "[ 0.          1.02040816  2.04081633  3.06122449  4.08163265  5.10204082\n",
            "  6.12244898  7.14285714  8.16326531  9.18367347 10.20408163 11.2244898\n",
            " 12.24489796 13.26530612 14.28571429 15.30612245 16.32653061 17.34693878\n",
            " 18.36734694 19.3877551  20.40816327 21.42857143 22.44897959 23.46938776\n",
            " 24.48979592 25.51020408 26.53061224 27.55102041 28.57142857 29.59183673\n",
            " 30.6122449  31.63265306 32.65306122 33.67346939 34.69387755 35.71428571\n",
            " 36.73469388 37.75510204 38.7755102  39.79591837 40.81632653 41.83673469\n",
            " 42.85714286 43.87755102 44.89795918 45.91836735 46.93877551 47.95918367\n",
            " 48.97959184 50.        ]\n"
          ]
        }
      ],
      "source": [
        "import numpy as np\n",
        "a=np.linspace(0,50)\n",
        "print(a)"
      ]
    },
    {
      "cell_type": "code",
      "source": [
        "b=np.linspace(0,50,51)\n",
        "print(b)"
      ],
      "metadata": {
        "colab": {
          "base_uri": "https://localhost:8080/"
        },
        "id": "dc9ALzvWvGK9",
        "outputId": "03c7b142-4558-4e69-b3fa-801d187b359e"
      },
      "execution_count": 28,
      "outputs": [
        {
          "output_type": "stream",
          "name": "stdout",
          "text": [
            "[ 0.  1.  2.  3.  4.  5.  6.  7.  8.  9. 10. 11. 12. 13. 14. 15. 16. 17.\n",
            " 18. 19. 20. 21. 22. 23. 24. 25. 26. 27. 28. 29. 30. 31. 32. 33. 34. 35.\n",
            " 36. 37. 38. 39. 40. 41. 42. 43. 44. 45. 46. 47. 48. 49. 50.]\n"
          ]
        }
      ]
    },
    {
      "cell_type": "code",
      "source": [
        "c=np.linspace(0,50,endpoint=False)\n",
        "print(c)"
      ],
      "metadata": {
        "colab": {
          "base_uri": "https://localhost:8080/"
        },
        "id": "zlvd0nYRvrYn",
        "outputId": "d0c297d4-9dc1-4a69-d032-6c55a8031634"
      },
      "execution_count": 29,
      "outputs": [
        {
          "output_type": "stream",
          "name": "stdout",
          "text": [
            "[ 0.  1.  2.  3.  4.  5.  6.  7.  8.  9. 10. 11. 12. 13. 14. 15. 16. 17.\n",
            " 18. 19. 20. 21. 22. 23. 24. 25. 26. 27. 28. 29. 30. 31. 32. 33. 34. 35.\n",
            " 36. 37. 38. 39. 40. 41. 42. 43. 44. 45. 46. 47. 48. 49.]\n"
          ]
        }
      ]
    },
    {
      "cell_type": "markdown",
      "source": [
        "### where 문"
      ],
      "metadata": {
        "id": "UT_yi3zx1Z71"
      }
    },
    {
      "cell_type": "code",
      "source": [
        "a=np.linspace(1,51,51)\n",
        "find = np.where(a==25)\n",
        "print(find)\n",
        "print(a[find])"
      ],
      "metadata": {
        "colab": {
          "base_uri": "https://localhost:8080/"
        },
        "id": "r1dAy7tkwFGX",
        "outputId": "0d6ccaa6-e365-444b-eed8-7940fe71a9dc"
      },
      "execution_count": 31,
      "outputs": [
        {
          "output_type": "stream",
          "name": "stdout",
          "text": [
            "(array([24]),)\n",
            "[25.]\n"
          ]
        }
      ]
    },
    {
      "cell_type": "markdown",
      "source": [
        "### 시각화"
      ],
      "metadata": {
        "id": "xacKLV671d-W"
      }
    },
    {
      "cell_type": "code",
      "source": [
        "import numpy as np\n",
        "import matplotlib.pyplot as plt\n",
        "%matplotlib inline\n",
        "plt.close()"
      ],
      "metadata": {
        "id": "Gis7y38txeCg"
      },
      "execution_count": 32,
      "outputs": []
    },
    {
      "cell_type": "code",
      "source": [
        "num = 50; low = 0; mid = 10; high = 10\n",
        "x = np.linspace(1, 50, num)\n",
        "y1 = np.random.randint(low, high, num)\n",
        "y2 = np.random.randint(mid, 3*high, num)\n",
        "\n",
        "plt.plot(x, y1, 'ko', label = 'plot1')\n",
        "plt.plot(x, y2, 'b--', label = 'plot2')\n",
        "plt.legend(loc='upper right')"
      ],
      "metadata": {
        "colab": {
          "base_uri": "https://localhost:8080/",
          "height": 448
        },
        "id": "7Pg-o8gP1mm4",
        "outputId": "e478fcc3-d401-439a-aa9d-4a668945aa98"
      },
      "execution_count": 33,
      "outputs": [
        {
          "output_type": "execute_result",
          "data": {
            "text/plain": [
              "<matplotlib.legend.Legend at 0x79570c0801d0>"
            ]
          },
          "metadata": {},
          "execution_count": 33
        },
        {
          "output_type": "display_data",
          "data": {
            "text/plain": [
              "<Figure size 640x480 with 1 Axes>"
            ],
            "image/png": "[encoded data removed]"
          },
          "metadata": {}
        }
      ]
    },
    {
      "cell_type": "code",
      "source": [
        "import numpy as np\n",
        "uniform_rnd1 = np.random.rand(3)\n",
        "uniform_rnd2 = np.random.rand(1, 3)\n",
        "norm_rnd = np.random.randn(2, 3)\n",
        "print(uniform_rnd1)\n",
        "print(uniform_rnd2)\n",
        "print(norm_rnd)"
      ],
      "metadata": {
        "colab": {
          "base_uri": "https://localhost:8080/"
        },
        "id": "yL0rb8SJIgGm",
        "outputId": "46f01975-b787-44fa-e4c9-a8408805fab0"
      },
      "execution_count": 34,
      "outputs": [
        {
          "output_type": "stream",
          "name": "stdout",
          "text": [
            "[0.58996678 0.35319137 0.11920111]\n",
            "[[0.5380953  0.72552823 0.26994277]]\n",
            "[[1.46941722 0.13127869 0.41626126]\n",
            " [1.828018   0.16659771 0.31002882]]\n"
          ]
        }
      ]
    },
    {
      "cell_type": "code",
      "source": [
        "print(uniform_rnd1[0], uniform_rnd2[0])\n",
        "print(uniform_rnd2[0][0])\n",
        "print(norm_rnd[0][1])"
      ],
      "metadata": {
        "colab": {
          "base_uri": "https://localhost:8080/"
        },
        "id": "_wOq_ZCnTINk",
        "outputId": "4e39a7fe-596d-4539-94af-198b7996b1af"
      },
      "execution_count": 35,
      "outputs": [
        {
          "output_type": "stream",
          "name": "stdout",
          "text": [
            "0.5899667787365833 [0.5380953  0.72552823 0.26994277]\n",
            "0.5380953032565692\n",
            "0.13127869459381267\n"
          ]
        }
      ]
    },
    {
      "cell_type": "code",
      "source": [
        "import time\n",
        "num = 1000\n",
        "a = np.random.rand(num, num)\n",
        "b = np.random.rand(num, num)\n",
        "timer = time.time()\n",
        "c = np.dot(a, b)\n",
        "timer = time.time() - timer\n",
        "print(\"%.3f seconds\" % timer)"
      ],
      "metadata": {
        "colab": {
          "base_uri": "https://localhost:8080/"
        },
        "id": "_NLCW44cTVwG",
        "outputId": "7c921dd4-245b-4218-bd44-126392a0802c"
      },
      "execution_count": 36,
      "outputs": [
        {
          "output_type": "stream",
          "name": "stdout",
          "text": [
            "0.076 seconds\n"
          ]
        }
      ]
    },
    {
      "cell_type": "code",
      "source": [
        "from numpy.linalg import inv\n",
        "import numpy as np\n",
        "import time\n",
        "num = 1000\n",
        "a = np.random.rand(num, num)\n",
        "timer = time.time()\n",
        "inv_a = inv(a)\n",
        "timer = time.time() - timer\n",
        "print(\"%.3f seconds\" % timer)"
      ],
      "metadata": {
        "colab": {
          "base_uri": "https://localhost:8080/"
        },
        "id": "7ucKEEF3bNcA",
        "outputId": "6b1ec414-f8bd-40ad-83a9-240cc427261d"
      },
      "execution_count": 37,
      "outputs": [
        {
          "output_type": "stream",
          "name": "stdout",
          "text": [
            "0.136 seconds\n"
          ]
        }
      ]
    },
    {
      "cell_type": "code",
      "source": [
        "from math import sqrt\n",
        "def root_finding(a, b, c):\n",
        "    x1=(-b+sqrt(b**2-4*a*c))/(2*a)\n",
        "    x2=(-b-sqrt(b**2-4*a*c))/(2*a)\n",
        "    ans = [x1, x2]\n",
        "    return ans"
      ],
      "metadata": {
        "id": "3gsRlhsT1jiq"
      },
      "execution_count": 38,
      "outputs": []
    },
    {
      "cell_type": "code",
      "source": [
        "# example 1 : x^2 –4x +3\n",
        "a=1; b=-4; c=3\n",
        "result = root_finding(a, b, c)\n",
        "print(\"solution : \", result)\n",
        "# example 2 : (2x+1)^2\n",
        "a=4; b=4; c=1\n",
        "result = root_finding(a, b, c)\n",
        "print(\"solution : \", result)"
      ],
      "metadata": {
        "colab": {
          "base_uri": "https://localhost:8080/"
        },
        "id": "_a_HMh074jCS",
        "outputId": "1d64cf62-97ff-4251-eab7-332f8dd7a9de"
      },
      "execution_count": 40,
      "outputs": [
        {
          "output_type": "stream",
          "name": "stdout",
          "text": [
            "solution :  [3.0, 1.0]\n",
            "solution :  [-0.5, -0.5]\n"
          ]
        }
      ]
    }
  ]
}